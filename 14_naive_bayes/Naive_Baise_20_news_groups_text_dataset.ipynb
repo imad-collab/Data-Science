{
 "cells": [
  {
   "cell_type": "code",
   "execution_count": 38,
   "id": "e37ab972",
   "metadata": {
    "ExecuteTime": {
     "end_time": "2022-12-22T08:37:33.743666Z",
     "start_time": "2022-12-22T08:37:33.277819Z"
    }
   },
   "outputs": [],
   "source": [
    "import pandas as pd\n",
    "from sklearn.datasets import fetch_20newsgroups\n",
    "data=fetch_20newsgroups()"
   ]
  },
  {
   "cell_type": "code",
   "execution_count": 39,
   "id": "16e02a43",
   "metadata": {
    "ExecuteTime": {
     "end_time": "2022-12-22T08:37:33.759626Z",
     "start_time": "2022-12-22T08:37:33.748704Z"
    }
   },
   "outputs": [
    {
     "data": {
      "text/plain": [
       "['DESCR', 'data', 'filenames', 'target', 'target_names']"
      ]
     },
     "execution_count": 39,
     "metadata": {},
     "output_type": "execute_result"
    }
   ],
   "source": [
    "dir(data)"
   ]
  },
  {
   "cell_type": "code",
   "execution_count": 40,
   "id": "e7c45b5f",
   "metadata": {
    "ExecuteTime": {
     "end_time": "2022-12-22T08:37:33.774619Z",
     "start_time": "2022-12-22T08:37:33.761622Z"
    }
   },
   "outputs": [
    {
     "data": {
      "text/plain": [
       "['alt.atheism',\n",
       " 'comp.graphics',\n",
       " 'comp.os.ms-windows.misc',\n",
       " 'comp.sys.ibm.pc.hardware',\n",
       " 'comp.sys.mac.hardware',\n",
       " 'comp.windows.x',\n",
       " 'misc.forsale',\n",
       " 'rec.autos',\n",
       " 'rec.motorcycles',\n",
       " 'rec.sport.baseball',\n",
       " 'rec.sport.hockey',\n",
       " 'sci.crypt',\n",
       " 'sci.electronics',\n",
       " 'sci.med',\n",
       " 'sci.space',\n",
       " 'soc.religion.christian',\n",
       " 'talk.politics.guns',\n",
       " 'talk.politics.mideast',\n",
       " 'talk.politics.misc',\n",
       " 'talk.religion.misc']"
      ]
     },
     "execution_count": 40,
     "metadata": {},
     "output_type": "execute_result"
    }
   ],
   "source": [
    "data.target_names"
   ]
  },
  {
   "cell_type": "code",
   "execution_count": 41,
   "id": "33c42a65",
   "metadata": {
    "ExecuteTime": {
     "end_time": "2022-12-22T08:37:34.952237Z",
     "start_time": "2022-12-22T08:37:33.828043Z"
    }
   },
   "outputs": [],
   "source": [
    "train=fetch_20newsgroups(subset='train')\n",
    "test=fetch_20newsgroups(subset='test')"
   ]
  },
  {
   "cell_type": "markdown",
   "id": "bb361348",
   "metadata": {},
   "source": [
    "# ONLY 4 GROUPS"
   ]
  },
  {
   "cell_type": "code",
   "execution_count": 42,
   "id": "b129292c",
   "metadata": {
    "ExecuteTime": {
     "end_time": "2022-12-22T08:37:34.967805Z",
     "start_time": "2022-12-22T08:37:34.957225Z"
    }
   },
   "outputs": [
    {
     "data": {
      "text/plain": [
       "['talk.religion.misc', 'rec.motorcycles', 'sci.space', 'comp.graphics']"
      ]
     },
     "execution_count": 42,
     "metadata": {},
     "output_type": "execute_result"
    }
   ],
   "source": [
    "cats=['talk.religion.misc','rec.motorcycles','sci.space','comp.graphics']\n",
    "cats"
   ]
  },
  {
   "cell_type": "code",
   "execution_count": 46,
   "id": "6780b90c",
   "metadata": {
    "ExecuteTime": {
     "end_time": "2022-12-22T08:39:55.355973Z",
     "start_time": "2022-12-22T08:39:54.260146Z"
    }
   },
   "outputs": [],
   "source": [
    "train_1=fetch_20newsgroups(subset='train',categories=cats)\n",
    "test_2=fetch_20newsgroups(subset='test',categories=cats)"
   ]
  },
  {
   "cell_type": "code",
   "execution_count": 49,
   "id": "7f2bfca2",
   "metadata": {
    "ExecuteTime": {
     "end_time": "2022-12-22T08:40:36.962528Z",
     "start_time": "2022-12-22T08:40:36.951022Z"
    }
   },
   "outputs": [
    {
     "name": "stdout",
     "output_type": "stream",
     "text": [
      "From: lfoard@hopper.Virginia.EDU (Lawrence C. Foard)\n",
      "Subject: Re: The bad press Islam has recieved.\n",
      "Organization: ITC/UVA Community Access UNIX/Internet Project\n",
      "Lines: 34\n",
      "\n",
      "In article <buddha.735157446@du248-07.cc.iastate.edu> buddha@iastate.edu (Scott H Vann) writes:\n",
      ">\n",
      ">\tI recently read an article in a local paper written by an Islamic\n",
      ">  person who was upset with the way Islam has been portrayed by western media.\n",
      ">  When a terrorist action takes place in the middle east, it is always played\n",
      ">  up as an Islamic Terrorist.  However, when the a Serbian terrorist attacks\n",
      ">  the Croations, its not a Christian terrorist, its just a terrorist.\n",
      ">\tI have often tried to explain this to some close friends who believe\n",
      ">  the press, that Islam is somehow tied to violence.  Often times you hear\n",
      ">  things like \"They just don't value human life like we do...\" and so on.\n",
      ">  I was wondering if anyone out there had any suggestions for how we can\n",
      ">  change this image, or how I can help my friends to see that this is just \n",
      ">  hype.  I would appreciate any serious suggestions or comments via e-mail,\n",
      ">  and I'm not interested in hearing about how right the press is.\n",
      "\n",
      "Very easily. Show them pictures of crime scenes perpetrated by Christian\n",
      "terrorists in this country, if that doesn't convince them have them talk\n",
      "to the victims of Christian terrorism. \n",
      "\n",
      "A brutal act of terrorism inspired by Christian propoganda was recently\n",
      "commited on your very campus. \n",
      "\n",
      "Its very simple religious extremists of all religions put no value on\n",
      "human life. Christian and Islamic fundamentalists put advancing there\n",
      "religion above all else, even if doing so violates the religion itself.\n",
      "\n",
      "P.S. I'm not saying all Christians are terrorists, I'm using \"Christian\n",
      "     terrorist\" in the same way the media uses Islamic terrorist.\n",
      "-- \n",
      "------          Join the Pythagorean Reform Church!               .\n",
      "\\    /        Repent of your evil irrational numbers             . .\n",
      " \\  /   and bean eating ways. Accept 10 into your heart!        . . .\n",
      "  \\/   Call the Pythagorean Reform Church BBS at 508-793-9568  . . . .\n",
      "    \n",
      "\n"
     ]
    }
   ],
   "source": [
    "print(train_1.data[1])"
   ]
  },
  {
   "cell_type": "code",
   "execution_count": 20,
   "id": "faccfe50",
   "metadata": {
    "ExecuteTime": {
     "end_time": "2022-12-22T08:27:50.836837Z",
     "start_time": "2022-12-22T08:27:50.821506Z"
    }
   },
   "outputs": [
    {
     "name": "stdout",
     "output_type": "stream",
     "text": [
      "0\n"
     ]
    }
   ],
   "source": [
    "#the o/p belongs to 2nd category\n",
    "print(train.target[6])"
   ]
  },
  {
   "cell_type": "markdown",
   "id": "3c8285fb",
   "metadata": {},
   "source": [
    "#  Create MultinominalNB Model"
   ]
  },
  {
   "cell_type": "markdown",
   "id": "f76e1f83",
   "metadata": {},
   "source": [
    "# So first Create CountVectorizer() "
   ]
  },
  {
   "cell_type": "code",
   "execution_count": 32,
   "id": "23738a1e",
   "metadata": {
    "ExecuteTime": {
     "end_time": "2022-12-22T08:34:16.729296Z",
     "start_time": "2022-12-22T08:34:16.723313Z"
    }
   },
   "outputs": [],
   "source": [
    "from sklearn.feature_extraction.text import CountVectorizer\n",
    "cv=CountVectorizer()"
   ]
  },
  {
   "cell_type": "code",
   "execution_count": 33,
   "id": "ac629c87",
   "metadata": {
    "ExecuteTime": {
     "end_time": "2022-12-22T08:34:28.262238Z",
     "start_time": "2022-12-22T08:34:17.323494Z"
    }
   },
   "outputs": [],
   "source": [
    "#Convert the train the test data into numeric\n",
    "traincv=cv.fit_transform(train.data)\n",
    "testcv=cv.transform(test.data)"
   ]
  },
  {
   "cell_type": "markdown",
   "id": "9197ead7",
   "metadata": {},
   "source": [
    "# MultinominalNB Model"
   ]
  },
  {
   "cell_type": "code",
   "execution_count": 34,
   "id": "5cacfeb6",
   "metadata": {
    "ExecuteTime": {
     "end_time": "2022-12-22T08:34:28.558167Z",
     "start_time": "2022-12-22T08:34:28.265947Z"
    }
   },
   "outputs": [
    {
     "data": {
      "text/plain": [
       "MultinomialNB()"
      ]
     },
     "execution_count": 34,
     "metadata": {},
     "output_type": "execute_result"
    }
   ],
   "source": [
    "from sklearn.naive_bayes import MultinomialNB\n",
    "mnb=MultinomialNB()\n",
    "#the traindata is represented by traincv\n",
    "#the targetdata is represented by train.target\n",
    "mnb.fit(traincv,train.target)"
   ]
  },
  {
   "cell_type": "code",
   "execution_count": 36,
   "id": "afa3a277",
   "metadata": {
    "ExecuteTime": {
     "end_time": "2022-12-21T17:09:15.754358Z",
     "start_time": "2022-12-21T17:09:15.741354Z"
    }
   },
   "outputs": [
    {
     "data": {
      "text/plain": [
       "0.9615921787709497"
      ]
     },
     "execution_count": 36,
     "metadata": {},
     "output_type": "execute_result"
    }
   ],
   "source": [
    "mnb.score(testcv,test.target)"
   ]
  },
  {
   "cell_type": "code",
   "execution_count": 36,
   "id": "e259d4eb",
   "metadata": {
    "ExecuteTime": {
     "end_time": "2022-12-22T08:34:54.200225Z",
     "start_time": "2022-12-22T08:34:54.183245Z"
    }
   },
   "outputs": [],
   "source": [
    "messages=['Jesus Christ',\n",
    "         'apply brake at the right of your bike',\n",
    "         'how to send a satillite into the space']"
   ]
  },
  {
   "cell_type": "code",
   "execution_count": 44,
   "id": "9dc6dc4a",
   "metadata": {
    "ExecuteTime": {
     "end_time": "2022-12-21T17:12:16.581411Z",
     "start_time": "2022-12-21T17:12:16.573441Z"
    }
   },
   "outputs": [
    {
     "data": {
      "text/plain": [
       "['Jesus Christ',\n",
       " 'apply brake at the right of your bike',\n",
       " 'how to send a satillite into the space']"
      ]
     },
     "execution_count": 44,
     "metadata": {},
     "output_type": "execute_result"
    }
   ],
   "source": [
    "messages"
   ]
  },
  {
   "cell_type": "code",
   "execution_count": 37,
   "id": "d47f57d6",
   "metadata": {
    "ExecuteTime": {
     "end_time": "2022-12-22T08:34:56.899787Z",
     "start_time": "2022-12-22T08:34:56.881988Z"
    }
   },
   "outputs": [],
   "source": [
    "test_data=cv.transform(messages)"
   ]
  },
  {
   "cell_type": "code",
   "execution_count": 46,
   "id": "d4cee7da",
   "metadata": {
    "ExecuteTime": {
     "end_time": "2022-12-21T17:12:17.666350Z",
     "start_time": "2022-12-21T17:12:17.660344Z"
    }
   },
   "outputs": [
    {
     "data": {
      "text/plain": [
       "array([3, 1, 2], dtype=int64)"
      ]
     },
     "execution_count": 46,
     "metadata": {},
     "output_type": "execute_result"
    }
   ],
   "source": [
    "mnb.predict(test_data)"
   ]
  },
  {
   "cell_type": "code",
   "execution_count": null,
   "id": "f23885f0",
   "metadata": {},
   "outputs": [],
   "source": []
  }
 ],
 "metadata": {
  "kernelspec": {
   "display_name": "Python 3 (ipykernel)",
   "language": "python",
   "name": "python3"
  },
  "language_info": {
   "codemirror_mode": {
    "name": "ipython",
    "version": 3
   },
   "file_extension": ".py",
   "mimetype": "text/x-python",
   "name": "python",
   "nbconvert_exporter": "python",
   "pygments_lexer": "ipython3",
   "version": "3.9.12"
  }
 },
 "nbformat": 4,
 "nbformat_minor": 5
}
