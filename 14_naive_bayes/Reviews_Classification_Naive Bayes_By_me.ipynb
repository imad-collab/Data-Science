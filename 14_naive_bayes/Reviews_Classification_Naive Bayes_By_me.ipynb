{
 "cells": [
  {
   "cell_type": "code",
   "execution_count": 23,
   "id": "b3190756",
   "metadata": {
    "ExecuteTime": {
     "end_time": "2022-12-22T09:28:12.966006Z",
     "start_time": "2022-12-22T09:28:12.959214Z"
    }
   },
   "outputs": [],
   "source": [
    "import pandas as pd\n",
    "from sklearn.feature_extraction.text import CountVectorizer\n",
    "from sklearn.naive_bayes import MultinomialNB\n",
    "from sklearn.model_selection import train_test_split\n",
    "from sklearn.preprocessing import LabelEncoder"
   ]
  },
  {
   "cell_type": "code",
   "execution_count": 24,
   "id": "1e1ebc84",
   "metadata": {
    "ExecuteTime": {
     "end_time": "2022-12-22T09:28:13.743239Z",
     "start_time": "2022-12-22T09:28:13.704566Z"
    }
   },
   "outputs": [
    {
     "data": {
      "text/html": [
       "<div>\n",
       "<style scoped>\n",
       "    .dataframe tbody tr th:only-of-type {\n",
       "        vertical-align: middle;\n",
       "    }\n",
       "\n",
       "    .dataframe tbody tr th {\n",
       "        vertical-align: top;\n",
       "    }\n",
       "\n",
       "    .dataframe thead th {\n",
       "        text-align: right;\n",
       "    }\n",
       "</style>\n",
       "<table border=\"1\" class=\"dataframe\">\n",
       "  <thead>\n",
       "    <tr style=\"text-align: right;\">\n",
       "      <th></th>\n",
       "      <th>type</th>\n",
       "      <th>text</th>\n",
       "    </tr>\n",
       "  </thead>\n",
       "  <tbody>\n",
       "    <tr>\n",
       "      <th>0</th>\n",
       "      <td>ham</td>\n",
       "      <td>Hope you are having a good week. Just checking in</td>\n",
       "    </tr>\n",
       "    <tr>\n",
       "      <th>1</th>\n",
       "      <td>ham</td>\n",
       "      <td>K..give back my thanks.</td>\n",
       "    </tr>\n",
       "    <tr>\n",
       "      <th>2</th>\n",
       "      <td>ham</td>\n",
       "      <td>Am also doing in cbe only. But have to pay.</td>\n",
       "    </tr>\n",
       "    <tr>\n",
       "      <th>3</th>\n",
       "      <td>spam</td>\n",
       "      <td>complimentary 4 STAR Ibiza Holiday or å£10,000...</td>\n",
       "    </tr>\n",
       "    <tr>\n",
       "      <th>4</th>\n",
       "      <td>spam</td>\n",
       "      <td>okmail: Dear Dave this is your final notice to...</td>\n",
       "    </tr>\n",
       "    <tr>\n",
       "      <th>...</th>\n",
       "      <td>...</td>\n",
       "      <td>...</td>\n",
       "    </tr>\n",
       "    <tr>\n",
       "      <th>5554</th>\n",
       "      <td>ham</td>\n",
       "      <td>You are a great role model. You are giving so ...</td>\n",
       "    </tr>\n",
       "    <tr>\n",
       "      <th>5555</th>\n",
       "      <td>ham</td>\n",
       "      <td>Awesome, I remember the last time we got someb...</td>\n",
       "    </tr>\n",
       "    <tr>\n",
       "      <th>5556</th>\n",
       "      <td>spam</td>\n",
       "      <td>If you don't, your prize will go to another cu...</td>\n",
       "    </tr>\n",
       "    <tr>\n",
       "      <th>5557</th>\n",
       "      <td>spam</td>\n",
       "      <td>SMS. ac JSco: Energy is high, but u may not kn...</td>\n",
       "    </tr>\n",
       "    <tr>\n",
       "      <th>5558</th>\n",
       "      <td>ham</td>\n",
       "      <td>Shall call now dear having food</td>\n",
       "    </tr>\n",
       "  </tbody>\n",
       "</table>\n",
       "<p>5559 rows × 2 columns</p>\n",
       "</div>"
      ],
      "text/plain": [
       "      type                                               text\n",
       "0      ham  Hope you are having a good week. Just checking in\n",
       "1      ham                            K..give back my thanks.\n",
       "2      ham        Am also doing in cbe only. But have to pay.\n",
       "3     spam  complimentary 4 STAR Ibiza Holiday or å£10,000...\n",
       "4     spam  okmail: Dear Dave this is your final notice to...\n",
       "...    ...                                                ...\n",
       "5554   ham  You are a great role model. You are giving so ...\n",
       "5555   ham  Awesome, I remember the last time we got someb...\n",
       "5556  spam  If you don't, your prize will go to another cu...\n",
       "5557  spam  SMS. ac JSco: Energy is high, but u may not kn...\n",
       "5558   ham                    Shall call now dear having food\n",
       "\n",
       "[5559 rows x 2 columns]"
      ]
     },
     "execution_count": 24,
     "metadata": {},
     "output_type": "execute_result"
    }
   ],
   "source": [
    "df = pd.read_csv(\"Hamspam.csv\",encoding = \"ISO-8859-1\")\n",
    "df"
   ]
  },
  {
   "cell_type": "code",
   "execution_count": 25,
   "id": "31bcf34c",
   "metadata": {
    "ExecuteTime": {
     "end_time": "2022-12-22T09:28:14.537291Z",
     "start_time": "2022-12-22T09:28:14.517377Z"
    }
   },
   "outputs": [
    {
     "data": {
      "text/html": [
       "<div>\n",
       "<style scoped>\n",
       "    .dataframe tbody tr th:only-of-type {\n",
       "        vertical-align: middle;\n",
       "    }\n",
       "\n",
       "    .dataframe tbody tr th {\n",
       "        vertical-align: top;\n",
       "    }\n",
       "\n",
       "    .dataframe thead th {\n",
       "        text-align: right;\n",
       "    }\n",
       "</style>\n",
       "<table border=\"1\" class=\"dataframe\">\n",
       "  <thead>\n",
       "    <tr style=\"text-align: right;\">\n",
       "      <th></th>\n",
       "      <th>type</th>\n",
       "      <th>text</th>\n",
       "    </tr>\n",
       "  </thead>\n",
       "  <tbody>\n",
       "    <tr>\n",
       "      <th>0</th>\n",
       "      <td>ham</td>\n",
       "      <td>Hope you are having a good week. Just checking in</td>\n",
       "    </tr>\n",
       "    <tr>\n",
       "      <th>1</th>\n",
       "      <td>ham</td>\n",
       "      <td>K..give back my thanks.</td>\n",
       "    </tr>\n",
       "    <tr>\n",
       "      <th>2</th>\n",
       "      <td>ham</td>\n",
       "      <td>Am also doing in cbe only. But have to pay.</td>\n",
       "    </tr>\n",
       "    <tr>\n",
       "      <th>3</th>\n",
       "      <td>spam</td>\n",
       "      <td>complimentary 4 STAR Ibiza Holiday or å£10,000...</td>\n",
       "    </tr>\n",
       "    <tr>\n",
       "      <th>4</th>\n",
       "      <td>spam</td>\n",
       "      <td>okmail: Dear Dave this is your final notice to...</td>\n",
       "    </tr>\n",
       "  </tbody>\n",
       "</table>\n",
       "</div>"
      ],
      "text/plain": [
       "   type                                               text\n",
       "0   ham  Hope you are having a good week. Just checking in\n",
       "1   ham                            K..give back my thanks.\n",
       "2   ham        Am also doing in cbe only. But have to pay.\n",
       "3  spam  complimentary 4 STAR Ibiza Holiday or å£10,000...\n",
       "4  spam  okmail: Dear Dave this is your final notice to..."
      ]
     },
     "execution_count": 25,
     "metadata": {},
     "output_type": "execute_result"
    }
   ],
   "source": [
    "df.head()"
   ]
  },
  {
   "cell_type": "code",
   "execution_count": 26,
   "id": "7c3a2597",
   "metadata": {
    "ExecuteTime": {
     "end_time": "2022-12-22T09:28:18.400112Z",
     "start_time": "2022-12-22T09:28:18.393497Z"
    }
   },
   "outputs": [],
   "source": [
    "from sklearn.preprocessing import LabelEncoder\n",
    "le=LabelEncoder()"
   ]
  },
  {
   "cell_type": "code",
   "execution_count": 27,
   "id": "cdaab7af",
   "metadata": {
    "ExecuteTime": {
     "end_time": "2022-12-22T09:28:18.710263Z",
     "start_time": "2022-12-22T09:28:18.702537Z"
    }
   },
   "outputs": [],
   "source": [
    "df['type']=le.fit_transform(df['type'])"
   ]
  },
  {
   "cell_type": "code",
   "execution_count": 28,
   "id": "c051260a",
   "metadata": {
    "ExecuteTime": {
     "end_time": "2022-12-22T09:28:18.958902Z",
     "start_time": "2022-12-22T09:28:18.948924Z"
    }
   },
   "outputs": [],
   "source": [
    "X=df['text']\n",
    "y=df['type']"
   ]
  },
  {
   "cell_type": "code",
   "execution_count": 29,
   "id": "fa298571",
   "metadata": {
    "ExecuteTime": {
     "end_time": "2022-12-22T09:28:19.177617Z",
     "start_time": "2022-12-22T09:28:19.167091Z"
    }
   },
   "outputs": [
    {
     "data": {
      "text/plain": [
       "5559"
      ]
     },
     "execution_count": 29,
     "metadata": {},
     "output_type": "execute_result"
    }
   ],
   "source": [
    "len(df)"
   ]
  },
  {
   "cell_type": "code",
   "execution_count": 30,
   "id": "482c4a86",
   "metadata": {
    "ExecuteTime": {
     "end_time": "2022-12-22T09:28:19.410985Z",
     "start_time": "2022-12-22T09:28:19.392995Z"
    }
   },
   "outputs": [],
   "source": [
    "from sklearn.model_selection import train_test_split\n",
    "X_train, X_test, y_train, y_test=train_test_split(X,y,test_size=0.2)"
   ]
  },
  {
   "cell_type": "markdown",
   "id": "89f1ea20",
   "metadata": {},
   "source": [
    "#  Create CountVectorizer"
   ]
  },
  {
   "cell_type": "code",
   "execution_count": 31,
   "id": "28e58032",
   "metadata": {
    "ExecuteTime": {
     "end_time": "2022-12-22T09:28:20.577306Z",
     "start_time": "2022-12-22T09:28:20.239139Z"
    }
   },
   "outputs": [],
   "source": [
    "#The fit method estimates the minimum and maximum values of the data, \n",
    "#and the transform method scales the data to the range [0, 1] using these estimates. In a matrix form as well\n",
    "from sklearn.feature_extraction.text import CountVectorizer\n",
    "cv=CountVectorizer()\n",
    "X_traincv=cv.fit_transform(X_train)\n",
    "X_testcv=cv.transform(X_test)"
   ]
  },
  {
   "cell_type": "code",
   "execution_count": 32,
   "id": "9615177e",
   "metadata": {
    "ExecuteTime": {
     "end_time": "2022-12-22T09:28:20.593198Z",
     "start_time": "2022-12-22T09:28:20.582225Z"
    }
   },
   "outputs": [],
   "source": [
    "#0 is a 'ham'\n",
    "#1 is a 'spam'"
   ]
  },
  {
   "cell_type": "code",
   "execution_count": 33,
   "id": "685a2522",
   "metadata": {
    "ExecuteTime": {
     "end_time": "2022-12-22T09:28:20.893185Z",
     "start_time": "2022-12-22T09:28:20.882423Z"
    }
   },
   "outputs": [
    {
     "data": {
      "text/plain": [
       "1473    0\n",
       "2488    0\n",
       "5294    1\n",
       "Name: type, dtype: int32"
      ]
     },
     "execution_count": 33,
     "metadata": {},
     "output_type": "execute_result"
    }
   ],
   "source": [
    "y_train.head(3)"
   ]
  },
  {
   "cell_type": "code",
   "execution_count": 34,
   "id": "3332a317",
   "metadata": {
    "ExecuteTime": {
     "end_time": "2022-12-22T09:28:21.188690Z",
     "start_time": "2022-12-22T09:28:21.170489Z"
    }
   },
   "outputs": [
    {
     "data": {
      "text/plain": [
       "2058    0\n",
       "962     1\n",
       "3075    0\n",
       "Name: type, dtype: int32"
      ]
     },
     "execution_count": 34,
     "metadata": {},
     "output_type": "execute_result"
    }
   ],
   "source": [
    "y_test.head(3)"
   ]
  },
  {
   "cell_type": "code",
   "execution_count": 35,
   "id": "bbc33ef6",
   "metadata": {
    "ExecuteTime": {
     "end_time": "2022-12-22T09:28:21.469730Z",
     "start_time": "2022-12-22T09:28:21.459238Z"
    }
   },
   "outputs": [],
   "source": [
    "# Both X_train,y_train are converted into integer types\n",
    "y_train=y_train.astype('int')\n",
    "y_test=y_test.astype('int')"
   ]
  },
  {
   "cell_type": "markdown",
   "id": "9e059033",
   "metadata": {},
   "source": [
    "# Create MultinominalNB"
   ]
  },
  {
   "cell_type": "code",
   "execution_count": 36,
   "id": "3587a192",
   "metadata": {
    "ExecuteTime": {
     "end_time": "2022-12-22T09:28:22.691682Z",
     "start_time": "2022-12-22T09:28:22.680372Z"
    }
   },
   "outputs": [
    {
     "data": {
      "text/plain": [
       "MultinomialNB()"
      ]
     },
     "execution_count": 36,
     "metadata": {},
     "output_type": "execute_result"
    }
   ],
   "source": [
    "from sklearn.naive_bayes import MultinomialNB\n",
    "mnb=MultinomialNB()\n",
    "mnb.fit(X_traincv,y_train)"
   ]
  },
  {
   "cell_type": "code",
   "execution_count": 37,
   "id": "33af82ff",
   "metadata": {
    "ExecuteTime": {
     "end_time": "2022-12-22T09:28:22.927753Z",
     "start_time": "2022-12-22T09:28:22.920043Z"
    }
   },
   "outputs": [
    {
     "data": {
      "text/plain": [
       "0.9784172661870504"
      ]
     },
     "execution_count": 37,
     "metadata": {},
     "output_type": "execute_result"
    }
   ],
   "source": [
    "mnb.score(X_testcv,y_test)"
   ]
  },
  {
   "cell_type": "code",
   "execution_count": 42,
   "id": "1447e8e6",
   "metadata": {
    "ExecuteTime": {
     "end_time": "2022-12-22T09:28:41.198316Z",
     "start_time": "2022-12-22T09:28:41.179812Z"
    }
   },
   "outputs": [
    {
     "data": {
      "text/plain": [
       "'It has issues right now. Ill fix for her by tomorrow.'"
      ]
     },
     "execution_count": 42,
     "metadata": {},
     "output_type": "execute_result"
    }
   ],
   "source": [
    "X_test.iloc[68]"
   ]
  },
  {
   "cell_type": "code",
   "execution_count": 39,
   "id": "214a02cf",
   "metadata": {
    "ExecuteTime": {
     "end_time": "2022-12-22T09:28:23.461624Z",
     "start_time": "2022-12-22T09:28:23.453648Z"
    }
   },
   "outputs": [
    {
     "data": {
      "text/plain": [
       "array([0])"
      ]
     },
     "execution_count": 39,
     "metadata": {},
     "output_type": "execute_result"
    }
   ],
   "source": [
    "pred=mnb.predict(X_testcv[5])\n",
    "pred"
   ]
  },
  {
   "cell_type": "code",
   "execution_count": 43,
   "id": "8955260a",
   "metadata": {
    "ExecuteTime": {
     "end_time": "2022-12-22T09:28:57.575735Z",
     "start_time": "2022-12-22T09:28:57.565783Z"
    }
   },
   "outputs": [
    {
     "data": {
      "text/plain": [
       "array([0])"
      ]
     },
     "execution_count": 43,
     "metadata": {},
     "output_type": "execute_result"
    }
   ],
   "source": [
    "X_test.iloc[68]\n",
    "pred=mnb.predict(X_testcv[34])\n",
    "pred"
   ]
  },
  {
   "cell_type": "code",
   "execution_count": 44,
   "id": "66f21791",
   "metadata": {
    "ExecuteTime": {
     "end_time": "2022-12-22T09:29:41.141255Z",
     "start_time": "2022-12-22T09:29:41.122228Z"
    }
   },
   "outputs": [
    {
     "data": {
      "text/plain": [
       "array([0, 0])"
      ]
     },
     "execution_count": 44,
     "metadata": {},
     "output_type": "execute_result"
    }
   ],
   "source": [
    "#Let us take 2 messages in the list\n",
    "examples=['It has issues right now. Ill fix for her by tomorrow.', 'Awesome']\n",
    "test=cv.transform(examples)\n",
    "pred=mnb.predict(test)\n",
    "pred"
   ]
  },
  {
   "cell_type": "code",
   "execution_count": 45,
   "id": "e3d8b679",
   "metadata": {
    "ExecuteTime": {
     "end_time": "2022-12-22T09:29:44.693456Z",
     "start_time": "2022-12-22T09:29:44.675917Z"
    }
   },
   "outputs": [
    {
     "data": {
      "text/plain": [
       "'Now only i reached home. . . I am very tired now. . I will come tomorro'"
      ]
     },
     "execution_count": 45,
     "metadata": {},
     "output_type": "execute_result"
    }
   ],
   "source": [
    "X_test.iloc[34]"
   ]
  },
  {
   "cell_type": "code",
   "execution_count": null,
   "id": "0b794d62",
   "metadata": {},
   "outputs": [],
   "source": []
  },
  {
   "cell_type": "code",
   "execution_count": null,
   "id": "b2a7fb94",
   "metadata": {},
   "outputs": [],
   "source": []
  }
 ],
 "metadata": {
  "kernelspec": {
   "display_name": "Python 3 (ipykernel)",
   "language": "python",
   "name": "python3"
  },
  "language_info": {
   "codemirror_mode": {
    "name": "ipython",
    "version": 3
   },
   "file_extension": ".py",
   "mimetype": "text/x-python",
   "name": "python",
   "nbconvert_exporter": "python",
   "pygments_lexer": "ipython3",
   "version": "3.9.12"
  }
 },
 "nbformat": 4,
 "nbformat_minor": 5
}
