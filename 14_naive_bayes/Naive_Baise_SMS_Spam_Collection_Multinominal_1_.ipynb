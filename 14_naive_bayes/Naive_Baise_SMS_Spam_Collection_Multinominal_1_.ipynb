{
 "cells": [
  {
   "cell_type": "code",
   "execution_count": 52,
   "id": "0c10184a",
   "metadata": {
    "ExecuteTime": {
     "end_time": "2022-12-21T16:16:24.877220Z",
     "start_time": "2022-12-21T16:16:24.874200Z"
    }
   },
   "outputs": [],
   "source": [
    "import pandas as pd\n",
    "from sklearn.feature_extraction.text import CountVectorizer\n",
    "from sklearn.naive_bayes import MultinomialNB\n",
    "from sklearn.model_selection import train_test_split\n",
    "from sklearn.preprocessing import LabelEncoder"
   ]
  },
  {
   "cell_type": "code",
   "execution_count": 24,
   "id": "965b322b",
   "metadata": {
    "ExecuteTime": {
     "end_time": "2022-12-21T16:02:54.529811Z",
     "start_time": "2022-12-21T16:02:54.499237Z"
    }
   },
   "outputs": [
    {
     "data": {
      "text/html": [
       "<div>\n",
       "<style scoped>\n",
       "    .dataframe tbody tr th:only-of-type {\n",
       "        vertical-align: middle;\n",
       "    }\n",
       "\n",
       "    .dataframe tbody tr th {\n",
       "        vertical-align: top;\n",
       "    }\n",
       "\n",
       "    .dataframe thead th {\n",
       "        text-align: right;\n",
       "    }\n",
       "</style>\n",
       "<table border=\"1\" class=\"dataframe\">\n",
       "  <thead>\n",
       "    <tr style=\"text-align: right;\">\n",
       "      <th></th>\n",
       "      <th>Status</th>\n",
       "      <th>Message</th>\n",
       "    </tr>\n",
       "  </thead>\n",
       "  <tbody>\n",
       "    <tr>\n",
       "      <th>0</th>\n",
       "      <td>Category</td>\n",
       "      <td>Message</td>\n",
       "    </tr>\n",
       "    <tr>\n",
       "      <th>1</th>\n",
       "      <td>ham</td>\n",
       "      <td>Go until jurong point, crazy.. Available only ...</td>\n",
       "    </tr>\n",
       "    <tr>\n",
       "      <th>2</th>\n",
       "      <td>ham</td>\n",
       "      <td>Ok lar... Joking wif u oni...</td>\n",
       "    </tr>\n",
       "    <tr>\n",
       "      <th>3</th>\n",
       "      <td>spam</td>\n",
       "      <td>Free entry in 2 a wkly comp to win FA Cup fina...</td>\n",
       "    </tr>\n",
       "    <tr>\n",
       "      <th>4</th>\n",
       "      <td>ham</td>\n",
       "      <td>U dun say so early hor... U c already then say...</td>\n",
       "    </tr>\n",
       "    <tr>\n",
       "      <th>...</th>\n",
       "      <td>...</td>\n",
       "      <td>...</td>\n",
       "    </tr>\n",
       "    <tr>\n",
       "      <th>5568</th>\n",
       "      <td>spam</td>\n",
       "      <td>This is the 2nd time we have tried 2 contact u...</td>\n",
       "    </tr>\n",
       "    <tr>\n",
       "      <th>5569</th>\n",
       "      <td>ham</td>\n",
       "      <td>Will ü b going to esplanade fr home?</td>\n",
       "    </tr>\n",
       "    <tr>\n",
       "      <th>5570</th>\n",
       "      <td>ham</td>\n",
       "      <td>Pity, * was in mood for that. So...any other s...</td>\n",
       "    </tr>\n",
       "    <tr>\n",
       "      <th>5571</th>\n",
       "      <td>ham</td>\n",
       "      <td>The guy did some bitching but I acted like i'd...</td>\n",
       "    </tr>\n",
       "    <tr>\n",
       "      <th>5572</th>\n",
       "      <td>ham</td>\n",
       "      <td>Rofl. Its true to its name</td>\n",
       "    </tr>\n",
       "  </tbody>\n",
       "</table>\n",
       "<p>5573 rows × 2 columns</p>\n",
       "</div>"
      ],
      "text/plain": [
       "        Status                                            Message\n",
       "0     Category                                            Message\n",
       "1          ham  Go until jurong point, crazy.. Available only ...\n",
       "2          ham                      Ok lar... Joking wif u oni...\n",
       "3         spam  Free entry in 2 a wkly comp to win FA Cup fina...\n",
       "4          ham  U dun say so early hor... U c already then say...\n",
       "...        ...                                                ...\n",
       "5568      spam  This is the 2nd time we have tried 2 contact u...\n",
       "5569       ham               Will ü b going to esplanade fr home?\n",
       "5570       ham  Pity, * was in mood for that. So...any other s...\n",
       "5571       ham  The guy did some bitching but I acted like i'd...\n",
       "5572       ham                         Rofl. Its true to its name\n",
       "\n",
       "[5573 rows x 2 columns]"
      ]
     },
     "execution_count": 24,
     "metadata": {},
     "output_type": "execute_result"
    }
   ],
   "source": [
    "df=pd.read_csv('spam.csv',names=['Status','Message'])\n",
    "df"
   ]
  },
  {
   "cell_type": "code",
   "execution_count": 25,
   "id": "402cc2b2",
   "metadata": {
    "ExecuteTime": {
     "end_time": "2022-12-21T16:02:54.700698Z",
     "start_time": "2022-12-21T16:02:54.689763Z"
    }
   },
   "outputs": [],
   "source": [
    "from sklearn.preprocessing import LabelEncoder\n",
    "le=LabelEncoder()"
   ]
  },
  {
   "cell_type": "code",
   "execution_count": 26,
   "id": "5ac60b22",
   "metadata": {
    "ExecuteTime": {
     "end_time": "2022-12-21T16:02:54.871066Z",
     "start_time": "2022-12-21T16:02:54.867073Z"
    }
   },
   "outputs": [],
   "source": [
    "df['Status']=le.fit_transform(df['Status'])"
   ]
  },
  {
   "cell_type": "code",
   "execution_count": 27,
   "id": "25845270",
   "metadata": {
    "ExecuteTime": {
     "end_time": "2022-12-21T16:02:55.261369Z",
     "start_time": "2022-12-21T16:02:55.244447Z"
    }
   },
   "outputs": [],
   "source": [
    "X=df['Message']\n",
    "y=df['Status']"
   ]
  },
  {
   "cell_type": "code",
   "execution_count": 28,
   "id": "a816701a",
   "metadata": {
    "ExecuteTime": {
     "end_time": "2022-12-21T16:03:13.649184Z",
     "start_time": "2022-12-21T16:03:13.644198Z"
    }
   },
   "outputs": [
    {
     "data": {
      "text/plain": [
       "5573"
      ]
     },
     "execution_count": 28,
     "metadata": {},
     "output_type": "execute_result"
    }
   ],
   "source": [
    "len(df)"
   ]
  },
  {
   "cell_type": "code",
   "execution_count": 32,
   "id": "967aaf17",
   "metadata": {
    "ExecuteTime": {
     "end_time": "2022-12-21T16:06:29.198687Z",
     "start_time": "2022-12-21T16:06:29.187751Z"
    }
   },
   "outputs": [],
   "source": [
    "from sklearn.model_selection import train_test_split\n",
    "X_train, X_test, y_train, y_test=train_test_split(X,y,test_size=0.2)"
   ]
  },
  {
   "cell_type": "markdown",
   "id": "5c1d5104",
   "metadata": {},
   "source": [
    " # Create CountVectorizer"
   ]
  },
  {
   "cell_type": "code",
   "execution_count": 90,
   "id": "5b9d0372",
   "metadata": {
    "ExecuteTime": {
     "end_time": "2022-12-21T16:29:55.917640Z",
     "start_time": "2022-12-21T16:29:55.825584Z"
    }
   },
   "outputs": [],
   "source": [
    "#The fit method estimates the minimum and maximum values of the data, \n",
    "#and the transform method scales the data to the range [0, 1] using these estimates. In a matrix form as well\n",
    "from sklearn.feature_extraction.text import CountVectorizer\n",
    "cv=CountVectorizer()\n",
    "X_traincv=cv.fit_transform(X_train)\n",
    "X_testcv=cv.transform(X_test)"
   ]
  },
  {
   "cell_type": "code",
   "execution_count": 80,
   "id": "5dda49b4",
   "metadata": {
    "ExecuteTime": {
     "end_time": "2022-12-21T16:26:00.232856Z",
     "start_time": "2022-12-21T16:26:00.224878Z"
    }
   },
   "outputs": [
    {
     "data": {
      "text/plain": [
       "5143    1\n",
       "4694    1\n",
       "5506    1\n",
       "Name: Status, dtype: int32"
      ]
     },
     "execution_count": 80,
     "metadata": {},
     "output_type": "execute_result"
    }
   ],
   "source": [
    "y_train.head(3)"
   ]
  },
  {
   "cell_type": "code",
   "execution_count": 45,
   "id": "f6ad5250",
   "metadata": {
    "ExecuteTime": {
     "end_time": "2022-12-21T16:12:37.150503Z",
     "start_time": "2022-12-21T16:12:37.130584Z"
    }
   },
   "outputs": [
    {
     "data": {
      "text/plain": [
       "593     2\n",
       "3097    1\n",
       "1296    1\n",
       "Name: Status, dtype: int32"
      ]
     },
     "execution_count": 45,
     "metadata": {},
     "output_type": "execute_result"
    }
   ],
   "source": [
    "y_test.head(3)"
   ]
  },
  {
   "cell_type": "code",
   "execution_count": 85,
   "id": "2ac90cd0",
   "metadata": {
    "ExecuteTime": {
     "end_time": "2022-12-21T16:27:28.349067Z",
     "start_time": "2022-12-21T16:27:28.346075Z"
    }
   },
   "outputs": [],
   "source": [
    "#1 is a 'ham'\n",
    "#2 is a 'spam'"
   ]
  },
  {
   "cell_type": "code",
   "execution_count": 47,
   "id": "256eb88b",
   "metadata": {
    "ExecuteTime": {
     "end_time": "2022-12-21T16:13:25.112478Z",
     "start_time": "2022-12-21T16:13:25.106463Z"
    }
   },
   "outputs": [],
   "source": [
    "# Both X_train,y_train are converted into integer types\n",
    "y_train=y_train.astype('int')\n",
    "y_test=y_test.astype('int')"
   ]
  },
  {
   "cell_type": "markdown",
   "id": "e206089e",
   "metadata": {},
   "source": [
    "# Create MultinominalNB"
   ]
  },
  {
   "cell_type": "code",
   "execution_count": 56,
   "id": "e0ffedb4",
   "metadata": {
    "ExecuteTime": {
     "end_time": "2022-12-21T16:18:50.231942Z",
     "start_time": "2022-12-21T16:18:50.210029Z"
    }
   },
   "outputs": [
    {
     "data": {
      "text/plain": [
       "MultinomialNB()"
      ]
     },
     "execution_count": 56,
     "metadata": {},
     "output_type": "execute_result"
    }
   ],
   "source": [
    "from sklearn.naive_bayes import MultinomialNB\n",
    "mnb=MultinomialNB()\n",
    "mnb.fit(X_traincv,y_train)"
   ]
  },
  {
   "cell_type": "code",
   "execution_count": 58,
   "id": "01802b21",
   "metadata": {
    "ExecuteTime": {
     "end_time": "2022-12-21T16:19:15.849788Z",
     "start_time": "2022-12-21T16:19:15.842800Z"
    }
   },
   "outputs": [
    {
     "data": {
      "text/plain": [
       "0.9865470852017937"
      ]
     },
     "execution_count": 58,
     "metadata": {},
     "output_type": "execute_result"
    }
   ],
   "source": [
    "mnb.score(X_testcv,y_test)"
   ]
  },
  {
   "cell_type": "code",
   "execution_count": 69,
   "id": "d773aba6",
   "metadata": {
    "ExecuteTime": {
     "end_time": "2022-12-21T16:23:33.942551Z",
     "start_time": "2022-12-21T16:23:33.937531Z"
    }
   },
   "outputs": [
    {
     "data": {
      "text/plain": [
       "'Just finished. Missing you plenty'"
      ]
     },
     "execution_count": 69,
     "metadata": {},
     "output_type": "execute_result"
    }
   ],
   "source": [
    "X_test.iloc[593]"
   ]
  },
  {
   "cell_type": "code",
   "execution_count": 81,
   "id": "9e9b8df9",
   "metadata": {
    "ExecuteTime": {
     "end_time": "2022-12-21T16:26:04.812962Z",
     "start_time": "2022-12-21T16:26:04.801991Z"
    }
   },
   "outputs": [
    {
     "data": {
      "text/plain": [
       "array([1])"
      ]
     },
     "execution_count": 81,
     "metadata": {},
     "output_type": "execute_result"
    }
   ],
   "source": [
    "pred=mnb.predict(X_testcv[593])\n",
    "pred"
   ]
  },
  {
   "cell_type": "code",
   "execution_count": 82,
   "id": "75bde712",
   "metadata": {
    "ExecuteTime": {
     "end_time": "2022-12-21T16:26:05.184897Z",
     "start_time": "2022-12-21T16:26:05.168939Z"
    }
   },
   "outputs": [
    {
     "data": {
      "text/plain": [
       "'URGENT! We are trying to contact U. Todays draw shows that you have won a £800 prize GUARANTEED. Call 09050001808 from land line. Claim M95. Valid12hrs only'"
      ]
     },
     "execution_count": 82,
     "metadata": {},
     "output_type": "execute_result"
    }
   ],
   "source": [
    "X_test.iloc[34]"
   ]
  },
  {
   "cell_type": "code",
   "execution_count": 87,
   "id": "2a896e86",
   "metadata": {
    "ExecuteTime": {
     "end_time": "2022-12-21T16:27:47.360248Z",
     "start_time": "2022-12-21T16:27:47.346434Z"
    }
   },
   "outputs": [
    {
     "data": {
      "text/plain": [
       "array([2])"
      ]
     },
     "execution_count": 87,
     "metadata": {},
     "output_type": "execute_result"
    }
   ],
   "source": [
    "pred=mnb.predict(X_testcv[34])\n",
    "pred #2 means it is a spam"
   ]
  },
  {
   "cell_type": "code",
   "execution_count": 93,
   "id": "7c09b8a7",
   "metadata": {
    "ExecuteTime": {
     "end_time": "2022-12-21T16:34:15.847536Z",
     "start_time": "2022-12-21T16:34:15.841552Z"
    }
   },
   "outputs": [
    {
     "data": {
      "text/plain": [
       "array([2, 1])"
      ]
     },
     "execution_count": 93,
     "metadata": {},
     "output_type": "execute_result"
    }
   ],
   "source": [
    "#Let us take 2 messages in the list\n",
    "examples=['free playground now', 'Hi, can we play golf tomorrow?']\n",
    "test=cv.transform(examples)\n",
    "pred=mnb.predict(test)\n",
    "pred"
   ]
  },
  {
   "cell_type": "code",
   "execution_count": null,
   "id": "52ba349e",
   "metadata": {},
   "outputs": [],
   "source": []
  }
 ],
 "metadata": {
  "kernelspec": {
   "display_name": "Python 3 (ipykernel)",
   "language": "python",
   "name": "python3"
  },
  "language_info": {
   "codemirror_mode": {
    "name": "ipython",
    "version": 3
   },
   "file_extension": ".py",
   "mimetype": "text/x-python",
   "name": "python",
   "nbconvert_exporter": "python",
   "pygments_lexer": "ipython3",
   "version": "3.9.12"
  }
 },
 "nbformat": 4,
 "nbformat_minor": 5
}
