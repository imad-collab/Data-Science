{
 "cells": [
  {
   "cell_type": "code",
   "execution_count": 35,
   "id": "fc4726c0",
   "metadata": {
    "ExecuteTime": {
     "end_time": "2022-12-20T17:02:04.906937Z",
     "start_time": "2022-12-20T17:02:04.900705Z"
    }
   },
   "outputs": [],
   "source": [
    "#Create RNN model to analyze the stock prices\n",
    "import pandas as pd\n",
    "import matplotlib.pyplot as plt\n",
    "from tensorflow.keras.models import Sequential\n",
    "from tensorflow.keras.layers import Flatten,Conv2D,Dense,LSTM,Embedding"
   ]
  },
  {
   "cell_type": "code",
   "execution_count": 84,
   "id": "4531f1a1",
   "metadata": {
    "ExecuteTime": {
     "end_time": "2022-12-20T17:38:56.424025Z",
     "start_time": "2022-12-20T17:38:56.408801Z"
    }
   },
   "outputs": [],
   "source": [
    "df=pd.read_csv('Google_Stock_Price_Train.csv')"
   ]
  },
  {
   "cell_type": "code",
   "execution_count": 85,
   "id": "c04f431f",
   "metadata": {
    "ExecuteTime": {
     "end_time": "2022-12-20T17:38:56.784684Z",
     "start_time": "2022-12-20T17:38:56.762769Z"
    }
   },
   "outputs": [
    {
     "data": {
      "text/html": [
       "<div>\n",
       "<style scoped>\n",
       "    .dataframe tbody tr th:only-of-type {\n",
       "        vertical-align: middle;\n",
       "    }\n",
       "\n",
       "    .dataframe tbody tr th {\n",
       "        vertical-align: top;\n",
       "    }\n",
       "\n",
       "    .dataframe thead th {\n",
       "        text-align: right;\n",
       "    }\n",
       "</style>\n",
       "<table border=\"1\" class=\"dataframe\">\n",
       "  <thead>\n",
       "    <tr style=\"text-align: right;\">\n",
       "      <th></th>\n",
       "      <th>Date</th>\n",
       "      <th>Open</th>\n",
       "      <th>High</th>\n",
       "      <th>Low</th>\n",
       "      <th>Close</th>\n",
       "      <th>Volume</th>\n",
       "    </tr>\n",
       "  </thead>\n",
       "  <tbody>\n",
       "    <tr>\n",
       "      <th>0</th>\n",
       "      <td>1/3/2012</td>\n",
       "      <td>325.25</td>\n",
       "      <td>332.83</td>\n",
       "      <td>324.97</td>\n",
       "      <td>663.59</td>\n",
       "      <td>7,380,500</td>\n",
       "    </tr>\n",
       "    <tr>\n",
       "      <th>1</th>\n",
       "      <td>1/4/2012</td>\n",
       "      <td>331.27</td>\n",
       "      <td>333.87</td>\n",
       "      <td>329.08</td>\n",
       "      <td>666.45</td>\n",
       "      <td>5,749,400</td>\n",
       "    </tr>\n",
       "    <tr>\n",
       "      <th>2</th>\n",
       "      <td>1/5/2012</td>\n",
       "      <td>329.83</td>\n",
       "      <td>330.75</td>\n",
       "      <td>326.89</td>\n",
       "      <td>657.21</td>\n",
       "      <td>6,590,300</td>\n",
       "    </tr>\n",
       "    <tr>\n",
       "      <th>3</th>\n",
       "      <td>1/6/2012</td>\n",
       "      <td>328.34</td>\n",
       "      <td>328.77</td>\n",
       "      <td>323.68</td>\n",
       "      <td>648.24</td>\n",
       "      <td>5,405,900</td>\n",
       "    </tr>\n",
       "    <tr>\n",
       "      <th>4</th>\n",
       "      <td>1/9/2012</td>\n",
       "      <td>322.04</td>\n",
       "      <td>322.29</td>\n",
       "      <td>309.46</td>\n",
       "      <td>620.76</td>\n",
       "      <td>11,688,800</td>\n",
       "    </tr>\n",
       "    <tr>\n",
       "      <th>...</th>\n",
       "      <td>...</td>\n",
       "      <td>...</td>\n",
       "      <td>...</td>\n",
       "      <td>...</td>\n",
       "      <td>...</td>\n",
       "      <td>...</td>\n",
       "    </tr>\n",
       "    <tr>\n",
       "      <th>1253</th>\n",
       "      <td>12/23/2016</td>\n",
       "      <td>790.90</td>\n",
       "      <td>792.74</td>\n",
       "      <td>787.28</td>\n",
       "      <td>789.91</td>\n",
       "      <td>623,400</td>\n",
       "    </tr>\n",
       "    <tr>\n",
       "      <th>1254</th>\n",
       "      <td>12/27/2016</td>\n",
       "      <td>790.68</td>\n",
       "      <td>797.86</td>\n",
       "      <td>787.66</td>\n",
       "      <td>791.55</td>\n",
       "      <td>789,100</td>\n",
       "    </tr>\n",
       "    <tr>\n",
       "      <th>1255</th>\n",
       "      <td>12/28/2016</td>\n",
       "      <td>793.70</td>\n",
       "      <td>794.23</td>\n",
       "      <td>783.20</td>\n",
       "      <td>785.05</td>\n",
       "      <td>1,153,800</td>\n",
       "    </tr>\n",
       "    <tr>\n",
       "      <th>1256</th>\n",
       "      <td>12/29/2016</td>\n",
       "      <td>783.33</td>\n",
       "      <td>785.93</td>\n",
       "      <td>778.92</td>\n",
       "      <td>782.79</td>\n",
       "      <td>744,300</td>\n",
       "    </tr>\n",
       "    <tr>\n",
       "      <th>1257</th>\n",
       "      <td>12/30/2016</td>\n",
       "      <td>782.75</td>\n",
       "      <td>782.78</td>\n",
       "      <td>770.41</td>\n",
       "      <td>771.82</td>\n",
       "      <td>1,770,000</td>\n",
       "    </tr>\n",
       "  </tbody>\n",
       "</table>\n",
       "<p>1258 rows × 6 columns</p>\n",
       "</div>"
      ],
      "text/plain": [
       "            Date    Open    High     Low   Close      Volume\n",
       "0       1/3/2012  325.25  332.83  324.97  663.59   7,380,500\n",
       "1       1/4/2012  331.27  333.87  329.08  666.45   5,749,400\n",
       "2       1/5/2012  329.83  330.75  326.89  657.21   6,590,300\n",
       "3       1/6/2012  328.34  328.77  323.68  648.24   5,405,900\n",
       "4       1/9/2012  322.04  322.29  309.46  620.76  11,688,800\n",
       "...          ...     ...     ...     ...     ...         ...\n",
       "1253  12/23/2016  790.90  792.74  787.28  789.91     623,400\n",
       "1254  12/27/2016  790.68  797.86  787.66  791.55     789,100\n",
       "1255  12/28/2016  793.70  794.23  783.20  785.05   1,153,800\n",
       "1256  12/29/2016  783.33  785.93  778.92  782.79     744,300\n",
       "1257  12/30/2016  782.75  782.78  770.41  771.82   1,770,000\n",
       "\n",
       "[1258 rows x 6 columns]"
      ]
     },
     "execution_count": 85,
     "metadata": {},
     "output_type": "execute_result"
    }
   ],
   "source": [
    "df"
   ]
  },
  {
   "cell_type": "code",
   "execution_count": 86,
   "id": "4c0f33ad",
   "metadata": {
    "ExecuteTime": {
     "end_time": "2022-12-20T17:38:57.267859Z",
     "start_time": "2022-12-20T17:38:57.250898Z"
    }
   },
   "outputs": [],
   "source": [
    "#Eliminate commas in the close dataset\n",
    "df['Close']=df['Close'].str.replace(',','').astype(float)"
   ]
  },
  {
   "cell_type": "code",
   "execution_count": 87,
   "id": "581756c6",
   "metadata": {
    "ExecuteTime": {
     "end_time": "2022-12-20T17:38:57.642504Z",
     "start_time": "2022-12-20T17:38:57.627428Z"
    }
   },
   "outputs": [
    {
     "data": {
      "text/plain": [
       "array([[663.59],\n",
       "       [666.45],\n",
       "       [657.21],\n",
       "       ...,\n",
       "       [785.05],\n",
       "       [782.79],\n",
       "       [771.82]])"
      ]
     },
     "execution_count": 87,
     "metadata": {},
     "output_type": "execute_result"
    }
   ],
   "source": [
    "train_set=df.iloc[:,4:5].values\n",
    "train_set"
   ]
  },
  {
   "cell_type": "code",
   "execution_count": 88,
   "id": "0033f9ee",
   "metadata": {
    "ExecuteTime": {
     "end_time": "2022-12-20T17:38:58.001161Z",
     "start_time": "2022-12-20T17:38:57.984669Z"
    }
   },
   "outputs": [],
   "source": [
    "#The data is in 2D array format\n",
    "# The RNN expects the data to be scaled.\n",
    "#That means we have to fit the data in between some values like 0 to 1.\n",
    "# This can be done by using MinMax Scaler"
   ]
  },
  {
   "cell_type": "code",
   "execution_count": 89,
   "id": "e412746a",
   "metadata": {
    "ExecuteTime": {
     "end_time": "2022-12-20T17:38:58.282023Z",
     "start_time": "2022-12-20T17:38:58.265982Z"
    }
   },
   "outputs": [
    {
     "data": {
      "text/plain": [
       "array([[0.23757287],\n",
       "       [0.24151427],\n",
       "       [0.22878051],\n",
       "       ...,\n",
       "       [0.40495845],\n",
       "       [0.40184391],\n",
       "       [0.38672602]])"
      ]
     },
     "execution_count": 89,
     "metadata": {},
     "output_type": "execute_result"
    }
   ],
   "source": [
    "train_set=sc.fit_transform(train_set)\n",
    "train_set"
   ]
  },
  {
   "cell_type": "code",
   "execution_count": 90,
   "id": "b6911ea4",
   "metadata": {
    "ExecuteTime": {
     "end_time": "2022-12-20T17:38:58.565076Z",
     "start_time": "2022-12-20T17:38:58.550764Z"
    }
   },
   "outputs": [
    {
     "data": {
      "text/plain": [
       "(1258, 1)"
      ]
     },
     "execution_count": 90,
     "metadata": {},
     "output_type": "execute_result"
    }
   ],
   "source": [
    "train_set.shape"
   ]
  },
  {
   "cell_type": "code",
   "execution_count": 91,
   "id": "d336bbbf",
   "metadata": {
    "ExecuteTime": {
     "end_time": "2022-12-20T17:38:58.843941Z",
     "start_time": "2022-12-20T17:38:58.837171Z"
    }
   },
   "outputs": [],
   "source": [
    "# Now we can take X_train data starting from 0th row onwards from the train_set.\n",
    "#We can take y_train data (predicted price),starting from 1st row onwards.\n",
    "X_train=train_set[0:1257]\n",
    "y_train=train_set[1:1258]"
   ]
  },
  {
   "cell_type": "code",
   "execution_count": 92,
   "id": "3a5131ee",
   "metadata": {
    "ExecuteTime": {
     "end_time": "2022-12-20T17:38:59.171233Z",
     "start_time": "2022-12-20T17:38:59.167169Z"
    }
   },
   "outputs": [
    {
     "name": "stdout",
     "output_type": "stream",
     "text": [
      "enter the X_train values : [[0.23757287]\n",
      " [0.24151427]\n",
      " [0.22878051]\n",
      " ...\n",
      " [0.41391618]\n",
      " [0.40495845]\n",
      " [0.40184391]]\n",
      "enter the y_train values : [[0.24151427]\n",
      " [0.22878051]\n",
      " [0.21641884]\n",
      " ...\n",
      " [0.40495845]\n",
      " [0.40184391]\n",
      " [0.38672602]]\n"
     ]
    }
   ],
   "source": [
    "print('enter the X_train values :',X_train)\n",
    "print('enter the y_train values :' ,y_train)"
   ]
  },
  {
   "cell_type": "code",
   "execution_count": 93,
   "id": "a54abe4a",
   "metadata": {
    "ExecuteTime": {
     "end_time": "2022-12-20T17:38:59.791879Z",
     "start_time": "2022-12-20T17:38:59.785979Z"
    }
   },
   "outputs": [],
   "source": [
    "#As the RNN model aspects the 3D data,We have to reshape the X_train data into 3D.\n",
    "#This indicates 1257= rows\n",
    "#1column\n",
    "#1 timestep\n",
    "#Timestep indicates the frequency of data : 1 day\n",
    "import numpy as np\n",
    "X_train=np.reshape(X_train,(1257,1,1))"
   ]
  },
  {
   "cell_type": "markdown",
   "id": "246d2065",
   "metadata": {},
   "source": [
    "# Building the RNN Model"
   ]
  },
  {
   "cell_type": "code",
   "execution_count": 95,
   "id": "1b7dec97",
   "metadata": {
    "ExecuteTime": {
     "end_time": "2022-12-20T17:39:50.876713Z",
     "start_time": "2022-12-20T17:39:50.330653Z"
    }
   },
   "outputs": [],
   "source": [
    "#units=50 means 50 nodes\n",
    "#return_sequences=True means it is going to return same number of outputs to the next layer.\n",
    "#input_shape=(None,1) means only 1 column of data is being given as input\n",
    "from tensorflow.keras.models import Sequential\n",
    "from tensorflow.keras.layers import Dense\n",
    "model=Sequential([LSTM(units=50,return_sequences=True,input_shape=(None,1)),\n",
    "                  LSTM(units=50,return_sequences=True),Dense(1,activation='sigmoid')])"
   ]
  },
  {
   "cell_type": "markdown",
   "id": "e3b49c75",
   "metadata": {},
   "source": [
    "# Compile the RNN model"
   ]
  },
  {
   "cell_type": "code",
   "execution_count": 66,
   "id": "79537566",
   "metadata": {
    "ExecuteTime": {
     "end_time": "2022-12-20T17:27:12.537730Z",
     "start_time": "2022-12-20T17:27:12.515762Z"
    }
   },
   "outputs": [],
   "source": [
    "model.compile(optimizer='adam',loss='mean_squared_error')"
   ]
  },
  {
   "cell_type": "markdown",
   "id": "c0592c25",
   "metadata": {},
   "source": [
    "# Train the Model"
   ]
  },
  {
   "cell_type": "code",
   "execution_count": 67,
   "id": "75943293",
   "metadata": {
    "ExecuteTime": {
     "end_time": "2022-12-20T17:29:27.504463Z",
     "start_time": "2022-12-20T17:28:46.259524Z"
    }
   },
   "outputs": [
    {
     "name": "stdout",
     "output_type": "stream",
     "text": [
      "Epoch 1/100\n",
      "126/126 [==============================] - 4s 2ms/step - loss: 0.0610\n",
      "Epoch 2/100\n",
      "126/126 [==============================] - 0s 2ms/step - loss: 0.0129\n",
      "Epoch 3/100\n",
      "126/126 [==============================] - 0s 2ms/step - loss: 0.0015\n",
      "Epoch 4/100\n",
      "126/126 [==============================] - 0s 2ms/step - loss: 0.0014\n",
      "Epoch 5/100\n",
      "126/126 [==============================] - 0s 3ms/step - loss: 0.0014\n",
      "Epoch 6/100\n",
      "126/126 [==============================] - 1s 9ms/step - loss: 0.0014\n",
      "Epoch 7/100\n",
      "126/126 [==============================] - 1s 4ms/step - loss: 0.0014\n",
      "Epoch 8/100\n",
      "126/126 [==============================] - 0s 2ms/step - loss: 0.0014\n",
      "Epoch 9/100\n",
      "126/126 [==============================] - 0s 2ms/step - loss: 0.0014\n",
      "Epoch 10/100\n",
      "126/126 [==============================] - 0s 3ms/step - loss: 0.0014\n",
      "Epoch 11/100\n",
      "126/126 [==============================] - 0s 2ms/step - loss: 0.0014\n",
      "Epoch 12/100\n",
      "126/126 [==============================] - 0s 2ms/step - loss: 0.0014\n",
      "Epoch 13/100\n",
      "126/126 [==============================] - 0s 2ms/step - loss: 0.0014\n",
      "Epoch 14/100\n",
      "126/126 [==============================] - 0s 2ms/step - loss: 0.0014\n",
      "Epoch 15/100\n",
      "126/126 [==============================] - 0s 3ms/step - loss: 0.0014\n",
      "Epoch 16/100\n",
      "126/126 [==============================] - 0s 2ms/step - loss: 0.0014\n",
      "Epoch 17/100\n",
      "126/126 [==============================] - 0s 2ms/step - loss: 0.0014\n",
      "Epoch 18/100\n",
      "126/126 [==============================] - 0s 2ms/step - loss: 0.0014\n",
      "Epoch 19/100\n",
      "126/126 [==============================] - 0s 2ms/step - loss: 0.0014\n",
      "Epoch 20/100\n",
      "126/126 [==============================] - 0s 3ms/step - loss: 0.0014\n",
      "Epoch 21/100\n",
      "126/126 [==============================] - 0s 2ms/step - loss: 0.0014\n",
      "Epoch 22/100\n",
      "126/126 [==============================] - 0s 2ms/step - loss: 0.0014\n",
      "Epoch 23/100\n",
      "126/126 [==============================] - 0s 2ms/step - loss: 0.0013\n",
      "Epoch 24/100\n",
      "126/126 [==============================] - 1s 7ms/step - loss: 0.0013\n",
      "Epoch 25/100\n",
      "126/126 [==============================] - 1s 9ms/step - loss: 0.0013\n",
      "Epoch 26/100\n",
      "126/126 [==============================] - 1s 8ms/step - loss: 0.0013\n",
      "Epoch 27/100\n",
      "126/126 [==============================] - 1s 5ms/step - loss: 0.0014\n",
      "Epoch 28/100\n",
      "126/126 [==============================] - 0s 2ms/step - loss: 0.0013\n",
      "Epoch 29/100\n",
      "126/126 [==============================] - 0s 2ms/step - loss: 0.0013\n",
      "Epoch 30/100\n",
      "126/126 [==============================] - 0s 2ms/step - loss: 0.0013\n",
      "Epoch 31/100\n",
      "126/126 [==============================] - 0s 2ms/step - loss: 0.0013\n",
      "Epoch 32/100\n",
      "126/126 [==============================] - 0s 2ms/step - loss: 0.0013\n",
      "Epoch 33/100\n",
      "126/126 [==============================] - 0s 2ms/step - loss: 0.0013\n",
      "Epoch 34/100\n",
      "126/126 [==============================] - 0s 2ms/step - loss: 0.0013\n",
      "Epoch 35/100\n",
      "126/126 [==============================] - 0s 2ms/step - loss: 0.0013\n",
      "Epoch 36/100\n",
      "126/126 [==============================] - 0s 2ms/step - loss: 0.0012\n",
      "Epoch 37/100\n",
      "126/126 [==============================] - 0s 2ms/step - loss: 0.0012\n",
      "Epoch 38/100\n",
      "126/126 [==============================] - 0s 3ms/step - loss: 0.0012\n",
      "Epoch 39/100\n",
      "126/126 [==============================] - 0s 2ms/step - loss: 0.0012\n",
      "Epoch 40/100\n",
      "126/126 [==============================] - 0s 2ms/step - loss: 0.0012\n",
      "Epoch 41/100\n",
      "126/126 [==============================] - 0s 2ms/step - loss: 0.0011\n",
      "Epoch 42/100\n",
      "126/126 [==============================] - 0s 2ms/step - loss: 0.0011\n",
      "Epoch 43/100\n",
      "126/126 [==============================] - 0s 2ms/step - loss: 0.0011\n",
      "Epoch 44/100\n",
      "126/126 [==============================] - 0s 2ms/step - loss: 0.0011\n",
      "Epoch 45/100\n",
      "126/126 [==============================] - 0s 2ms/step - loss: 0.0011\n",
      "Epoch 46/100\n",
      "126/126 [==============================] - 0s 2ms/step - loss: 0.0010\n",
      "Epoch 47/100\n",
      "126/126 [==============================] - 0s 2ms/step - loss: 0.0010\n",
      "Epoch 48/100\n",
      "126/126 [==============================] - 0s 3ms/step - loss: 9.8229e-04\n",
      "Epoch 49/100\n",
      "126/126 [==============================] - 0s 3ms/step - loss: 9.7177e-04\n",
      "Epoch 50/100\n",
      "126/126 [==============================] - 0s 2ms/step - loss: 9.4498e-04\n",
      "Epoch 51/100\n",
      "126/126 [==============================] - 0s 2ms/step - loss: 9.2197e-04\n",
      "Epoch 52/100\n",
      "126/126 [==============================] - 0s 3ms/step - loss: 8.8468e-04\n",
      "Epoch 53/100\n",
      "126/126 [==============================] - 0s 2ms/step - loss: 8.6817e-04\n",
      "Epoch 54/100\n",
      "126/126 [==============================] - 0s 2ms/step - loss: 8.5296e-04\n",
      "Epoch 55/100\n",
      "126/126 [==============================] - 0s 2ms/step - loss: 8.4427e-04\n",
      "Epoch 56/100\n",
      "126/126 [==============================] - 0s 2ms/step - loss: 8.3055e-04\n",
      "Epoch 57/100\n",
      "126/126 [==============================] - 0s 3ms/step - loss: 8.1857e-04\n",
      "Epoch 58/100\n",
      "126/126 [==============================] - 0s 3ms/step - loss: 8.0635e-04\n",
      "Epoch 59/100\n",
      "126/126 [==============================] - 0s 3ms/step - loss: 8.0109e-04\n",
      "Epoch 60/100\n",
      "126/126 [==============================] - 0s 2ms/step - loss: 8.0145e-04\n",
      "Epoch 61/100\n",
      "126/126 [==============================] - 0s 2ms/step - loss: 7.8470e-04\n",
      "Epoch 62/100\n",
      "126/126 [==============================] - 0s 2ms/step - loss: 8.0147e-04\n",
      "Epoch 63/100\n",
      "126/126 [==============================] - 0s 3ms/step - loss: 7.9283e-04\n",
      "Epoch 64/100\n",
      "126/126 [==============================] - 0s 2ms/step - loss: 7.8352e-04\n",
      "Epoch 65/100\n",
      "126/126 [==============================] - 0s 2ms/step - loss: 8.0216e-04\n",
      "Epoch 66/100\n",
      "126/126 [==============================] - 0s 2ms/step - loss: 7.8025e-04\n",
      "Epoch 67/100\n",
      "126/126 [==============================] - 0s 2ms/step - loss: 7.9588e-04\n",
      "Epoch 68/100\n",
      "126/126 [==============================] - 0s 2ms/step - loss: 7.8775e-04\n",
      "Epoch 69/100\n",
      "126/126 [==============================] - 0s 2ms/step - loss: 7.8148e-04\n",
      "Epoch 70/100\n",
      "126/126 [==============================] - 0s 2ms/step - loss: 8.0040e-04\n",
      "Epoch 71/100\n",
      "126/126 [==============================] - 0s 2ms/step - loss: 7.8670e-04\n",
      "Epoch 72/100\n",
      "126/126 [==============================] - 0s 3ms/step - loss: 7.7317e-04\n",
      "Epoch 73/100\n",
      "126/126 [==============================] - 0s 2ms/step - loss: 7.8934e-04\n",
      "Epoch 74/100\n",
      "126/126 [==============================] - 0s 2ms/step - loss: 7.8253e-04\n",
      "Epoch 75/100\n",
      "126/126 [==============================] - 0s 3ms/step - loss: 7.8132e-04\n",
      "Epoch 76/100\n",
      "126/126 [==============================] - 0s 2ms/step - loss: 7.8702e-04\n",
      "Epoch 77/100\n",
      "126/126 [==============================] - 0s 2ms/step - loss: 8.1859e-04\n",
      "Epoch 78/100\n",
      "126/126 [==============================] - 0s 3ms/step - loss: 7.8121e-04\n",
      "Epoch 79/100\n",
      "126/126 [==============================] - 0s 2ms/step - loss: 7.7873e-04\n",
      "Epoch 80/100\n",
      "126/126 [==============================] - 0s 2ms/step - loss: 7.7428e-04\n",
      "Epoch 81/100\n",
      "126/126 [==============================] - 0s 2ms/step - loss: 7.7446e-04\n",
      "Epoch 82/100\n",
      "126/126 [==============================] - 0s 3ms/step - loss: 8.0777e-04\n",
      "Epoch 83/100\n",
      "126/126 [==============================] - 0s 3ms/step - loss: 7.8037e-04\n",
      "Epoch 84/100\n",
      "126/126 [==============================] - 0s 3ms/step - loss: 7.8567e-04\n",
      "Epoch 85/100\n",
      "126/126 [==============================] - 0s 2ms/step - loss: 7.7785e-04\n",
      "Epoch 86/100\n",
      "126/126 [==============================] - 0s 2ms/step - loss: 7.8305e-04\n",
      "Epoch 87/100\n",
      "126/126 [==============================] - 1s 4ms/step - loss: 7.7791e-04\n",
      "Epoch 88/100\n",
      "126/126 [==============================] - 1s 7ms/step - loss: 7.7114e-04\n",
      "Epoch 89/100\n",
      "126/126 [==============================] - 1s 9ms/step - loss: 7.9676e-04\n",
      "Epoch 90/100\n",
      "126/126 [==============================] - 1s 8ms/step - loss: 8.0990e-04\n",
      "Epoch 91/100\n",
      "126/126 [==============================] - 1s 7ms/step - loss: 7.7913e-04\n",
      "Epoch 92/100\n",
      "126/126 [==============================] - 1s 5ms/step - loss: 7.8632e-04\n",
      "Epoch 93/100\n",
      "126/126 [==============================] - 1s 4ms/step - loss: 7.7291e-04\n",
      "Epoch 94/100\n",
      "126/126 [==============================] - 0s 2ms/step - loss: 7.8925e-04\n",
      "Epoch 95/100\n",
      "126/126 [==============================] - 0s 3ms/step - loss: 7.8123e-04\n",
      "Epoch 96/100\n",
      "126/126 [==============================] - 0s 2ms/step - loss: 7.9355e-04\n",
      "Epoch 97/100\n",
      "126/126 [==============================] - 0s 2ms/step - loss: 7.8028e-04\n",
      "Epoch 98/100\n",
      "126/126 [==============================] - 0s 2ms/step - loss: 7.9192e-04\n",
      "Epoch 99/100\n",
      "126/126 [==============================] - 0s 2ms/step - loss: 7.7701e-04\n",
      "Epoch 100/100\n",
      "126/126 [==============================] - 0s 3ms/step - loss: 7.6003e-04\n"
     ]
    },
    {
     "data": {
      "text/plain": [
       "<keras.callbacks.History at 0x259af9365e0>"
      ]
     },
     "execution_count": 67,
     "metadata": {},
     "output_type": "execute_result"
    }
   ],
   "source": [
    "model.fit(X_train,y_train,epochs=100,batch_size=10)"
   ]
  },
  {
   "cell_type": "markdown",
   "id": "9a94de86",
   "metadata": {},
   "source": [
    "# Making predictions"
   ]
  },
  {
   "cell_type": "code",
   "execution_count": 112,
   "id": "af138be9",
   "metadata": {
    "ExecuteTime": {
     "end_time": "2022-12-20T18:07:23.323366Z",
     "start_time": "2022-12-20T18:07:23.306410Z"
    }
   },
   "outputs": [
    {
     "data": {
      "text/html": [
       "<div>\n",
       "<style scoped>\n",
       "    .dataframe tbody tr th:only-of-type {\n",
       "        vertical-align: middle;\n",
       "    }\n",
       "\n",
       "    .dataframe tbody tr th {\n",
       "        vertical-align: top;\n",
       "    }\n",
       "\n",
       "    .dataframe thead th {\n",
       "        text-align: right;\n",
       "    }\n",
       "</style>\n",
       "<table border=\"1\" class=\"dataframe\">\n",
       "  <thead>\n",
       "    <tr style=\"text-align: right;\">\n",
       "      <th></th>\n",
       "      <th>Date</th>\n",
       "      <th>Open</th>\n",
       "      <th>High</th>\n",
       "      <th>Low</th>\n",
       "      <th>Close</th>\n",
       "      <th>Volume</th>\n",
       "    </tr>\n",
       "  </thead>\n",
       "  <tbody>\n",
       "    <tr>\n",
       "      <th>0</th>\n",
       "      <td>1/3/2017</td>\n",
       "      <td>778.81</td>\n",
       "      <td>789.63</td>\n",
       "      <td>775.80</td>\n",
       "      <td>786.14</td>\n",
       "      <td>1,657,300</td>\n",
       "    </tr>\n",
       "    <tr>\n",
       "      <th>1</th>\n",
       "      <td>1/4/2017</td>\n",
       "      <td>788.36</td>\n",
       "      <td>791.34</td>\n",
       "      <td>783.16</td>\n",
       "      <td>786.90</td>\n",
       "      <td>1,073,000</td>\n",
       "    </tr>\n",
       "    <tr>\n",
       "      <th>2</th>\n",
       "      <td>1/5/2017</td>\n",
       "      <td>786.08</td>\n",
       "      <td>794.48</td>\n",
       "      <td>785.02</td>\n",
       "      <td>794.02</td>\n",
       "      <td>1,335,200</td>\n",
       "    </tr>\n",
       "    <tr>\n",
       "      <th>3</th>\n",
       "      <td>1/6/2017</td>\n",
       "      <td>795.26</td>\n",
       "      <td>807.90</td>\n",
       "      <td>792.20</td>\n",
       "      <td>806.15</td>\n",
       "      <td>1,640,200</td>\n",
       "    </tr>\n",
       "    <tr>\n",
       "      <th>4</th>\n",
       "      <td>1/9/2017</td>\n",
       "      <td>806.40</td>\n",
       "      <td>809.97</td>\n",
       "      <td>802.83</td>\n",
       "      <td>806.65</td>\n",
       "      <td>1,272,400</td>\n",
       "    </tr>\n",
       "  </tbody>\n",
       "</table>\n",
       "</div>"
      ],
      "text/plain": [
       "       Date    Open    High     Low   Close     Volume\n",
       "0  1/3/2017  778.81  789.63  775.80  786.14  1,657,300\n",
       "1  1/4/2017  788.36  791.34  783.16  786.90  1,073,000\n",
       "2  1/5/2017  786.08  794.48  785.02  794.02  1,335,200\n",
       "3  1/6/2017  795.26  807.90  792.20  806.15  1,640,200\n",
       "4  1/9/2017  806.40  809.97  802.83  806.65  1,272,400"
      ]
     },
     "execution_count": 112,
     "metadata": {},
     "output_type": "execute_result"
    }
   ],
   "source": [
    "test_set=pd.read_csv('Google_Stock_Price_Test.csv')\n",
    "test_set.head()"
   ]
  },
  {
   "cell_type": "code",
   "execution_count": 113,
   "id": "e6a2e94e",
   "metadata": {
    "ExecuteTime": {
     "end_time": "2022-12-20T18:07:23.869518Z",
     "start_time": "2022-12-20T18:07:23.853315Z"
    }
   },
   "outputs": [
    {
     "data": {
      "text/plain": [
       "array([[786.14],\n",
       "       [786.9 ],\n",
       "       [794.02],\n",
       "       [806.15],\n",
       "       [806.65],\n",
       "       [804.79],\n",
       "       [807.91],\n",
       "       [806.36],\n",
       "       [807.88],\n",
       "       [804.61],\n",
       "       [806.07],\n",
       "       [802.17],\n",
       "       [805.02],\n",
       "       [819.31],\n",
       "       [823.87],\n",
       "       [835.67],\n",
       "       [832.15],\n",
       "       [823.31],\n",
       "       [802.32],\n",
       "       [796.79]])"
      ]
     },
     "execution_count": 113,
     "metadata": {},
     "output_type": "execute_result"
    }
   ],
   "source": [
    "test_set=test_set.iloc[:,4:5].values\n",
    "test_set"
   ]
  },
  {
   "cell_type": "code",
   "execution_count": 118,
   "id": "7a24a7d7",
   "metadata": {
    "ExecuteTime": {
     "end_time": "2022-12-20T18:07:55.405945Z",
     "start_time": "2022-12-20T18:07:55.396969Z"
    },
    "scrolled": true
   },
   "outputs": [],
   "source": [
    "from sklearn.preprocessing import MinMaxScaler\n",
    "sc=MinMaxScaler()\n",
    "inputs=sc.fit(test_set)\n",
    "inputs=sc.transform(test_set)"
   ]
  },
  {
   "cell_type": "code",
   "execution_count": 121,
   "id": "ebd30f6b",
   "metadata": {
    "ExecuteTime": {
     "end_time": "2022-12-20T18:08:08.812980Z",
     "start_time": "2022-12-20T18:08:08.807027Z"
    }
   },
   "outputs": [
    {
     "data": {
      "text/plain": [
       "array([[0.        ],\n",
       "       [0.01534424],\n",
       "       [0.1590955 ],\n",
       "       [0.40399758],\n",
       "       [0.41409247],\n",
       "       [0.37653947],\n",
       "       [0.4395316 ],\n",
       "       [0.40823743],\n",
       "       [0.4389259 ],\n",
       "       [0.37290531],\n",
       "       [0.40238239],\n",
       "       [0.32364224],\n",
       "       [0.38118312],\n",
       "       [0.66969513],\n",
       "       [0.76176055],\n",
       "       [1.        ],\n",
       "       [0.92893196],\n",
       "       [0.75045427],\n",
       "       [0.3266707 ],\n",
       "       [0.2150212 ]])"
      ]
     },
     "execution_count": 121,
     "metadata": {},
     "output_type": "execute_result"
    }
   ],
   "source": [
    "inputs"
   ]
  },
  {
   "cell_type": "code",
   "execution_count": 123,
   "id": "9ff7d64e",
   "metadata": {
    "ExecuteTime": {
     "end_time": "2022-12-20T18:10:03.525367Z",
     "start_time": "2022-12-20T18:10:03.506772Z"
    }
   },
   "outputs": [
    {
     "data": {
      "text/plain": [
       "array([[[0.        ]],\n",
       "\n",
       "       [[0.01534424]],\n",
       "\n",
       "       [[0.1590955 ]],\n",
       "\n",
       "       [[0.40399758]],\n",
       "\n",
       "       [[0.41409247]],\n",
       "\n",
       "       [[0.37653947]],\n",
       "\n",
       "       [[0.4395316 ]],\n",
       "\n",
       "       [[0.40823743]],\n",
       "\n",
       "       [[0.4389259 ]],\n",
       "\n",
       "       [[0.37290531]],\n",
       "\n",
       "       [[0.40238239]],\n",
       "\n",
       "       [[0.32364224]],\n",
       "\n",
       "       [[0.38118312]],\n",
       "\n",
       "       [[0.66969513]],\n",
       "\n",
       "       [[0.76176055]],\n",
       "\n",
       "       [[1.        ]],\n",
       "\n",
       "       [[0.92893196]],\n",
       "\n",
       "       [[0.75045427]],\n",
       "\n",
       "       [[0.3266707 ]],\n",
       "\n",
       "       [[0.2150212 ]]])"
      ]
     },
     "execution_count": 123,
     "metadata": {},
     "output_type": "execute_result"
    }
   ],
   "source": [
    "#The above data is in the form of 2D array ,So convert it into 3D array\n",
    "inputs=np.reshape(inputs,(20,1,1))\n",
    "inputs"
   ]
  },
  {
   "cell_type": "code",
   "execution_count": 126,
   "id": "3230a2df",
   "metadata": {
    "ExecuteTime": {
     "end_time": "2022-12-20T18:10:43.858859Z",
     "start_time": "2022-12-20T18:10:42.584232Z"
    }
   },
   "outputs": [
    {
     "name": "stdout",
     "output_type": "stream",
     "text": [
      "1/1 [==============================] - 1s 1s/step\n"
     ]
    },
    {
     "data": {
      "text/plain": [
       "array([[[0.5       ]],\n",
       "\n",
       "       [[0.500004  ]],\n",
       "\n",
       "       [[0.50003976]],\n",
       "\n",
       "       [[0.50009304]],\n",
       "\n",
       "       [[0.500095  ]],\n",
       "\n",
       "       [[0.50008756]],\n",
       "\n",
       "       [[0.50009996]],\n",
       "\n",
       "       [[0.5000939 ]],\n",
       "\n",
       "       [[0.50009984]],\n",
       "\n",
       "       [[0.5000868 ]],\n",
       "\n",
       "       [[0.5000927 ]],\n",
       "\n",
       "       [[0.5000766 ]],\n",
       "\n",
       "       [[0.5000885 ]],\n",
       "\n",
       "       [[0.50013936]],\n",
       "\n",
       "       [[0.50015265]],\n",
       "\n",
       "       [[0.50017977]],\n",
       "\n",
       "       [[0.50017273]],\n",
       "\n",
       "       [[0.5001511 ]],\n",
       "\n",
       "       [[0.5000772 ]],\n",
       "\n",
       "       [[0.50005275]]], dtype=float32)"
      ]
     },
     "execution_count": 126,
     "metadata": {},
     "output_type": "execute_result"
    }
   ],
   "source": [
    "pred_values=model.predict(inputs)\n",
    "pred_values"
   ]
  },
  {
   "cell_type": "code",
   "execution_count": 130,
   "id": "20edc839",
   "metadata": {
    "ExecuteTime": {
     "end_time": "2022-12-20T18:13:15.675302Z",
     "start_time": "2022-12-20T18:13:15.664789Z"
    }
   },
   "outputs": [
    {
     "data": {
      "text/plain": [
       "array([[0.5       ],\n",
       "       [0.500004  ],\n",
       "       [0.50003976],\n",
       "       [0.50009304],\n",
       "       [0.500095  ],\n",
       "       [0.50008756],\n",
       "       [0.50009996],\n",
       "       [0.5000939 ],\n",
       "       [0.50009984],\n",
       "       [0.5000868 ],\n",
       "       [0.5000927 ],\n",
       "       [0.5000766 ],\n",
       "       [0.5000885 ],\n",
       "       [0.50013936],\n",
       "       [0.50015265],\n",
       "       [0.50017977],\n",
       "       [0.50017273],\n",
       "       [0.5001511 ],\n",
       "       [0.5000772 ],\n",
       "       [0.50005275]], dtype=float32)"
      ]
     },
     "execution_count": 130,
     "metadata": {},
     "output_type": "execute_result"
    }
   ],
   "source": [
    "#the model is nothing but 3D array that contains scaled data.\n",
    "#Let us convert it into 2D as:\n",
    "pred_values=np.reshape(pred_values,(20,1))\n",
    "pred_values"
   ]
  },
  {
   "cell_type": "code",
   "execution_count": 157,
   "id": "5b41eb51",
   "metadata": {
    "ExecuteTime": {
     "end_time": "2022-12-20T18:24:47.130186Z",
     "start_time": "2022-12-20T18:24:47.116211Z"
    }
   },
   "outputs": [
    {
     "data": {
      "text/plain": [
       "(20, 1)"
      ]
     },
     "execution_count": 157,
     "metadata": {},
     "output_type": "execute_result"
    }
   ],
   "source": [
    "pred_values.shape"
   ]
  },
  {
   "cell_type": "markdown",
   "id": "841ce8e0",
   "metadata": {},
   "source": [
    "# inverse_transform method"
   ]
  },
  {
   "cell_type": "code",
   "execution_count": 158,
   "id": "625e8818",
   "metadata": {
    "ExecuteTime": {
     "end_time": "2022-12-20T18:24:47.846020Z",
     "start_time": "2022-12-20T18:24:47.826072Z"
    }
   },
   "outputs": [
    {
     "data": {
      "text/plain": [
       "array([[810.90497],\n",
       "       [810.9052 ],\n",
       "       [810.9069 ],\n",
       "       [810.9096 ],\n",
       "       [810.90967],\n",
       "       [810.9093 ],\n",
       "       [810.91   ],\n",
       "       [810.90967],\n",
       "       [810.91   ],\n",
       "       [810.9093 ],\n",
       "       [810.9096 ],\n",
       "       [810.9088 ],\n",
       "       [810.9094 ],\n",
       "       [810.9119 ],\n",
       "       [810.91254],\n",
       "       [810.91394],\n",
       "       [810.9136 ],\n",
       "       [810.91254],\n",
       "       [810.9088 ],\n",
       "       [810.9076 ]], dtype=float32)"
      ]
     },
     "execution_count": 158,
     "metadata": {},
     "output_type": "execute_result"
    }
   ],
   "source": [
    "#it is bassically used to reverse the scaled data to obtain the normal data.\n",
    "#NOTE:--------->\n",
    "#this method takes the data in the form of 2D array\n",
    "#Thats why we have changed the data from 3D to 2D .\n",
    "test_pred=sc.inverse_transform(pred_values)\n",
    "test_pred"
   ]
  },
  {
   "cell_type": "markdown",
   "id": "2c3b8eb5",
   "metadata": {},
   "source": [
    "# Predicting the next day stock price"
   ]
  },
  {
   "cell_type": "code",
   "execution_count": 175,
   "id": "5e98f808",
   "metadata": {
    "ExecuteTime": {
     "end_time": "2022-12-20T18:25:25.650662Z",
     "start_time": "2022-12-20T18:25:22.294541Z"
    }
   },
   "outputs": [
    {
     "name": "stdout",
     "output_type": "stream",
     "text": [
      "enter the today stockprice: 1500\n"
     ]
    }
   ],
   "source": [
    "today_price=float(input('enter the today stockprice: '))"
   ]
  },
  {
   "cell_type": "code",
   "execution_count": 176,
   "id": "2446ae55",
   "metadata": {
    "ExecuteTime": {
     "end_time": "2022-12-20T18:25:26.057898Z",
     "start_time": "2022-12-20T18:25:26.042939Z"
    }
   },
   "outputs": [],
   "source": [
    "arr=np.array(today_price).reshape(-1,1)\n",
    "arr1=sc.transform(arr)"
   ]
  },
  {
   "cell_type": "code",
   "execution_count": 177,
   "id": "8db04c28",
   "metadata": {
    "ExecuteTime": {
     "end_time": "2022-12-20T18:25:26.371290Z",
     "start_time": "2022-12-20T18:25:26.358260Z"
    }
   },
   "outputs": [
    {
     "data": {
      "text/plain": [
       "array([[14.41267918]])"
      ]
     },
     "execution_count": 177,
     "metadata": {},
     "output_type": "execute_result"
    }
   ],
   "source": [
    "arr1"
   ]
  },
  {
   "cell_type": "code",
   "execution_count": 178,
   "id": "04e8e808",
   "metadata": {
    "ExecuteTime": {
     "end_time": "2022-12-20T18:25:26.701390Z",
     "start_time": "2022-12-20T18:25:26.625165Z"
    }
   },
   "outputs": [
    {
     "name": "stdout",
     "output_type": "stream",
     "text": [
      "1/1 [==============================] - 0s 19ms/step\n"
     ]
    }
   ],
   "source": [
    "arr1=arr1.reshape(-1,1,1)\n",
    "result=model.predict(arr1)"
   ]
  },
  {
   "cell_type": "code",
   "execution_count": 179,
   "id": "23f931c1",
   "metadata": {
    "ExecuteTime": {
     "end_time": "2022-12-20T18:25:26.871835Z",
     "start_time": "2022-12-20T18:25:26.866066Z"
    }
   },
   "outputs": [],
   "source": [
    "result=np.reshape(result,(1,1))"
   ]
  },
  {
   "cell_type": "code",
   "execution_count": 180,
   "id": "ea55af17",
   "metadata": {
    "ExecuteTime": {
     "end_time": "2022-12-20T18:25:27.181902Z",
     "start_time": "2022-12-20T18:25:27.177389Z"
    }
   },
   "outputs": [],
   "source": [
    "#this is the scaled data.\n",
    "#Inverse scaling is needed to see the original values.\n",
    "#this can be done by using inverse_transform() function\n",
    "tom_price=sc.inverse_transform(result)"
   ]
  },
  {
   "cell_type": "code",
   "execution_count": 181,
   "id": "ef19a0aa",
   "metadata": {
    "ExecuteTime": {
     "end_time": "2022-12-20T18:25:28.098159Z",
     "start_time": "2022-12-20T18:25:28.077218Z"
    }
   },
   "outputs": [
    {
     "data": {
      "text/plain": [
       "array([[810.57495]], dtype=float32)"
      ]
     },
     "execution_count": 181,
     "metadata": {},
     "output_type": "execute_result"
    }
   ],
   "source": [
    "tom_price"
   ]
  },
  {
   "cell_type": "code",
   "execution_count": 182,
   "id": "e0f1ae34",
   "metadata": {
    "ExecuteTime": {
     "end_time": "2022-12-20T18:25:28.813150Z",
     "start_time": "2022-12-20T18:25:28.801958Z"
    }
   },
   "outputs": [],
   "source": [
    "#this can be understand that the stockmarket price is increased for the next day"
   ]
  },
  {
   "cell_type": "code",
   "execution_count": null,
   "id": "02fb6f23",
   "metadata": {},
   "outputs": [],
   "source": []
  }
 ],
 "metadata": {
  "kernelspec": {
   "display_name": "Python 3 (ipykernel)",
   "language": "python",
   "name": "python3"
  },
  "language_info": {
   "codemirror_mode": {
    "name": "ipython",
    "version": 3
   },
   "file_extension": ".py",
   "mimetype": "text/x-python",
   "name": "python",
   "nbconvert_exporter": "python",
   "pygments_lexer": "ipython3",
   "version": "3.9.12"
  }
 },
 "nbformat": 4,
 "nbformat_minor": 5
}
