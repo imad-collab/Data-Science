{
 "cells": [
  {
   "cell_type": "code",
   "execution_count": 27,
   "id": "87d372c6",
   "metadata": {
    "ExecuteTime": {
     "end_time": "2022-12-19T09:19:57.040416Z",
     "start_time": "2022-12-19T09:19:57.033876Z"
    }
   },
   "outputs": [],
   "source": [
    "#pg=786\n",
    "import pandas as pd\n",
    "import tensorflow as tf\n",
    "from tensorflow import keras\n",
    "from tensorflow.keras.models import Sequential\n",
    "from tensorflow.keras.layers import Dense "
   ]
  },
  {
   "cell_type": "code",
   "execution_count": 28,
   "id": "40c1ea30",
   "metadata": {
    "ExecuteTime": {
     "end_time": "2022-12-19T09:19:59.005647Z",
     "start_time": "2022-12-19T09:19:58.989038Z"
    }
   },
   "outputs": [],
   "source": [
    "df=pd.read_csv('housepricesin india.csv') "
   ]
  },
  {
   "cell_type": "code",
   "execution_count": 29,
   "id": "c9de3a5f",
   "metadata": {
    "ExecuteTime": {
     "end_time": "2022-12-19T09:20:01.694472Z",
     "start_time": "2022-12-19T09:20:01.669369Z"
    }
   },
   "outputs": [
    {
     "data": {
      "text/html": [
       "<div>\n",
       "<style scoped>\n",
       "    .dataframe tbody tr th:only-of-type {\n",
       "        vertical-align: middle;\n",
       "    }\n",
       "\n",
       "    .dataframe tbody tr th {\n",
       "        vertical-align: top;\n",
       "    }\n",
       "\n",
       "    .dataframe thead th {\n",
       "        text-align: right;\n",
       "    }\n",
       "</style>\n",
       "<table border=\"1\" class=\"dataframe\">\n",
       "  <thead>\n",
       "    <tr style=\"text-align: right;\">\n",
       "      <th></th>\n",
       "      <th>Lot Area</th>\n",
       "      <th>OverallQual</th>\n",
       "      <th>OverallCond</th>\n",
       "      <th>TotalBsmSF</th>\n",
       "      <th>FullBath</th>\n",
       "      <th>HalfBath</th>\n",
       "      <th>BedroomAbvGr</th>\n",
       "      <th>TotRmsAbvGrd</th>\n",
       "      <th>Fireplaces</th>\n",
       "      <th>GarageArea</th>\n",
       "      <th>AvoveMedianPrices</th>\n",
       "    </tr>\n",
       "  </thead>\n",
       "  <tbody>\n",
       "    <tr>\n",
       "      <th>0</th>\n",
       "      <td>8450</td>\n",
       "      <td>7</td>\n",
       "      <td>5</td>\n",
       "      <td>856</td>\n",
       "      <td>2</td>\n",
       "      <td>1</td>\n",
       "      <td>3</td>\n",
       "      <td>8</td>\n",
       "      <td>0</td>\n",
       "      <td>548</td>\n",
       "      <td>1</td>\n",
       "    </tr>\n",
       "    <tr>\n",
       "      <th>1</th>\n",
       "      <td>9600</td>\n",
       "      <td>6</td>\n",
       "      <td>8</td>\n",
       "      <td>1262</td>\n",
       "      <td>2</td>\n",
       "      <td>0</td>\n",
       "      <td>3</td>\n",
       "      <td>6</td>\n",
       "      <td>1</td>\n",
       "      <td>460</td>\n",
       "      <td>1</td>\n",
       "    </tr>\n",
       "    <tr>\n",
       "      <th>2</th>\n",
       "      <td>11250</td>\n",
       "      <td>7</td>\n",
       "      <td>5</td>\n",
       "      <td>920</td>\n",
       "      <td>2</td>\n",
       "      <td>1</td>\n",
       "      <td>3</td>\n",
       "      <td>6</td>\n",
       "      <td>1</td>\n",
       "      <td>608</td>\n",
       "      <td>1</td>\n",
       "    </tr>\n",
       "    <tr>\n",
       "      <th>3</th>\n",
       "      <td>9550</td>\n",
       "      <td>7</td>\n",
       "      <td>5</td>\n",
       "      <td>756</td>\n",
       "      <td>1</td>\n",
       "      <td>0</td>\n",
       "      <td>3</td>\n",
       "      <td>7</td>\n",
       "      <td>1</td>\n",
       "      <td>642</td>\n",
       "      <td>0</td>\n",
       "    </tr>\n",
       "    <tr>\n",
       "      <th>4</th>\n",
       "      <td>14260</td>\n",
       "      <td>8</td>\n",
       "      <td>5</td>\n",
       "      <td>1145</td>\n",
       "      <td>2</td>\n",
       "      <td>1</td>\n",
       "      <td>4</td>\n",
       "      <td>9</td>\n",
       "      <td>1</td>\n",
       "      <td>836</td>\n",
       "      <td>1</td>\n",
       "    </tr>\n",
       "    <tr>\n",
       "      <th>5</th>\n",
       "      <td>14115</td>\n",
       "      <td>5</td>\n",
       "      <td>5</td>\n",
       "      <td>796</td>\n",
       "      <td>1</td>\n",
       "      <td>1</td>\n",
       "      <td>1</td>\n",
       "      <td>5</td>\n",
       "      <td>0</td>\n",
       "      <td>480</td>\n",
       "      <td>0</td>\n",
       "    </tr>\n",
       "    <tr>\n",
       "      <th>6</th>\n",
       "      <td>10084</td>\n",
       "      <td>8</td>\n",
       "      <td>5</td>\n",
       "      <td>1686</td>\n",
       "      <td>2</td>\n",
       "      <td>0</td>\n",
       "      <td>3</td>\n",
       "      <td>7</td>\n",
       "      <td>1</td>\n",
       "      <td>636</td>\n",
       "      <td>1</td>\n",
       "    </tr>\n",
       "    <tr>\n",
       "      <th>7</th>\n",
       "      <td>10382</td>\n",
       "      <td>7</td>\n",
       "      <td>6</td>\n",
       "      <td>1107</td>\n",
       "      <td>2</td>\n",
       "      <td>1</td>\n",
       "      <td>3</td>\n",
       "      <td>7</td>\n",
       "      <td>2</td>\n",
       "      <td>484</td>\n",
       "      <td>1</td>\n",
       "    </tr>\n",
       "    <tr>\n",
       "      <th>8</th>\n",
       "      <td>6120</td>\n",
       "      <td>7</td>\n",
       "      <td>5</td>\n",
       "      <td>952</td>\n",
       "      <td>2</td>\n",
       "      <td>0</td>\n",
       "      <td>2</td>\n",
       "      <td>8</td>\n",
       "      <td>2</td>\n",
       "      <td>468</td>\n",
       "      <td>0</td>\n",
       "    </tr>\n",
       "    <tr>\n",
       "      <th>9</th>\n",
       "      <td>7420</td>\n",
       "      <td>5</td>\n",
       "      <td>6</td>\n",
       "      <td>991</td>\n",
       "      <td>1</td>\n",
       "      <td>0</td>\n",
       "      <td>2</td>\n",
       "      <td>5</td>\n",
       "      <td>2</td>\n",
       "      <td>205</td>\n",
       "      <td>0</td>\n",
       "    </tr>\n",
       "    <tr>\n",
       "      <th>10</th>\n",
       "      <td>11200</td>\n",
       "      <td>5</td>\n",
       "      <td>5</td>\n",
       "      <td>1040</td>\n",
       "      <td>1</td>\n",
       "      <td>0</td>\n",
       "      <td>3</td>\n",
       "      <td>5</td>\n",
       "      <td>0</td>\n",
       "      <td>384</td>\n",
       "      <td>0</td>\n",
       "    </tr>\n",
       "    <tr>\n",
       "      <th>11</th>\n",
       "      <td>11924</td>\n",
       "      <td>9</td>\n",
       "      <td>5</td>\n",
       "      <td>1175</td>\n",
       "      <td>3</td>\n",
       "      <td>0</td>\n",
       "      <td>4</td>\n",
       "      <td>11</td>\n",
       "      <td>2</td>\n",
       "      <td>736</td>\n",
       "      <td>1</td>\n",
       "    </tr>\n",
       "    <tr>\n",
       "      <th>12</th>\n",
       "      <td>12968</td>\n",
       "      <td>5</td>\n",
       "      <td>6</td>\n",
       "      <td>912</td>\n",
       "      <td>1</td>\n",
       "      <td>0</td>\n",
       "      <td>2</td>\n",
       "      <td>4</td>\n",
       "      <td>0</td>\n",
       "      <td>352</td>\n",
       "      <td>0</td>\n",
       "    </tr>\n",
       "    <tr>\n",
       "      <th>13</th>\n",
       "      <td>10652</td>\n",
       "      <td>7</td>\n",
       "      <td>5</td>\n",
       "      <td>1494</td>\n",
       "      <td>2</td>\n",
       "      <td>0</td>\n",
       "      <td>3</td>\n",
       "      <td>7</td>\n",
       "      <td>1</td>\n",
       "      <td>840</td>\n",
       "      <td>1</td>\n",
       "    </tr>\n",
       "    <tr>\n",
       "      <th>14</th>\n",
       "      <td>10920</td>\n",
       "      <td>6</td>\n",
       "      <td>5</td>\n",
       "      <td>1253</td>\n",
       "      <td>1</td>\n",
       "      <td>1</td>\n",
       "      <td>2</td>\n",
       "      <td>5</td>\n",
       "      <td>1</td>\n",
       "      <td>352</td>\n",
       "      <td>0</td>\n",
       "    </tr>\n",
       "  </tbody>\n",
       "</table>\n",
       "</div>"
      ],
      "text/plain": [
       "    Lot Area  OverallQual  OverallCond  TotalBsmSF  FullBath  HalfBath  \\\n",
       "0       8450            7            5         856         2         1   \n",
       "1       9600            6            8        1262         2         0   \n",
       "2      11250            7            5         920         2         1   \n",
       "3       9550            7            5         756         1         0   \n",
       "4      14260            8            5        1145         2         1   \n",
       "5      14115            5            5         796         1         1   \n",
       "6      10084            8            5        1686         2         0   \n",
       "7      10382            7            6        1107         2         1   \n",
       "8       6120            7            5         952         2         0   \n",
       "9       7420            5            6         991         1         0   \n",
       "10     11200            5            5        1040         1         0   \n",
       "11     11924            9            5        1175         3         0   \n",
       "12     12968            5            6         912         1         0   \n",
       "13     10652            7            5        1494         2         0   \n",
       "14     10920            6            5        1253         1         1   \n",
       "\n",
       "    BedroomAbvGr  TotRmsAbvGrd  Fireplaces  GarageArea  AvoveMedianPrices  \n",
       "0              3             8           0         548                  1  \n",
       "1              3             6           1         460                  1  \n",
       "2              3             6           1         608                  1  \n",
       "3              3             7           1         642                  0  \n",
       "4              4             9           1         836                  1  \n",
       "5              1             5           0         480                  0  \n",
       "6              3             7           1         636                  1  \n",
       "7              3             7           2         484                  1  \n",
       "8              2             8           2         468                  0  \n",
       "9              2             5           2         205                  0  \n",
       "10             3             5           0         384                  0  \n",
       "11             4            11           2         736                  1  \n",
       "12             2             4           0         352                  0  \n",
       "13             3             7           1         840                  1  \n",
       "14             2             5           1         352                  0  "
      ]
     },
     "execution_count": 29,
     "metadata": {},
     "output_type": "execute_result"
    }
   ],
   "source": [
    "df "
   ]
  },
  {
   "cell_type": "code",
   "execution_count": 30,
   "id": "4f970d06",
   "metadata": {
    "ExecuteTime": {
     "end_time": "2022-12-19T09:20:05.399205Z",
     "start_time": "2022-12-19T09:20:05.385935Z"
    }
   },
   "outputs": [],
   "source": [
    "X=df.drop(['AvoveMedianPrices'],axis=1)\n",
    "y=df.AvoveMedianPrices"
   ]
  },
  {
   "cell_type": "code",
   "execution_count": 31,
   "id": "8aba86f5",
   "metadata": {
    "ExecuteTime": {
     "end_time": "2022-12-19T09:20:07.847114Z",
     "start_time": "2022-12-19T09:20:07.835395Z"
    }
   },
   "outputs": [],
   "source": [
    "from sklearn.preprocessing import MinMaxScaler\n",
    "scaler=MinMaxScaler()\n",
    "X_scale=scaler.fit_transform(X) "
   ]
  },
  {
   "cell_type": "code",
   "execution_count": 33,
   "id": "51d26ee8",
   "metadata": {
    "ExecuteTime": {
     "end_time": "2022-12-19T09:20:25.127417Z",
     "start_time": "2022-12-19T09:20:25.110993Z"
    }
   },
   "outputs": [
    {
     "data": {
      "text/plain": [
       "array([[0.28624079, 0.5       , 0.        , 0.10752688, 0.5       ,\n",
       "        1.        , 0.66666667, 0.57142857, 0.        , 0.54015748],\n",
       "       [0.42751843, 0.25      , 1.        , 0.54408602, 0.5       ,\n",
       "        0.        , 0.66666667, 0.28571429, 0.5       , 0.4015748 ],\n",
       "       [0.63022113, 0.5       , 0.        , 0.17634409, 0.5       ,\n",
       "        1.        , 0.66666667, 0.28571429, 0.5       , 0.63464567],\n",
       "       [0.42137592, 0.5       , 0.        , 0.        , 0.        ,\n",
       "        0.        , 0.66666667, 0.42857143, 0.5       , 0.68818898],\n",
       "       [1.        , 0.75      , 0.        , 0.41827957, 0.5       ,\n",
       "        1.        , 1.        , 0.71428571, 0.5       , 0.99370079],\n",
       "       [0.98218673, 0.        , 0.        , 0.04301075, 0.        ,\n",
       "        1.        , 0.        , 0.14285714, 0.        , 0.43307087],\n",
       "       [0.48697789, 0.75      , 0.        , 1.        , 0.5       ,\n",
       "        0.        , 0.66666667, 0.42857143, 0.5       , 0.67874016],\n",
       "       [0.52358722, 0.5       , 0.33333333, 0.37741935, 0.5       ,\n",
       "        1.        , 0.66666667, 0.42857143, 1.        , 0.43937008],\n",
       "       [0.        , 0.5       , 0.        , 0.21075269, 0.5       ,\n",
       "        0.        , 0.33333333, 0.57142857, 1.        , 0.41417323],\n",
       "       [0.15970516, 0.        , 0.33333333, 0.25268817, 0.        ,\n",
       "        0.        , 0.33333333, 0.14285714, 1.        , 0.        ],\n",
       "       [0.62407862, 0.        , 0.        , 0.30537634, 0.        ,\n",
       "        0.        , 0.66666667, 0.14285714, 0.        , 0.28188976],\n",
       "       [0.71302211, 1.        , 0.        , 0.45053763, 1.        ,\n",
       "        0.        , 1.        , 1.        , 1.        , 0.83622047],\n",
       "       [0.84127764, 0.        , 0.33333333, 0.16774194, 0.        ,\n",
       "        0.        , 0.33333333, 0.        , 0.        , 0.23149606],\n",
       "       [0.55675676, 0.5       , 0.        , 0.79354839, 0.5       ,\n",
       "        0.        , 0.66666667, 0.42857143, 0.5       , 1.        ],\n",
       "       [0.58968059, 0.25      , 0.        , 0.5344086 , 0.        ,\n",
       "        1.        , 0.33333333, 0.14285714, 0.5       , 0.23149606]])"
      ]
     },
     "execution_count": 33,
     "metadata": {},
     "output_type": "execute_result"
    }
   ],
   "source": [
    "y \n",
    "X_scale "
   ]
  },
  {
   "cell_type": "markdown",
   "id": "c055d9a5",
   "metadata": {
    "ExecuteTime": {
     "end_time": "2022-12-18T04:41:42.627862Z",
     "start_time": "2022-12-18T04:41:42.614864Z"
    }
   },
   "source": [
    "# Spit the data into Train and Test"
   ]
  },
  {
   "cell_type": "code",
   "execution_count": 34,
   "id": "a5de4cb0",
   "metadata": {
    "ExecuteTime": {
     "end_time": "2022-12-19T09:20:29.161691Z",
     "start_time": "2022-12-19T09:20:29.155063Z"
    }
   },
   "outputs": [],
   "source": [
    "from sklearn.model_selection import train_test_split\n",
    "X_train, X_test, y_train, y_test =train_test_split(X_scale,y,test_size=0.3,random_state=1) "
   ]
  },
  {
   "cell_type": "markdown",
   "id": "a8e1720b",
   "metadata": {
    "ExecuteTime": {
     "end_time": "2022-12-18T04:46:06.141171Z",
     "start_time": "2022-12-18T04:46:06.127189Z"
    }
   },
   "source": [
    "# Create ANN Model using Tensorflow and Keras"
   ]
  },
  {
   "cell_type": "code",
   "execution_count": 35,
   "id": "e3fed829",
   "metadata": {
    "ExecuteTime": {
     "end_time": "2022-12-19T09:20:33.636720Z",
     "start_time": "2022-12-19T09:20:33.625230Z"
    }
   },
   "outputs": [],
   "source": [
    "from tensorflow.keras.models import Sequential\n",
    "model=Sequential()"
   ]
  },
  {
   "cell_type": "code",
   "execution_count": 36,
   "id": "c9af5c0d",
   "metadata": {
    "ExecuteTime": {
     "end_time": "2022-12-19T09:20:38.934903Z",
     "start_time": "2022-12-19T09:20:38.913552Z"
    }
   },
   "outputs": [],
   "source": [
    "input_layer=Dense(20,input_shape=(10,))\n",
    "model.add(input_layer) "
   ]
  },
  {
   "cell_type": "code",
   "execution_count": 37,
   "id": "cbba2b14",
   "metadata": {
    "ExecuteTime": {
     "end_time": "2022-12-19T09:20:41.138921Z",
     "start_time": "2022-12-19T09:20:41.107049Z"
    }
   },
   "outputs": [],
   "source": [
    "hidden_layer_1=Dense(20,activation='relu')\n",
    "model.add(hidden_layer_1)"
   ]
  },
  {
   "cell_type": "code",
   "execution_count": 38,
   "id": "9dcaf221",
   "metadata": {
    "ExecuteTime": {
     "end_time": "2022-12-19T09:20:43.632392Z",
     "start_time": "2022-12-19T09:20:43.606836Z"
    }
   },
   "outputs": [],
   "source": [
    "hidden_layer_2=Dense(20,activation='relu')\n",
    "model.add(hidden_layer_2) "
   ]
  },
  {
   "cell_type": "code",
   "execution_count": 39,
   "id": "d038c3b6",
   "metadata": {
    "ExecuteTime": {
     "end_time": "2022-12-19T09:20:46.692091Z",
     "start_time": "2022-12-19T09:20:46.670080Z"
    }
   },
   "outputs": [],
   "source": [
    "Output_layer=Dense(1,activation='sigmoid')\n",
    "model.add(Output_layer) "
   ]
  },
  {
   "cell_type": "markdown",
   "id": "54aeec48",
   "metadata": {},
   "source": [
    "# Compile the model"
   ]
  },
  {
   "cell_type": "code",
   "execution_count": 47,
   "id": "cd5f1344",
   "metadata": {
    "ExecuteTime": {
     "end_time": "2022-12-19T09:27:23.603830Z",
     "start_time": "2022-12-19T09:27:23.590702Z"
    }
   },
   "outputs": [],
   "source": [
    "model.compile(loss='binary_crossentropy', optimizer='adam',metrics=['accuracy']) "
   ]
  },
  {
   "cell_type": "markdown",
   "id": "58a6990d",
   "metadata": {},
   "source": [
    "# Train the model"
   ]
  },
  {
   "cell_type": "code",
   "execution_count": 48,
   "id": "636b00a2",
   "metadata": {
    "ExecuteTime": {
     "end_time": "2022-12-19T09:27:30.582480Z",
     "start_time": "2022-12-19T09:27:28.046085Z"
    }
   },
   "outputs": [
    {
     "name": "stdout",
     "output_type": "stream",
     "text": [
      "Epoch 1/100\n",
      "1/1 [==============================] - 1s 1s/step - loss: 8.0992 - accuracy: 0.5000\n",
      "Epoch 2/100\n",
      "1/1 [==============================] - 0s 4ms/step - loss: 7.9492 - accuracy: 0.5000\n",
      "Epoch 3/100\n",
      "1/1 [==============================] - 0s 4ms/step - loss: 7.8014 - accuracy: 0.5000\n",
      "Epoch 4/100\n",
      "1/1 [==============================] - 0s 8ms/step - loss: 7.6556 - accuracy: 0.5000\n",
      "Epoch 5/100\n",
      "1/1 [==============================] - 0s 11ms/step - loss: 7.5120 - accuracy: 0.5000\n",
      "Epoch 6/100\n",
      "1/1 [==============================] - 0s 12ms/step - loss: 7.3705 - accuracy: 0.5000\n",
      "Epoch 7/100\n",
      "1/1 [==============================] - 0s 10ms/step - loss: 7.2308 - accuracy: 0.5000\n",
      "Epoch 8/100\n",
      "1/1 [==============================] - 0s 8ms/step - loss: 7.0932 - accuracy: 0.5000\n",
      "Epoch 9/100\n",
      "1/1 [==============================] - 0s 7ms/step - loss: 6.9576 - accuracy: 0.5000\n",
      "Epoch 10/100\n",
      "1/1 [==============================] - 0s 5ms/step - loss: 6.8241 - accuracy: 0.5000\n",
      "Epoch 11/100\n",
      "1/1 [==============================] - 0s 4ms/step - loss: 6.6927 - accuracy: 0.5000\n",
      "Epoch 12/100\n",
      "1/1 [==============================] - 0s 5ms/step - loss: 6.5634 - accuracy: 0.5000\n",
      "Epoch 13/100\n",
      "1/1 [==============================] - 0s 6ms/step - loss: 6.4357 - accuracy: 0.5000\n",
      "Epoch 14/100\n",
      "1/1 [==============================] - 0s 4ms/step - loss: 6.3099 - accuracy: 0.5000\n",
      "Epoch 15/100\n",
      "1/1 [==============================] - 0s 6ms/step - loss: 6.1857 - accuracy: 0.5000\n",
      "Epoch 16/100\n",
      "1/1 [==============================] - 0s 4ms/step - loss: 6.0634 - accuracy: 0.5000\n",
      "Epoch 17/100\n",
      "1/1 [==============================] - 0s 5ms/step - loss: 5.9432 - accuracy: 0.5000\n",
      "Epoch 18/100\n",
      "1/1 [==============================] - 0s 5ms/step - loss: 5.8251 - accuracy: 0.5000\n",
      "Epoch 19/100\n",
      "1/1 [==============================] - 0s 5ms/step - loss: 5.7089 - accuracy: 0.5000\n",
      "Epoch 20/100\n",
      "1/1 [==============================] - 0s 4ms/step - loss: 5.5945 - accuracy: 0.5000\n",
      "Epoch 21/100\n",
      "1/1 [==============================] - 0s 5ms/step - loss: 5.4812 - accuracy: 0.5000\n",
      "Epoch 22/100\n",
      "1/1 [==============================] - 0s 6ms/step - loss: 5.3699 - accuracy: 0.5000\n",
      "Epoch 23/100\n",
      "1/1 [==============================] - 0s 4ms/step - loss: 5.2606 - accuracy: 0.5000\n",
      "Epoch 24/100\n",
      "1/1 [==============================] - 0s 5ms/step - loss: 5.1532 - accuracy: 0.5000\n",
      "Epoch 25/100\n",
      "1/1 [==============================] - 0s 4ms/step - loss: 5.0476 - accuracy: 0.5000\n",
      "Epoch 26/100\n",
      "1/1 [==============================] - 0s 5ms/step - loss: 4.9437 - accuracy: 0.5000\n",
      "Epoch 27/100\n",
      "1/1 [==============================] - 0s 4ms/step - loss: 4.8417 - accuracy: 0.5000\n",
      "Epoch 28/100\n",
      "1/1 [==============================] - 0s 4ms/step - loss: 4.7416 - accuracy: 0.5000\n",
      "Epoch 29/100\n",
      "1/1 [==============================] - 0s 5ms/step - loss: 4.6433 - accuracy: 0.5000\n",
      "Epoch 30/100\n",
      "1/1 [==============================] - 0s 5ms/step - loss: 4.5467 - accuracy: 0.5000\n",
      "Epoch 31/100\n",
      "1/1 [==============================] - 0s 5ms/step - loss: 4.4516 - accuracy: 0.5000\n",
      "Epoch 32/100\n",
      "1/1 [==============================] - 0s 5ms/step - loss: 4.3582 - accuracy: 0.5000\n",
      "Epoch 33/100\n",
      "1/1 [==============================] - 0s 4ms/step - loss: 4.2663 - accuracy: 0.5000\n",
      "Epoch 34/100\n",
      "1/1 [==============================] - 0s 4ms/step - loss: 4.1761 - accuracy: 0.5000\n",
      "Epoch 35/100\n",
      "1/1 [==============================] - 0s 4ms/step - loss: 4.0876 - accuracy: 0.5000\n",
      "Epoch 36/100\n",
      "1/1 [==============================] - 0s 4ms/step - loss: 4.0006 - accuracy: 0.5000\n",
      "Epoch 37/100\n",
      "1/1 [==============================] - 0s 3ms/step - loss: 3.9153 - accuracy: 0.5000\n",
      "Epoch 38/100\n",
      "1/1 [==============================] - 0s 5ms/step - loss: 3.8315 - accuracy: 0.5000\n",
      "Epoch 39/100\n",
      "1/1 [==============================] - 0s 5ms/step - loss: 3.7493 - accuracy: 0.5000\n",
      "Epoch 40/100\n",
      "1/1 [==============================] - 0s 6ms/step - loss: 3.6686 - accuracy: 0.5000\n",
      "Epoch 41/100\n",
      "1/1 [==============================] - 0s 5ms/step - loss: 3.5894 - accuracy: 0.5000\n",
      "Epoch 42/100\n",
      "1/1 [==============================] - 0s 6ms/step - loss: 3.5116 - accuracy: 0.5000\n",
      "Epoch 43/100\n",
      "1/1 [==============================] - 0s 4ms/step - loss: 3.4351 - accuracy: 0.5000\n",
      "Epoch 44/100\n",
      "1/1 [==============================] - 0s 5ms/step - loss: 3.3596 - accuracy: 0.5000\n",
      "Epoch 45/100\n",
      "1/1 [==============================] - 0s 4ms/step - loss: 3.2846 - accuracy: 0.5000\n",
      "Epoch 46/100\n",
      "1/1 [==============================] - 0s 5ms/step - loss: 3.2108 - accuracy: 0.5000\n",
      "Epoch 47/100\n",
      "1/1 [==============================] - 0s 5ms/step - loss: 3.1382 - accuracy: 0.5000\n",
      "Epoch 48/100\n",
      "1/1 [==============================] - 0s 4ms/step - loss: 3.0666 - accuracy: 0.5000\n",
      "Epoch 49/100\n",
      "1/1 [==============================] - 0s 5ms/step - loss: 2.9961 - accuracy: 0.5000\n",
      "Epoch 50/100\n",
      "1/1 [==============================] - 0s 4ms/step - loss: 2.9266 - accuracy: 0.5000\n",
      "Epoch 51/100\n",
      "1/1 [==============================] - 0s 4ms/step - loss: 2.8550 - accuracy: 0.5000\n",
      "Epoch 52/100\n",
      "1/1 [==============================] - 0s 5ms/step - loss: 2.7842 - accuracy: 0.5000\n",
      "Epoch 53/100\n",
      "1/1 [==============================] - 0s 5ms/step - loss: 2.7141 - accuracy: 0.5000\n",
      "Epoch 54/100\n",
      "1/1 [==============================] - 0s 5ms/step - loss: 2.6447 - accuracy: 0.5000\n",
      "Epoch 55/100\n",
      "1/1 [==============================] - 0s 5ms/step - loss: 2.5762 - accuracy: 0.5000\n",
      "Epoch 56/100\n",
      "1/1 [==============================] - 0s 5ms/step - loss: 2.5069 - accuracy: 0.5000\n",
      "Epoch 57/100\n",
      "1/1 [==============================] - 0s 4ms/step - loss: 2.4360 - accuracy: 0.5000\n",
      "Epoch 58/100\n",
      "1/1 [==============================] - 0s 5ms/step - loss: 2.3654 - accuracy: 0.5000\n",
      "Epoch 59/100\n",
      "1/1 [==============================] - 0s 5ms/step - loss: 2.2951 - accuracy: 0.5000\n",
      "Epoch 60/100\n",
      "1/1 [==============================] - 0s 4ms/step - loss: 2.2250 - accuracy: 0.5000\n",
      "Epoch 61/100\n",
      "1/1 [==============================] - 0s 5ms/step - loss: 2.1552 - accuracy: 0.5000\n",
      "Epoch 62/100\n",
      "1/1 [==============================] - 0s 5ms/step - loss: 2.0852 - accuracy: 0.5000\n",
      "Epoch 63/100\n",
      "1/1 [==============================] - 0s 4ms/step - loss: 2.0154 - accuracy: 0.5000\n",
      "Epoch 64/100\n",
      "1/1 [==============================] - 0s 5ms/step - loss: 1.9464 - accuracy: 0.5000\n",
      "Epoch 65/100\n",
      "1/1 [==============================] - 0s 5ms/step - loss: 1.8782 - accuracy: 0.5000\n",
      "Epoch 66/100\n",
      "1/1 [==============================] - 0s 5ms/step - loss: 1.8088 - accuracy: 0.5000\n",
      "Epoch 67/100\n",
      "1/1 [==============================] - 0s 4ms/step - loss: 1.7392 - accuracy: 0.5000\n",
      "Epoch 68/100\n",
      "1/1 [==============================] - 0s 4ms/step - loss: 1.6700 - accuracy: 0.5000\n",
      "Epoch 69/100\n",
      "1/1 [==============================] - 0s 4ms/step - loss: 1.6018 - accuracy: 0.5000\n",
      "Epoch 70/100\n",
      "1/1 [==============================] - 0s 4ms/step - loss: 1.5322 - accuracy: 0.5000\n",
      "Epoch 71/100\n",
      "1/1 [==============================] - 0s 5ms/step - loss: 1.4621 - accuracy: 0.5000\n",
      "Epoch 72/100\n",
      "1/1 [==============================] - 0s 5ms/step - loss: 1.3932 - accuracy: 0.5000\n",
      "Epoch 73/100\n",
      "1/1 [==============================] - 0s 5ms/step - loss: 1.3256 - accuracy: 0.5000\n",
      "Epoch 74/100\n",
      "1/1 [==============================] - 0s 5ms/step - loss: 1.2593 - accuracy: 0.5000\n",
      "Epoch 75/100\n",
      "1/1 [==============================] - 0s 4ms/step - loss: 1.1949 - accuracy: 0.5000\n",
      "Epoch 76/100\n",
      "1/1 [==============================] - 0s 5ms/step - loss: 1.1327 - accuracy: 0.5000\n",
      "Epoch 77/100\n",
      "1/1 [==============================] - 0s 4ms/step - loss: 1.0729 - accuracy: 0.5000\n",
      "Epoch 78/100\n",
      "1/1 [==============================] - 0s 4ms/step - loss: 1.0159 - accuracy: 0.5000\n",
      "Epoch 79/100\n",
      "1/1 [==============================] - 0s 4ms/step - loss: 0.9619 - accuracy: 0.5000\n",
      "Epoch 80/100\n",
      "1/1 [==============================] - 0s 4ms/step - loss: 0.9111 - accuracy: 0.5000\n",
      "Epoch 81/100\n",
      "1/1 [==============================] - 0s 5ms/step - loss: 0.8638 - accuracy: 0.5000\n",
      "Epoch 82/100\n",
      "1/1 [==============================] - 0s 5ms/step - loss: 0.8202 - accuracy: 0.5000\n",
      "Epoch 83/100\n",
      "1/1 [==============================] - 0s 4ms/step - loss: 0.7805 - accuracy: 0.5000\n",
      "Epoch 84/100\n",
      "1/1 [==============================] - 0s 5ms/step - loss: 0.7448 - accuracy: 0.5000\n",
      "Epoch 85/100\n",
      "1/1 [==============================] - 0s 4ms/step - loss: 0.7131 - accuracy: 0.5000\n",
      "Epoch 86/100\n",
      "1/1 [==============================] - 0s 3ms/step - loss: 0.6856 - accuracy: 0.5000\n",
      "Epoch 87/100\n",
      "1/1 [==============================] - 0s 5ms/step - loss: 0.6620 - accuracy: 0.6000\n",
      "Epoch 88/100\n",
      "1/1 [==============================] - 0s 5ms/step - loss: 0.6422 - accuracy: 0.6000\n",
      "Epoch 89/100\n",
      "1/1 [==============================] - 0s 5ms/step - loss: 0.6259 - accuracy: 0.7000\n",
      "Epoch 90/100\n",
      "1/1 [==============================] - 0s 5ms/step - loss: 0.6130 - accuracy: 0.8000\n",
      "Epoch 91/100\n",
      "1/1 [==============================] - 0s 9ms/step - loss: 0.6029 - accuracy: 0.7000\n",
      "Epoch 92/100\n",
      "1/1 [==============================] - 0s 8ms/step - loss: 0.5953 - accuracy: 0.7000\n",
      "Epoch 93/100\n",
      "1/1 [==============================] - 0s 8ms/step - loss: 0.5899 - accuracy: 0.6000\n",
      "Epoch 94/100\n",
      "1/1 [==============================] - 0s 9ms/step - loss: 0.5861 - accuracy: 0.6000\n",
      "Epoch 95/100\n",
      "1/1 [==============================] - 0s 10ms/step - loss: 0.5837 - accuracy: 0.6000\n",
      "Epoch 96/100\n",
      "1/1 [==============================] - 0s 10ms/step - loss: 0.5821 - accuracy: 0.6000\n",
      "Epoch 97/100\n",
      "1/1 [==============================] - 0s 9ms/step - loss: 0.5811 - accuracy: 0.6000\n",
      "Epoch 98/100\n",
      "1/1 [==============================] - 0s 9ms/step - loss: 0.5806 - accuracy: 0.6000\n",
      "Epoch 99/100\n",
      "1/1 [==============================] - 0s 10ms/step - loss: 0.5804 - accuracy: 0.6000\n",
      "Epoch 100/100\n",
      "1/1 [==============================] - 0s 10ms/step - loss: 0.5801 - accuracy: 0.6000\n"
     ]
    },
    {
     "data": {
      "text/plain": [
       "<keras.callbacks.History at 0x2d7ed370700>"
      ]
     },
     "execution_count": 48,
     "metadata": {},
     "output_type": "execute_result"
    }
   ],
   "source": [
    "model.fit(X_train,y_train,epochs=100,batch_size=20)  "
   ]
  },
  {
   "cell_type": "code",
   "execution_count": 49,
   "id": "185c95a5",
   "metadata": {
    "ExecuteTime": {
     "end_time": "2022-12-19T09:27:32.314332Z",
     "start_time": "2022-12-19T09:27:31.892211Z"
    }
   },
   "outputs": [
    {
     "name": "stdout",
     "output_type": "stream",
     "text": [
      "1/1 [==============================] - 0s 317ms/step - loss: 0.6486 - accuracy: 0.6000\n"
     ]
    }
   ],
   "source": [
    "val_loss,val_acc=model.evaluate(X_test,y_test)"
   ]
  },
  {
   "cell_type": "code",
   "execution_count": 57,
   "id": "3a7ae847",
   "metadata": {
    "ExecuteTime": {
     "end_time": "2022-12-19T09:30:33.203079Z",
     "start_time": "2022-12-19T09:30:33.195101Z"
    }
   },
   "outputs": [
    {
     "data": {
      "text/plain": [
       "[[42137592, 0.5, 0.0, 0.0, 0.0, 0.0, 0.66666667, 0.42857143, 0.5, 0.68818898]]"
      ]
     },
     "execution_count": 57,
     "metadata": {},
     "output_type": "execute_result"
    }
   ],
   "source": [
    "#st=[[8450,7,5,856,2,1,3,8,0,548]]\n",
    "[[42137592, 0.5       , 0.        , 0.        , 0.        ,\n",
    "        0.        , 0.66666667, 0.42857143, 0.5       , 0.68818898]]"
   ]
  },
  {
   "cell_type": "code",
   "execution_count": 62,
   "id": "350d8c63",
   "metadata": {
    "ExecuteTime": {
     "end_time": "2022-12-19T09:33:17.693249Z",
     "start_time": "2022-12-19T09:33:17.681551Z"
    }
   },
   "outputs": [],
   "source": [
    "#categorical_crossentropy\n",
    "#binary_crossentropy\n"
   ]
  },
  {
   "cell_type": "code",
   "execution_count": 56,
   "id": "67703ef5",
   "metadata": {
    "ExecuteTime": {
     "end_time": "2022-12-19T09:30:01.092232Z",
     "start_time": "2022-12-19T09:30:01.082921Z"
    }
   },
   "outputs": [
    {
     "data": {
      "text/plain": [
       "array([[0.42137592, 0.5       , 0.        , 0.        , 0.        ,\n",
       "        0.        , 0.66666667, 0.42857143, 0.5       , 0.68818898],\n",
       "       [0.52358722, 0.5       , 0.33333333, 0.37741935, 0.5       ,\n",
       "        1.        , 0.66666667, 0.42857143, 1.        , 0.43937008],\n",
       "       [0.48697789, 0.75      , 0.        , 1.        , 0.5       ,\n",
       "        0.        , 0.66666667, 0.42857143, 0.5       , 0.67874016],\n",
       "       [0.63022113, 0.5       , 0.        , 0.17634409, 0.5       ,\n",
       "        1.        , 0.66666667, 0.28571429, 0.5       , 0.63464567],\n",
       "       [0.62407862, 0.        , 0.        , 0.30537634, 0.        ,\n",
       "        0.        , 0.66666667, 0.14285714, 0.        , 0.28188976]])"
      ]
     },
     "execution_count": 56,
     "metadata": {},
     "output_type": "execute_result"
    }
   ],
   "source": [
    "X_test"
   ]
  },
  {
   "cell_type": "code",
   "execution_count": 59,
   "id": "787998ee",
   "metadata": {
    "ExecuteTime": {
     "end_time": "2022-12-19T09:31:28.080877Z",
     "start_time": "2022-12-19T09:31:28.066429Z"
    }
   },
   "outputs": [],
   "source": [
    "z=[[8450,7,5,856,2,1,3,8,0,548]]"
   ]
  },
  {
   "cell_type": "code",
   "execution_count": 60,
   "id": "8b002e13",
   "metadata": {
    "ExecuteTime": {
     "end_time": "2022-12-19T09:31:56.419830Z",
     "start_time": "2022-12-19T09:31:56.402694Z"
    }
   },
   "outputs": [
    {
     "name": "stderr",
     "output_type": "stream",
     "text": [
      "C:\\Users\\91934\\anaconda3\\lib\\site-packages\\sklearn\\base.py:450: UserWarning: X does not have valid feature names, but MinMaxScaler was fitted with feature names\n",
      "  warnings.warn(\n"
     ]
    }
   ],
   "source": [
    "scaled_data=scaler.transform(z)"
   ]
  },
  {
   "cell_type": "code",
   "execution_count": 61,
   "id": "68a6e945",
   "metadata": {
    "ExecuteTime": {
     "end_time": "2022-12-19T09:32:30.433987Z",
     "start_time": "2022-12-19T09:32:30.172825Z"
    }
   },
   "outputs": [
    {
     "name": "stdout",
     "output_type": "stream",
     "text": [
      "1/1 [==============================] - 0s 185ms/step\n"
     ]
    },
    {
     "data": {
      "text/plain": [
       "array([[0.78019625]], dtype=float32)"
      ]
     },
     "execution_count": 61,
     "metadata": {},
     "output_type": "execute_result"
    }
   ],
   "source": [
    "model.predict(scaled_data)"
   ]
  },
  {
   "cell_type": "code",
   "execution_count": null,
   "id": "f295f4b1",
   "metadata": {},
   "outputs": [],
   "source": []
  }
 ],
 "metadata": {
  "kernelspec": {
   "display_name": "Python 3 (ipykernel)",
   "language": "python",
   "name": "python3"
  },
  "language_info": {
   "codemirror_mode": {
    "name": "ipython",
    "version": 3
   },
   "file_extension": ".py",
   "mimetype": "text/x-python",
   "name": "python",
   "nbconvert_exporter": "python",
   "pygments_lexer": "ipython3",
   "version": "3.9.12"
  }
 },
 "nbformat": 4,
 "nbformat_minor": 5
}
