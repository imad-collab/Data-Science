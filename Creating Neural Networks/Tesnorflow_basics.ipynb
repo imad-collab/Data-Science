{
 "cells": [
  {
   "cell_type": "code",
   "execution_count": 48,
   "id": "ef675db4",
   "metadata": {
    "ExecuteTime": {
     "end_time": "2022-12-19T08:58:44.523480Z",
     "start_time": "2022-12-19T08:58:44.510487Z"
    }
   },
   "outputs": [],
   "source": [
    "import tensorflow as tf"
   ]
  },
  {
   "cell_type": "markdown",
   "id": "2e8ea2d6",
   "metadata": {},
   "source": [
    "# Constant Tensor"
   ]
  },
  {
   "cell_type": "code",
   "execution_count": 49,
   "id": "588e3590",
   "metadata": {
    "ExecuteTime": {
     "end_time": "2022-12-19T08:58:45.235066Z",
     "start_time": "2022-12-19T08:58:45.225061Z"
    }
   },
   "outputs": [],
   "source": [
    "#'tf.string': String type of data\n",
    "#'tf.float': Float type of data\n",
    "#'tf.integer': integer type of data"
   ]
  },
  {
   "cell_type": "code",
   "execution_count": 50,
   "id": "b2d6af47",
   "metadata": {
    "ExecuteTime": {
     "end_time": "2022-12-19T08:58:45.564171Z",
     "start_time": "2022-12-19T08:58:45.557225Z"
    }
   },
   "outputs": [],
   "source": [
    " #For constant Function ,we should use constant() function\n",
    "c1=tf.constant(10)"
   ]
  },
  {
   "cell_type": "code",
   "execution_count": 51,
   "id": "933cf8c4",
   "metadata": {
    "ExecuteTime": {
     "end_time": "2022-12-19T08:58:45.905201Z",
     "start_time": "2022-12-19T08:58:45.891237Z"
    }
   },
   "outputs": [
    {
     "data": {
      "text/plain": [
       "<tf.Tensor: shape=(), dtype=string, numpy=b'hello world'>"
      ]
     },
     "execution_count": 51,
     "metadata": {},
     "output_type": "execute_result"
    }
   ],
   "source": [
    "c2=tf.constant('hello world')\n",
    "c2"
   ]
  },
  {
   "cell_type": "markdown",
   "id": "f20f1437",
   "metadata": {},
   "source": [
    "# Variable Tensor"
   ]
  },
  {
   "cell_type": "code",
   "execution_count": 52,
   "id": "ca580e73",
   "metadata": {
    "ExecuteTime": {
     "end_time": "2022-12-19T08:58:46.528961Z",
     "start_time": "2022-12-19T08:58:46.510942Z"
    }
   },
   "outputs": [
    {
     "data": {
      "text/plain": [
       "<tf.Variable 'Variable:0' shape=() dtype=int32, numpy=25>"
      ]
     },
     "execution_count": 52,
     "metadata": {},
     "output_type": "execute_result"
    }
   ],
   "source": [
    "tf.Variable(25)"
   ]
  },
  {
   "cell_type": "markdown",
   "id": "6f3a091e",
   "metadata": {},
   "source": [
    "# Creating Tensor with Arrays"
   ]
  },
  {
   "cell_type": "code",
   "execution_count": 53,
   "id": "7d441832",
   "metadata": {
    "ExecuteTime": {
     "end_time": "2022-12-19T08:58:47.150463Z",
     "start_time": "2022-12-19T08:58:47.141486Z"
    }
   },
   "outputs": [
    {
     "data": {
      "text/plain": [
       "<tf.Tensor: shape=(2, 3), dtype=int32, numpy=\n",
       "array([[10, 11, 12],\n",
       "       [20, 21, 22]])>"
      ]
     },
     "execution_count": 53,
     "metadata": {},
     "output_type": "execute_result"
    }
   ],
   "source": [
    "#Create a 1-d array with 4 elements\n",
    "arr1=tf.constant([[10,11,12],[20,21,22]])\n",
    "arr1"
   ]
  },
  {
   "cell_type": "code",
   "execution_count": 54,
   "id": "c370c5e7",
   "metadata": {
    "ExecuteTime": {
     "end_time": "2022-12-19T08:58:47.460950Z",
     "start_time": "2022-12-19T08:58:47.449007Z"
    }
   },
   "outputs": [
    {
     "data": {
      "text/plain": [
       "<tf.Variable 'Variable:0' shape=(1, 4, 3) dtype=int32, numpy=\n",
       "array([[[10, 11, 12],\n",
       "        [20, 21, 22],\n",
       "        [30, 31, 32],\n",
       "        [40, 41, 42]]])>"
      ]
     },
     "execution_count": 54,
     "metadata": {},
     "output_type": "execute_result"
    }
   ],
   "source": [
    "arr3=tf.Variable([[[10,11,12],[20,21,22],[30,31,32],[40,41,42]]])\n",
    "arr3"
   ]
  },
  {
   "cell_type": "code",
   "execution_count": 55,
   "id": "ac12af6c",
   "metadata": {
    "ExecuteTime": {
     "end_time": "2022-12-19T08:58:47.769671Z",
     "start_time": "2022-12-19T08:58:47.761660Z"
    }
   },
   "outputs": [
    {
     "data": {
      "text/plain": [
       "'Variable:0'"
      ]
     },
     "execution_count": 55,
     "metadata": {},
     "output_type": "execute_result"
    }
   ],
   "source": [
    "arr3.name"
   ]
  },
  {
   "cell_type": "code",
   "execution_count": 56,
   "id": "f7381c43",
   "metadata": {
    "ExecuteTime": {
     "end_time": "2022-12-19T08:58:48.109818Z",
     "start_time": "2022-12-19T08:58:48.094786Z"
    }
   },
   "outputs": [
    {
     "data": {
      "text/plain": [
       "TensorShape([1, 4, 3])"
      ]
     },
     "execution_count": 56,
     "metadata": {},
     "output_type": "execute_result"
    }
   ],
   "source": [
    "arr3.shape"
   ]
  },
  {
   "cell_type": "markdown",
   "id": "7af76d2f",
   "metadata": {},
   "source": [
    "# Using tensorflow ,add 2 numbers and display their sum."
   ]
  },
  {
   "cell_type": "code",
   "execution_count": 64,
   "id": "5851fb45",
   "metadata": {
    "ExecuteTime": {
     "end_time": "2022-12-19T09:08:34.113255Z",
     "start_time": "2022-12-19T09:08:34.100900Z"
    }
   },
   "outputs": [],
   "source": [
    "import tensorflow as tf "
   ]
  },
  {
   "cell_type": "code",
   "execution_count": 74,
   "id": "8d0c0359",
   "metadata": {
    "ExecuteTime": {
     "end_time": "2022-12-19T09:11:03.482780Z",
     "start_time": "2022-12-19T09:11:03.478819Z"
    }
   },
   "outputs": [],
   "source": []
  },
  {
   "cell_type": "code",
   "execution_count": 75,
   "id": "0287f4bd",
   "metadata": {
    "ExecuteTime": {
     "end_time": "2022-12-19T09:11:05.465674Z",
     "start_time": "2022-12-19T09:11:05.450330Z"
    }
   },
   "outputs": [
    {
     "data": {
      "text/plain": [
       "<tf.Tensor: shape=(), dtype=float32, numpy=35.0>"
      ]
     },
     "execution_count": 75,
     "metadata": {},
     "output_type": "execute_result"
    }
   ],
   "source": [
    "c=tf.add(a,b)\n",
    "c "
   ]
  },
  {
   "cell_type": "code",
   "execution_count": 76,
   "id": "a2db5edf",
   "metadata": {
    "ExecuteTime": {
     "end_time": "2022-12-19T09:11:07.493524Z",
     "start_time": "2022-12-19T09:11:07.485777Z"
    }
   },
   "outputs": [],
   "source": [
    "#Now the run above graph(operation) in the session\n",
    "sess=tf.compat.v1.Session() "
   ]
  },
  {
   "cell_type": "code",
   "execution_count": 77,
   "id": "4253259a",
   "metadata": {
    "ExecuteTime": {
     "end_time": "2022-12-19T09:11:09.514688Z",
     "start_time": "2022-12-19T09:11:09.437803Z"
    }
   },
   "outputs": [
    {
     "ename": "RuntimeError",
     "evalue": "The Session graph is empty. Add operations to the graph before calling run().",
     "output_type": "error",
     "traceback": [
      "\u001b[1;31m---------------------------------------------------------------------------\u001b[0m",
      "\u001b[1;31mRuntimeError\u001b[0m                              Traceback (most recent call last)",
      "Input \u001b[1;32mIn [77]\u001b[0m, in \u001b[0;36m<cell line: 1>\u001b[1;34m()\u001b[0m\n\u001b[1;32m----> 1\u001b[0m output \u001b[38;5;241m=\u001b[39m \u001b[43msess\u001b[49m\u001b[38;5;241;43m.\u001b[39;49m\u001b[43mrun\u001b[49m\u001b[43m(\u001b[49m\u001b[43mc\u001b[49m\u001b[43m)\u001b[49m\n",
      "File \u001b[1;32m~\\AppData\\Roaming\\Python\\Python39\\site-packages\\tensorflow\\python\\client\\session.py:968\u001b[0m, in \u001b[0;36mBaseSession.run\u001b[1;34m(self, fetches, feed_dict, options, run_metadata)\u001b[0m\n\u001b[0;32m    965\u001b[0m run_metadata_ptr \u001b[38;5;241m=\u001b[39m tf_session\u001b[38;5;241m.\u001b[39mTF_NewBuffer() \u001b[38;5;28;01mif\u001b[39;00m run_metadata \u001b[38;5;28;01melse\u001b[39;00m \u001b[38;5;28;01mNone\u001b[39;00m\n\u001b[0;32m    967\u001b[0m \u001b[38;5;28;01mtry\u001b[39;00m:\n\u001b[1;32m--> 968\u001b[0m   result \u001b[38;5;241m=\u001b[39m \u001b[38;5;28;43mself\u001b[39;49m\u001b[38;5;241;43m.\u001b[39;49m\u001b[43m_run\u001b[49m\u001b[43m(\u001b[49m\u001b[38;5;28;43;01mNone\u001b[39;49;00m\u001b[43m,\u001b[49m\u001b[43m \u001b[49m\u001b[43mfetches\u001b[49m\u001b[43m,\u001b[49m\u001b[43m \u001b[49m\u001b[43mfeed_dict\u001b[49m\u001b[43m,\u001b[49m\u001b[43m \u001b[49m\u001b[43moptions_ptr\u001b[49m\u001b[43m,\u001b[49m\n\u001b[0;32m    969\u001b[0m \u001b[43m                     \u001b[49m\u001b[43mrun_metadata_ptr\u001b[49m\u001b[43m)\u001b[49m\n\u001b[0;32m    970\u001b[0m   \u001b[38;5;28;01mif\u001b[39;00m run_metadata:\n\u001b[0;32m    971\u001b[0m     proto_data \u001b[38;5;241m=\u001b[39m tf_session\u001b[38;5;241m.\u001b[39mTF_GetBuffer(run_metadata_ptr)\n",
      "File \u001b[1;32m~\\AppData\\Roaming\\Python\\Python39\\site-packages\\tensorflow\\python\\client\\session.py:1118\u001b[0m, in \u001b[0;36mBaseSession._run\u001b[1;34m(self, handle, fetches, feed_dict, options, run_metadata)\u001b[0m\n\u001b[0;32m   1116\u001b[0m   \u001b[38;5;28;01mraise\u001b[39;00m \u001b[38;5;167;01mRuntimeError\u001b[39;00m(\u001b[38;5;124m'\u001b[39m\u001b[38;5;124mAttempted to use a closed Session.\u001b[39m\u001b[38;5;124m'\u001b[39m)\n\u001b[0;32m   1117\u001b[0m \u001b[38;5;28;01mif\u001b[39;00m \u001b[38;5;28mself\u001b[39m\u001b[38;5;241m.\u001b[39mgraph\u001b[38;5;241m.\u001b[39mversion \u001b[38;5;241m==\u001b[39m \u001b[38;5;241m0\u001b[39m:\n\u001b[1;32m-> 1118\u001b[0m   \u001b[38;5;28;01mraise\u001b[39;00m \u001b[38;5;167;01mRuntimeError\u001b[39;00m(\u001b[38;5;124m'\u001b[39m\u001b[38;5;124mThe Session graph is empty. Add operations to the \u001b[39m\u001b[38;5;124m'\u001b[39m\n\u001b[0;32m   1119\u001b[0m                      \u001b[38;5;124m'\u001b[39m\u001b[38;5;124mgraph before calling run().\u001b[39m\u001b[38;5;124m'\u001b[39m)\n\u001b[0;32m   1121\u001b[0m \u001b[38;5;66;03m# Create request.\u001b[39;00m\n\u001b[0;32m   1122\u001b[0m feed_dict_tensor \u001b[38;5;241m=\u001b[39m {}\n",
      "\u001b[1;31mRuntimeError\u001b[0m: The Session graph is empty. Add operations to the graph before calling run()."
     ]
    }
   ],
   "source": [
    "output = sess.run(c)  "
   ]
  },
  {
   "cell_type": "code",
   "execution_count": 62,
   "id": "cae366c7",
   "metadata": {
    "ExecuteTime": {
     "end_time": "2022-12-19T08:58:49.666382Z",
     "start_time": "2022-12-19T08:58:49.631349Z"
    }
   },
   "outputs": [
    {
     "ename": "AttributeError",
     "evalue": "module 'tensorflow' has no attribute 'Session'",
     "output_type": "error",
     "traceback": [
      "\u001b[1;31m---------------------------------------------------------------------------\u001b[0m",
      "\u001b[1;31mAttributeError\u001b[0m                            Traceback (most recent call last)",
      "Input \u001b[1;32mIn [62]\u001b[0m, in \u001b[0;36m<cell line: 11>\u001b[1;34m()\u001b[0m\n\u001b[0;32m      8\u001b[0m c \u001b[38;5;241m=\u001b[39m a \u001b[38;5;241m+\u001b[39m b\n\u001b[0;32m     10\u001b[0m \u001b[38;5;66;03m# Initialize a TensorFlow session and run the calculation\u001b[39;00m\n\u001b[1;32m---> 11\u001b[0m \u001b[38;5;28;01mwith\u001b[39;00m \u001b[43mtf\u001b[49m\u001b[38;5;241;43m.\u001b[39;49m\u001b[43mSession\u001b[49m() \u001b[38;5;28;01mas\u001b[39;00m sess:\n\u001b[0;32m     12\u001b[0m   result \u001b[38;5;241m=\u001b[39m sess\u001b[38;5;241m.\u001b[39mrun(c)\n\u001b[0;32m     13\u001b[0m   \u001b[38;5;28mprint\u001b[39m(result)\n",
      "\u001b[1;31mAttributeError\u001b[0m: module 'tensorflow' has no attribute 'Session'"
     ]
    }
   ],
   "source": [
    "import tensorflow as tf\n",
    "\n",
    "# Define two constants as TensorFlow tensors\n",
    "a = tf.constant(3.0, dtype=tf.float32)\n",
    "b = tf.constant(4.0, dtype=tf.float32)\n",
    "\n",
    "# Add the two constants and store the result in a third tensor\n",
    "c = a + b\n",
    "\n",
    "# Initialize a TensorFlow session and run the calculation\n",
    "with tf.Session() as sess:\n",
    "  result = sess.run(c)\n",
    "  print(result)"
   ]
  },
  {
   "cell_type": "code",
   "execution_count": 63,
   "id": "4215cd84",
   "metadata": {
    "ExecuteTime": {
     "end_time": "2022-12-19T08:58:50.103646Z",
     "start_time": "2022-12-19T08:58:50.078714Z"
    }
   },
   "outputs": [
    {
     "ename": "RuntimeError",
     "evalue": "tf.placeholder() is not compatible with eager execution.",
     "output_type": "error",
     "traceback": [
      "\u001b[1;31m---------------------------------------------------------------------------\u001b[0m",
      "\u001b[1;31mRuntimeError\u001b[0m                              Traceback (most recent call last)",
      "Input \u001b[1;32mIn [63]\u001b[0m, in \u001b[0;36m<cell line: 1>\u001b[1;34m()\u001b[0m\n\u001b[1;32m----> 1\u001b[0m X\u001b[38;5;241m=\u001b[39m\u001b[43mtf\u001b[49m\u001b[38;5;241;43m.\u001b[39;49m\u001b[43mcompat\u001b[49m\u001b[38;5;241;43m.\u001b[39;49m\u001b[43mv1\u001b[49m\u001b[38;5;241;43m.\u001b[39;49m\u001b[43mplaceholder\u001b[49m\u001b[43m(\u001b[49m\u001b[43mtf\u001b[49m\u001b[38;5;241;43m.\u001b[39;49m\u001b[43mfloat32\u001b[49m\u001b[43m)\u001b[49m\n\u001b[0;32m      2\u001b[0m y\u001b[38;5;241m=\u001b[39mtf\u001b[38;5;241m.\u001b[39mcompat\u001b[38;5;241m.\u001b[39mv1\u001b[38;5;241m.\u001b[39mplaceholder(tf\u001b[38;5;241m.\u001b[39mfloat32)\n",
      "File \u001b[1;32m~\\AppData\\Roaming\\Python\\Python39\\site-packages\\tensorflow\\python\\ops\\array_ops.py:3342\u001b[0m, in \u001b[0;36mplaceholder\u001b[1;34m(dtype, shape, name)\u001b[0m\n\u001b[0;32m   3295\u001b[0m \u001b[38;5;124;03m\"\"\"Inserts a placeholder for a tensor that will be always fed.\u001b[39;00m\n\u001b[0;32m   3296\u001b[0m \n\u001b[0;32m   3297\u001b[0m \u001b[38;5;124;03m**Important**: This tensor will produce an error if evaluated. Its value must\u001b[39;00m\n\u001b[1;32m   (...)\u001b[0m\n\u001b[0;32m   3339\u001b[0m \u001b[38;5;124;03m@end_compatibility\u001b[39;00m\n\u001b[0;32m   3340\u001b[0m \u001b[38;5;124;03m\"\"\"\u001b[39;00m\n\u001b[0;32m   3341\u001b[0m \u001b[38;5;28;01mif\u001b[39;00m context\u001b[38;5;241m.\u001b[39mexecuting_eagerly():\n\u001b[1;32m-> 3342\u001b[0m   \u001b[38;5;28;01mraise\u001b[39;00m \u001b[38;5;167;01mRuntimeError\u001b[39;00m(\u001b[38;5;124m\"\u001b[39m\u001b[38;5;124mtf.placeholder() is not compatible with \u001b[39m\u001b[38;5;124m\"\u001b[39m\n\u001b[0;32m   3343\u001b[0m                      \u001b[38;5;124m\"\u001b[39m\u001b[38;5;124meager execution.\u001b[39m\u001b[38;5;124m\"\u001b[39m)\n\u001b[0;32m   3345\u001b[0m \u001b[38;5;28;01mreturn\u001b[39;00m gen_array_ops\u001b[38;5;241m.\u001b[39mplaceholder(dtype\u001b[38;5;241m=\u001b[39mdtype, shape\u001b[38;5;241m=\u001b[39mshape, name\u001b[38;5;241m=\u001b[39mname)\n",
      "\u001b[1;31mRuntimeError\u001b[0m: tf.placeholder() is not compatible with eager execution."
     ]
    }
   ],
   "source": [
    "X=tf.compat.v1.placeholder(tf.float32)\n",
    "y=tf.compat.v1.placeholder(tf.float32)"
   ]
  },
  {
   "cell_type": "code",
   "execution_count": 80,
   "id": "9ef091fa",
   "metadata": {
    "ExecuteTime": {
     "end_time": "2022-12-19T09:15:01.372086Z",
     "start_time": "2022-12-19T09:15:01.337227Z"
    }
   },
   "outputs": [
    {
     "name": "stdout",
     "output_type": "stream",
     "text": [
      "2.10.1\n",
      "[35.]\n"
     ]
    }
   ],
   "source": [
    "import tensorflow as tf\n",
    "print(tf.__version__)\n",
    "# Construct a `Session` to execute the graph.\n",
    "with tf.compat.v1.Session() as sess:\n",
    "\n",
    "  # Build a dataflow graph.\n",
    "    a=tf.constant(10.0),\n",
    "    b=tf.constant(25.0)\n",
    "    c=tf.add(a,b)\n",
    "  \n",
    "# Execute the graph and store the value that `e` represents in `result`.\n",
    "    result = sess.run(c)\n",
    "    print(result) "
   ]
  },
  {
   "cell_type": "code",
   "execution_count": null,
   "id": "ab52be21",
   "metadata": {},
   "outputs": [],
   "source": []
  },
  {
   "cell_type": "code",
   "execution_count": null,
   "id": "f0820268",
   "metadata": {},
   "outputs": [],
   "source": []
  }
 ],
 "metadata": {
  "kernelspec": {
   "display_name": "Python 3 (ipykernel)",
   "language": "python",
   "name": "python3"
  },
  "language_info": {
   "codemirror_mode": {
    "name": "ipython",
    "version": 3
   },
   "file_extension": ".py",
   "mimetype": "text/x-python",
   "name": "python",
   "nbconvert_exporter": "python",
   "pygments_lexer": "ipython3",
   "version": "3.9.12"
  }
 },
 "nbformat": 4,
 "nbformat_minor": 5
}
