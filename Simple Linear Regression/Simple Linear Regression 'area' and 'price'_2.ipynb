{
 "cells": [
  {
   "cell_type": "code",
   "execution_count": 6,
   "id": "56c0d1e9",
   "metadata": {
    "ExecuteTime": {
     "end_time": "2022-11-25T15:58:11.847578Z",
     "start_time": "2022-11-25T15:58:11.838816Z"
    }
   },
   "outputs": [],
   "source": [
    "import warnings\n",
    "warnings.filterwarnings('ignore')\n",
    "import pandas as pd\n",
    "import seaborn as sns\n"
   ]
  },
  {
   "cell_type": "code",
   "execution_count": 7,
   "id": "b737fdd7",
   "metadata": {
    "ExecuteTime": {
     "end_time": "2022-11-25T15:58:11.862537Z",
     "start_time": "2022-11-25T15:58:11.852564Z"
    }
   },
   "outputs": [],
   "source": [
    "y=[1,2,3,4,5]\n",
    "y1=[0.8,2.5,3,4.8,4.4]"
   ]
  },
  {
   "cell_type": "code",
   "execution_count": 8,
   "id": "ad31fe9a",
   "metadata": {
    "ExecuteTime": {
     "end_time": "2022-11-25T15:58:12.315453Z",
     "start_time": "2022-11-25T15:58:11.866522Z"
    }
   },
   "outputs": [
    {
     "name": "stdout",
     "output_type": "stream",
     "text": [
      "coefficient of determination 0.871\n"
     ]
    }
   ],
   "source": [
    "from sklearn.metrics import r2_score\n",
    "y=[1,2,3,4,5]\n",
    "y1=[0.8,2.5,3,4.8,4.4]\n",
    "r_square=r2_score(y,y1)\n",
    "print('coefficient of determination',r_square)"
   ]
  },
  {
   "cell_type": "code",
   "execution_count": 9,
   "id": "4922f823",
   "metadata": {
    "ExecuteTime": {
     "end_time": "2022-11-25T15:58:12.345419Z",
     "start_time": "2022-11-25T15:58:12.321359Z"
    }
   },
   "outputs": [],
   "source": [
    "df=pd.read_csv('homeprices.csv')"
   ]
  },
  {
   "cell_type": "code",
   "execution_count": 10,
   "id": "78efe490",
   "metadata": {
    "ExecuteTime": {
     "end_time": "2022-11-25T15:58:12.377391Z",
     "start_time": "2022-11-25T15:58:12.349580Z"
    }
   },
   "outputs": [
    {
     "data": {
      "text/html": [
       "<div>\n",
       "<style scoped>\n",
       "    .dataframe tbody tr th:only-of-type {\n",
       "        vertical-align: middle;\n",
       "    }\n",
       "\n",
       "    .dataframe tbody tr th {\n",
       "        vertical-align: top;\n",
       "    }\n",
       "\n",
       "    .dataframe thead th {\n",
       "        text-align: right;\n",
       "    }\n",
       "</style>\n",
       "<table border=\"1\" class=\"dataframe\">\n",
       "  <thead>\n",
       "    <tr style=\"text-align: right;\">\n",
       "      <th></th>\n",
       "      <th>area</th>\n",
       "      <th>price</th>\n",
       "    </tr>\n",
       "  </thead>\n",
       "  <tbody>\n",
       "    <tr>\n",
       "      <th>0</th>\n",
       "      <td>2600</td>\n",
       "      <td>550000</td>\n",
       "    </tr>\n",
       "    <tr>\n",
       "      <th>1</th>\n",
       "      <td>3000</td>\n",
       "      <td>565000</td>\n",
       "    </tr>\n",
       "    <tr>\n",
       "      <th>2</th>\n",
       "      <td>3200</td>\n",
       "      <td>610000</td>\n",
       "    </tr>\n",
       "    <tr>\n",
       "      <th>3</th>\n",
       "      <td>3600</td>\n",
       "      <td>680000</td>\n",
       "    </tr>\n",
       "    <tr>\n",
       "      <th>4</th>\n",
       "      <td>4000</td>\n",
       "      <td>725000</td>\n",
       "    </tr>\n",
       "  </tbody>\n",
       "</table>\n",
       "</div>"
      ],
      "text/plain": [
       "   area   price\n",
       "0  2600  550000\n",
       "1  3000  565000\n",
       "2  3200  610000\n",
       "3  3600  680000\n",
       "4  4000  725000"
      ]
     },
     "execution_count": 10,
     "metadata": {},
     "output_type": "execute_result"
    }
   ],
   "source": [
    "df"
   ]
  },
  {
   "cell_type": "code",
   "execution_count": 11,
   "id": "a1cd51da",
   "metadata": {
    "ExecuteTime": {
     "end_time": "2022-11-25T15:58:12.753498Z",
     "start_time": "2022-11-25T15:58:12.381277Z"
    }
   },
   "outputs": [
    {
     "data": {
      "text/plain": [
       "<AxesSubplot:xlabel='area', ylabel='price'>"
      ]
     },
     "execution_count": 11,
     "metadata": {},
     "output_type": "execute_result"
    },
    {
     "data": {
      "image/png": "[encoded data removed]",
      "text/plain": [
       "<Figure size 432x288 with 1 Axes>"
      ]
     },
     "metadata": {
      "needs_background": "light"
     },
     "output_type": "display_data"
    }
   ],
   "source": [
    "sns.scatterplot(data=df,x='area',y='price')"
   ]
  },
  {
   "cell_type": "code",
   "execution_count": 12,
   "id": "63a5d9a3",
   "metadata": {
    "ExecuteTime": {
     "end_time": "2022-11-25T15:58:12.924386Z",
     "start_time": "2022-11-25T15:58:12.755461Z"
    }
   },
   "outputs": [
    {
     "data": {
      "text/plain": [
       "LinearRegression()"
      ]
     },
     "execution_count": 12,
     "metadata": {},
     "output_type": "execute_result"
    }
   ],
   "source": [
    "#As we can see that it is a scatterplot ,so we can understand that\n",
    "#The distribution is linear and we can use the linear regression model\n",
    "# So lets import the Linear regression model\n",
    "from sklearn.linear_model import LinearRegression\n",
    "reg=LinearRegression()\n",
    "reg"
   ]
  },
  {
   "cell_type": "code",
   "execution_count": 13,
   "id": "be6194c8",
   "metadata": {
    "ExecuteTime": {
     "end_time": "2022-11-25T15:58:12.940291Z",
     "start_time": "2022-11-25T15:58:12.929317Z"
    }
   },
   "outputs": [
    {
     "data": {
      "text/plain": [
       "array([2600, 3000, 3200, 3600, 4000], dtype=int64)"
      ]
     },
     "execution_count": 13,
     "metadata": {},
     "output_type": "execute_result"
    }
   ],
   "source": [
    "df.area.values"
   ]
  },
  {
   "cell_type": "code",
   "execution_count": 14,
   "id": "2c502d14",
   "metadata": {
    "ExecuteTime": {
     "end_time": "2022-11-25T15:58:12.972202Z",
     "start_time": "2022-11-25T15:58:12.949663Z"
    }
   },
   "outputs": [
    {
     "data": {
      "text/plain": [
       "array([550000, 565000, 610000, 680000, 725000], dtype=int64)"
      ]
     },
     "execution_count": 14,
     "metadata": {},
     "output_type": "execute_result"
    }
   ],
   "source": [
    "df.price.values"
   ]
  },
  {
   "cell_type": "code",
   "execution_count": 15,
   "id": "a7978d2c",
   "metadata": {
    "ExecuteTime": {
     "end_time": "2022-11-25T15:58:12.987197Z",
     "start_time": "2022-11-25T15:58:12.975229Z"
    }
   },
   "outputs": [
    {
     "data": {
      "text/plain": [
       "array([[2600],\n",
       "       [3000],\n",
       "       [3200],\n",
       "       [3600],\n",
       "       [4000]], dtype=int64)"
      ]
     },
     "execution_count": 15,
     "metadata": {},
     "output_type": "execute_result"
    }
   ],
   "source": [
    "df.area.values.reshape(-1,1)"
   ]
  },
  {
   "cell_type": "code",
   "execution_count": 16,
   "id": "6c97d70c",
   "metadata": {
    "ExecuteTime": {
     "end_time": "2022-11-25T15:58:13.003170Z",
     "start_time": "2022-11-25T15:58:12.990158Z"
    }
   },
   "outputs": [],
   "source": [
    "x=df.area.values.reshape(-1,1)"
   ]
  },
  {
   "cell_type": "code",
   "execution_count": 17,
   "id": "0420f8a1",
   "metadata": {
    "ExecuteTime": {
     "end_time": "2022-11-25T15:58:13.033223Z",
     "start_time": "2022-11-25T15:58:13.007109Z"
    }
   },
   "outputs": [
    {
     "data": {
      "text/plain": [
       "LinearRegression()"
      ]
     },
     "execution_count": 17,
     "metadata": {},
     "output_type": "execute_result"
    }
   ],
   "source": [
    "reg=LinearRegression()\n",
    "#fit(x,y)\n",
    "#So(x=df[['area']],y=df.price)\n",
    "#fitting means we are trainning the data\n",
    "reg.fit(df[['area']],df[['price']])"
   ]
  },
  {
   "cell_type": "code",
   "execution_count": 18,
   "id": "34abb9f6",
   "metadata": {
    "ExecuteTime": {
     "end_time": "2022-11-25T15:58:13.048999Z",
     "start_time": "2022-11-25T15:58:13.036065Z"
    }
   },
   "outputs": [
    {
     "data": {
      "text/html": [
       "<div>\n",
       "<style scoped>\n",
       "    .dataframe tbody tr th:only-of-type {\n",
       "        vertical-align: middle;\n",
       "    }\n",
       "\n",
       "    .dataframe tbody tr th {\n",
       "        vertical-align: top;\n",
       "    }\n",
       "\n",
       "    .dataframe thead th {\n",
       "        text-align: right;\n",
       "    }\n",
       "</style>\n",
       "<table border=\"1\" class=\"dataframe\">\n",
       "  <thead>\n",
       "    <tr style=\"text-align: right;\">\n",
       "      <th></th>\n",
       "      <th>area</th>\n",
       "      <th>price</th>\n",
       "    </tr>\n",
       "  </thead>\n",
       "  <tbody>\n",
       "    <tr>\n",
       "      <th>0</th>\n",
       "      <td>2600</td>\n",
       "      <td>550000</td>\n",
       "    </tr>\n",
       "    <tr>\n",
       "      <th>1</th>\n",
       "      <td>3000</td>\n",
       "      <td>565000</td>\n",
       "    </tr>\n",
       "    <tr>\n",
       "      <th>2</th>\n",
       "      <td>3200</td>\n",
       "      <td>610000</td>\n",
       "    </tr>\n",
       "    <tr>\n",
       "      <th>3</th>\n",
       "      <td>3600</td>\n",
       "      <td>680000</td>\n",
       "    </tr>\n",
       "    <tr>\n",
       "      <th>4</th>\n",
       "      <td>4000</td>\n",
       "      <td>725000</td>\n",
       "    </tr>\n",
       "  </tbody>\n",
       "</table>\n",
       "</div>"
      ],
      "text/plain": [
       "   area   price\n",
       "0  2600  550000\n",
       "1  3000  565000\n",
       "2  3200  610000\n",
       "3  3600  680000\n",
       "4  4000  725000"
      ]
     },
     "execution_count": 18,
     "metadata": {},
     "output_type": "execute_result"
    }
   ],
   "source": [
    "df"
   ]
  },
  {
   "cell_type": "code",
   "execution_count": 19,
   "id": "a14ba192",
   "metadata": {
    "ExecuteTime": {
     "end_time": "2022-11-25T15:58:13.063725Z",
     "start_time": "2022-11-25T15:58:13.051989Z"
    }
   },
   "outputs": [
    {
     "data": {
      "text/plain": [
       "array([[628715.75342466]])"
      ]
     },
     "execution_count": 19,
     "metadata": {},
     "output_type": "execute_result"
    }
   ],
   "source": [
    "#now lets predict the price of 3300 sft house\n",
    "#its not there in the column\n",
    "reg.predict([[3300]])"
   ]
  },
  {
   "cell_type": "code",
   "execution_count": 20,
   "id": "4a129305",
   "metadata": {
    "ExecuteTime": {
     "end_time": "2022-11-25T15:58:13.078952Z",
     "start_time": "2022-11-25T15:58:13.066952Z"
    }
   },
   "outputs": [
    {
     "data": {
      "text/plain": [
       "array([180616.43835616])"
      ]
     },
     "execution_count": 20,
     "metadata": {},
     "output_type": "execute_result"
    }
   ],
   "source": [
    "reg.intercept_"
   ]
  },
  {
   "cell_type": "code",
   "execution_count": 21,
   "id": "d0f940f1",
   "metadata": {
    "ExecuteTime": {
     "end_time": "2022-11-25T15:58:13.094498Z",
     "start_time": "2022-11-25T15:58:13.081908Z"
    }
   },
   "outputs": [
    {
     "data": {
      "text/plain": [
       "array([[135.78767123]])"
      ]
     },
     "execution_count": 21,
     "metadata": {},
     "output_type": "execute_result"
    }
   ],
   "source": [
    "reg.coef_"
   ]
  },
  {
   "cell_type": "code",
   "execution_count": 22,
   "id": "10b87a45",
   "metadata": {
    "ExecuteTime": {
     "end_time": "2022-11-25T15:58:13.109837Z",
     "start_time": "2022-11-25T15:58:13.097902Z"
    }
   },
   "outputs": [
    {
     "data": {
      "text/plain": [
       "628715.75341516"
      ]
     },
     "execution_count": 22,
     "metadata": {},
     "output_type": "execute_result"
    }
   ],
   "source": [
    "#suppose if we substitute m and b values in y=mx+b,\n",
    "#we will get the predicted values as\n",
    "#slope(m)=135.78767123  x=3300   b=>constant==>intercept=180616.43835616  \n",
    "y=135.78767123*3300+180616.43835616 \n",
    "y"
   ]
  },
  {
   "cell_type": "code",
   "execution_count": 23,
   "id": "3c338c60",
   "metadata": {
    "ExecuteTime": {
     "end_time": "2022-11-25T15:58:13.125791Z",
     "start_time": "2022-11-25T15:58:13.112830Z"
    }
   },
   "outputs": [
    {
     "data": {
      "text/plain": [
       "array([[859554.79452055]])"
      ]
     },
     "execution_count": 23,
     "metadata": {},
     "output_type": "execute_result"
    }
   ],
   "source": [
    "#lets predict the price of 5000sft house\n",
    "reg.predict([[5000]])"
   ]
  },
  {
   "cell_type": "code",
   "execution_count": 24,
   "id": "61904f53",
   "metadata": {
    "ExecuteTime": {
     "end_time": "2022-11-25T15:58:13.141753Z",
     "start_time": "2022-11-25T15:58:13.129159Z"
    }
   },
   "outputs": [
    {
     "data": {
      "text/plain": [
       "array([[533664.38356164],\n",
       "       [587979.45205479],\n",
       "       [615136.98630137],\n",
       "       [669452.05479452],\n",
       "       [723767.12328767]])"
      ]
     },
     "execution_count": 24,
     "metadata": {},
     "output_type": "execute_result"
    }
   ],
   "source": [
    "#now lets find the accuracy level of the model by finding r squared values\n",
    "#so let's give 95.8% accuracy\n",
    "from sklearn.metrics import r2_score\n",
    "y_original=df.price\n",
    "y_predicted=reg.predict(df[['area']])\n",
    "y_predicted"
   ]
  },
  {
   "cell_type": "code",
   "execution_count": 25,
   "id": "ddfbfdd9",
   "metadata": {
    "ExecuteTime": {
     "end_time": "2022-11-25T15:58:13.157445Z",
     "start_time": "2022-11-25T15:58:13.144774Z"
    }
   },
   "outputs": [
    {
     "data": {
      "text/plain": [
       "0.9584301138199486"
      ]
     },
     "execution_count": 25,
     "metadata": {},
     "output_type": "execute_result"
    }
   ],
   "source": [
    "R_square=r2_score(y_original,y_predicted)\n",
    "R_square"
   ]
  },
  {
   "cell_type": "code",
   "execution_count": 26,
   "id": "262be602",
   "metadata": {
    "ExecuteTime": {
     "end_time": "2022-11-25T15:58:13.717054Z",
     "start_time": "2022-11-25T15:58:13.160893Z"
    }
   },
   "outputs": [
    {
     "data": {
      "text/plain": [
       "<seaborn.axisgrid.FacetGrid at 0x2c2467154c0>"
      ]
     },
     "execution_count": 26,
     "metadata": {},
     "output_type": "execute_result"
    },
    {
     "data": {
      "image/png": "[encoded data removed]",
      "text/plain": [
       "<Figure size 360x360 with 1 Axes>"
      ]
     },
     "metadata": {
      "needs_background": "light"
     },
     "output_type": "display_data"
    }
   ],
   "source": [
    "#let's display the scatterplot with a regression line\n",
    "sns.lmplot(data=df,x='area',y='price')"
   ]
  },
  {
   "cell_type": "markdown",
   "id": "2ac7f1f6",
   "metadata": {
    "ExecuteTime": {
     "end_time": "2022-11-24T09:40:41.035633Z",
     "start_time": "2022-11-24T09:40:41.022633Z"
    }
   },
   "source": [
    "\n"
   ]
  },
  {
   "cell_type": "code",
   "execution_count": null,
   "id": "979fc50d",
   "metadata": {
    "ExecuteTime": {
     "end_time": "2022-11-25T10:59:27.685978Z",
     "start_time": "2022-11-25T10:59:27.668056Z"
    }
   },
   "outputs": [],
   "source": []
  },
  {
   "cell_type": "code",
   "execution_count": null,
   "id": "6b3015c7",
   "metadata": {
    "ExecuteTime": {
     "end_time": "2022-11-25T10:59:28.196392Z",
     "start_time": "2022-11-25T10:59:28.182429Z"
    }
   },
   "outputs": [],
   "source": []
  },
  {
   "cell_type": "code",
   "execution_count": null,
   "id": "697530c7",
   "metadata": {
    "ExecuteTime": {
     "end_time": "2022-11-25T10:59:28.626168Z",
     "start_time": "2022-11-25T10:59:28.618190Z"
    }
   },
   "outputs": [],
   "source": []
  },
  {
   "cell_type": "code",
   "execution_count": null,
   "id": "76a5069a",
   "metadata": {
    "ExecuteTime": {
     "end_time": "2022-11-25T10:59:29.065248Z",
     "start_time": "2022-11-25T10:59:29.049199Z"
    }
   },
   "outputs": [],
   "source": []
  },
  {
   "cell_type": "markdown",
   "id": "3de65304",
   "metadata": {},
   "source": []
  },
  {
   "cell_type": "code",
   "execution_count": null,
   "id": "1abed8c5",
   "metadata": {
    "ExecuteTime": {
     "end_time": "2022-11-25T10:59:30.023519Z",
     "start_time": "2022-11-25T10:59:30.005589Z"
    }
   },
   "outputs": [],
   "source": []
  },
  {
   "cell_type": "code",
   "execution_count": null,
   "id": "760caf03",
   "metadata": {
    "ExecuteTime": {
     "end_time": "2022-11-25T10:59:30.924104Z",
     "start_time": "2022-11-25T10:59:30.512695Z"
    }
   },
   "outputs": [],
   "source": []
  },
  {
   "cell_type": "code",
   "execution_count": null,
   "id": "f1788df9",
   "metadata": {
    "ExecuteTime": {
     "end_time": "2022-11-25T10:59:31.048873Z",
     "start_time": "2022-11-25T10:59:31.029948Z"
    }
   },
   "outputs": [],
   "source": []
  },
  {
   "cell_type": "code",
   "execution_count": null,
   "id": "92165c88",
   "metadata": {},
   "outputs": [],
   "source": []
  },
  {
   "cell_type": "code",
   "execution_count": null,
   "id": "c54f97bf",
   "metadata": {},
   "outputs": [],
   "source": []
  }
 ],
 "metadata": {
  "_draft": {
   "nbviewer_url": "https://gist.github.com/1c7e8d8e5a6942e69eefb3ea38d8693e"
  },
  "gist": {
   "data": {
    "description": "Untitled1.ipynb",
    "public": true
   },
   "id": "1c7e8d8e5a6942e69eefb3ea38d8693e"
  },
  "kernelspec": {
   "display_name": "Python 3 (ipykernel)",
   "language": "python",
   "name": "python3"
  },
  "language_info": {
   "codemirror_mode": {
    "name": "ipython",
    "version": 3
   },
   "file_extension": ".py",
   "mimetype": "text/x-python",
   "name": "python",
   "nbconvert_exporter": "python",
   "pygments_lexer": "ipython3",
   "version": "3.9.12"
  }
 },
 "nbformat": 4,
 "nbformat_minor": 5
}
