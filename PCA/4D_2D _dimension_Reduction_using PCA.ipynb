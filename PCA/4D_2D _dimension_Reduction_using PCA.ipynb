{
 "cells": [
  {
   "cell_type": "code",
   "execution_count": 48,
   "id": "df6ec289",
   "metadata": {
    "ExecuteTime": {
     "end_time": "2022-12-03T14:43:23.653439Z",
     "start_time": "2022-12-03T14:43:23.643465Z"
    }
   },
   "outputs": [],
   "source": [
    "# pca- reducing 4 dimentional data into 2 dimentional\n",
    "import warnings\n",
    "warnings.filterwarnings('ignore')\n",
    "import pandas as pd\n",
    "import seaborn as sns\n",
    "import numpy as np"
   ]
  },
  {
   "cell_type": "code",
   "execution_count": 49,
   "id": "99f4847a",
   "metadata": {
    "ExecuteTime": {
     "end_time": "2022-12-03T14:43:23.669396Z",
     "start_time": "2022-12-03T14:43:23.655584Z"
    }
   },
   "outputs": [],
   "source": [
    "# take iris dataset from sklearn\n",
    "from sklearn import datasets\n",
    "iris=datasets.load_iris()"
   ]
  },
  {
   "cell_type": "code",
   "execution_count": 50,
   "id": "6138407a",
   "metadata": {
    "ExecuteTime": {
     "end_time": "2022-12-03T14:43:23.685354Z",
     "start_time": "2022-12-03T14:43:23.671391Z"
    }
   },
   "outputs": [
    {
     "data": {
      "text/plain": [
       "array([[5.1, 3.5, 1.4, 0.2],\n",
       "       [4.9, 3. , 1.4, 0.2],\n",
       "       [4.7, 3.2, 1.3, 0.2],\n",
       "       [4.6, 3.1, 1.5, 0.2],\n",
       "       [5. , 3.6, 1.4, 0.2],\n",
       "       [5.4, 3.9, 1.7, 0.4],\n",
       "       [4.6, 3.4, 1.4, 0.3],\n",
       "       [5. , 3.4, 1.5, 0.2],\n",
       "       [4.4, 2.9, 1.4, 0.2],\n",
       "       [4.9, 3.1, 1.5, 0.1],\n",
       "       [5.4, 3.7, 1.5, 0.2],\n",
       "       [4.8, 3.4, 1.6, 0.2],\n",
       "       [4.8, 3. , 1.4, 0.1],\n",
       "       [4.3, 3. , 1.1, 0.1],\n",
       "       [5.8, 4. , 1.2, 0.2],\n",
       "       [5.7, 4.4, 1.5, 0.4],\n",
       "       [5.4, 3.9, 1.3, 0.4],\n",
       "       [5.1, 3.5, 1.4, 0.3],\n",
       "       [5.7, 3.8, 1.7, 0.3],\n",
       "       [5.1, 3.8, 1.5, 0.3],\n",
       "       [5.4, 3.4, 1.7, 0.2],\n",
       "       [5.1, 3.7, 1.5, 0.4],\n",
       "       [4.6, 3.6, 1. , 0.2],\n",
       "       [5.1, 3.3, 1.7, 0.5],\n",
       "       [4.8, 3.4, 1.9, 0.2],\n",
       "       [5. , 3. , 1.6, 0.2],\n",
       "       [5. , 3.4, 1.6, 0.4],\n",
       "       [5.2, 3.5, 1.5, 0.2],\n",
       "       [5.2, 3.4, 1.4, 0.2],\n",
       "       [4.7, 3.2, 1.6, 0.2],\n",
       "       [4.8, 3.1, 1.6, 0.2],\n",
       "       [5.4, 3.4, 1.5, 0.4],\n",
       "       [5.2, 4.1, 1.5, 0.1],\n",
       "       [5.5, 4.2, 1.4, 0.2],\n",
       "       [4.9, 3.1, 1.5, 0.2],\n",
       "       [5. , 3.2, 1.2, 0.2],\n",
       "       [5.5, 3.5, 1.3, 0.2],\n",
       "       [4.9, 3.6, 1.4, 0.1],\n",
       "       [4.4, 3. , 1.3, 0.2],\n",
       "       [5.1, 3.4, 1.5, 0.2],\n",
       "       [5. , 3.5, 1.3, 0.3],\n",
       "       [4.5, 2.3, 1.3, 0.3],\n",
       "       [4.4, 3.2, 1.3, 0.2],\n",
       "       [5. , 3.5, 1.6, 0.6],\n",
       "       [5.1, 3.8, 1.9, 0.4],\n",
       "       [4.8, 3. , 1.4, 0.3],\n",
       "       [5.1, 3.8, 1.6, 0.2],\n",
       "       [4.6, 3.2, 1.4, 0.2],\n",
       "       [5.3, 3.7, 1.5, 0.2],\n",
       "       [5. , 3.3, 1.4, 0.2],\n",
       "       [7. , 3.2, 4.7, 1.4],\n",
       "       [6.4, 3.2, 4.5, 1.5],\n",
       "       [6.9, 3.1, 4.9, 1.5],\n",
       "       [5.5, 2.3, 4. , 1.3],\n",
       "       [6.5, 2.8, 4.6, 1.5],\n",
       "       [5.7, 2.8, 4.5, 1.3],\n",
       "       [6.3, 3.3, 4.7, 1.6],\n",
       "       [4.9, 2.4, 3.3, 1. ],\n",
       "       [6.6, 2.9, 4.6, 1.3],\n",
       "       [5.2, 2.7, 3.9, 1.4],\n",
       "       [5. , 2. , 3.5, 1. ],\n",
       "       [5.9, 3. , 4.2, 1.5],\n",
       "       [6. , 2.2, 4. , 1. ],\n",
       "       [6.1, 2.9, 4.7, 1.4],\n",
       "       [5.6, 2.9, 3.6, 1.3],\n",
       "       [6.7, 3.1, 4.4, 1.4],\n",
       "       [5.6, 3. , 4.5, 1.5],\n",
       "       [5.8, 2.7, 4.1, 1. ],\n",
       "       [6.2, 2.2, 4.5, 1.5],\n",
       "       [5.6, 2.5, 3.9, 1.1],\n",
       "       [5.9, 3.2, 4.8, 1.8],\n",
       "       [6.1, 2.8, 4. , 1.3],\n",
       "       [6.3, 2.5, 4.9, 1.5],\n",
       "       [6.1, 2.8, 4.7, 1.2],\n",
       "       [6.4, 2.9, 4.3, 1.3],\n",
       "       [6.6, 3. , 4.4, 1.4],\n",
       "       [6.8, 2.8, 4.8, 1.4],\n",
       "       [6.7, 3. , 5. , 1.7],\n",
       "       [6. , 2.9, 4.5, 1.5],\n",
       "       [5.7, 2.6, 3.5, 1. ],\n",
       "       [5.5, 2.4, 3.8, 1.1],\n",
       "       [5.5, 2.4, 3.7, 1. ],\n",
       "       [5.8, 2.7, 3.9, 1.2],\n",
       "       [6. , 2.7, 5.1, 1.6],\n",
       "       [5.4, 3. , 4.5, 1.5],\n",
       "       [6. , 3.4, 4.5, 1.6],\n",
       "       [6.7, 3.1, 4.7, 1.5],\n",
       "       [6.3, 2.3, 4.4, 1.3],\n",
       "       [5.6, 3. , 4.1, 1.3],\n",
       "       [5.5, 2.5, 4. , 1.3],\n",
       "       [5.5, 2.6, 4.4, 1.2],\n",
       "       [6.1, 3. , 4.6, 1.4],\n",
       "       [5.8, 2.6, 4. , 1.2],\n",
       "       [5. , 2.3, 3.3, 1. ],\n",
       "       [5.6, 2.7, 4.2, 1.3],\n",
       "       [5.7, 3. , 4.2, 1.2],\n",
       "       [5.7, 2.9, 4.2, 1.3],\n",
       "       [6.2, 2.9, 4.3, 1.3],\n",
       "       [5.1, 2.5, 3. , 1.1],\n",
       "       [5.7, 2.8, 4.1, 1.3],\n",
       "       [6.3, 3.3, 6. , 2.5],\n",
       "       [5.8, 2.7, 5.1, 1.9],\n",
       "       [7.1, 3. , 5.9, 2.1],\n",
       "       [6.3, 2.9, 5.6, 1.8],\n",
       "       [6.5, 3. , 5.8, 2.2],\n",
       "       [7.6, 3. , 6.6, 2.1],\n",
       "       [4.9, 2.5, 4.5, 1.7],\n",
       "       [7.3, 2.9, 6.3, 1.8],\n",
       "       [6.7, 2.5, 5.8, 1.8],\n",
       "       [7.2, 3.6, 6.1, 2.5],\n",
       "       [6.5, 3.2, 5.1, 2. ],\n",
       "       [6.4, 2.7, 5.3, 1.9],\n",
       "       [6.8, 3. , 5.5, 2.1],\n",
       "       [5.7, 2.5, 5. , 2. ],\n",
       "       [5.8, 2.8, 5.1, 2.4],\n",
       "       [6.4, 3.2, 5.3, 2.3],\n",
       "       [6.5, 3. , 5.5, 1.8],\n",
       "       [7.7, 3.8, 6.7, 2.2],\n",
       "       [7.7, 2.6, 6.9, 2.3],\n",
       "       [6. , 2.2, 5. , 1.5],\n",
       "       [6.9, 3.2, 5.7, 2.3],\n",
       "       [5.6, 2.8, 4.9, 2. ],\n",
       "       [7.7, 2.8, 6.7, 2. ],\n",
       "       [6.3, 2.7, 4.9, 1.8],\n",
       "       [6.7, 3.3, 5.7, 2.1],\n",
       "       [7.2, 3.2, 6. , 1.8],\n",
       "       [6.2, 2.8, 4.8, 1.8],\n",
       "       [6.1, 3. , 4.9, 1.8],\n",
       "       [6.4, 2.8, 5.6, 2.1],\n",
       "       [7.2, 3. , 5.8, 1.6],\n",
       "       [7.4, 2.8, 6.1, 1.9],\n",
       "       [7.9, 3.8, 6.4, 2. ],\n",
       "       [6.4, 2.8, 5.6, 2.2],\n",
       "       [6.3, 2.8, 5.1, 1.5],\n",
       "       [6.1, 2.6, 5.6, 1.4],\n",
       "       [7.7, 3. , 6.1, 2.3],\n",
       "       [6.3, 3.4, 5.6, 2.4],\n",
       "       [6.4, 3.1, 5.5, 1.8],\n",
       "       [6. , 3. , 4.8, 1.8],\n",
       "       [6.9, 3.1, 5.4, 2.1],\n",
       "       [6.7, 3.1, 5.6, 2.4],\n",
       "       [6.9, 3.1, 5.1, 2.3],\n",
       "       [5.8, 2.7, 5.1, 1.9],\n",
       "       [6.8, 3.2, 5.9, 2.3],\n",
       "       [6.7, 3.3, 5.7, 2.5],\n",
       "       [6.7, 3. , 5.2, 2.3],\n",
       "       [6.3, 2.5, 5. , 1.9],\n",
       "       [6.5, 3. , 5.2, 2. ],\n",
       "       [6.2, 3.4, 5.4, 2.3],\n",
       "       [5.9, 3. , 5.1, 1.8]])"
      ]
     },
     "execution_count": 50,
     "metadata": {},
     "output_type": "execute_result"
    }
   ],
   "source": [
    "iris.data"
   ]
  },
  {
   "cell_type": "code",
   "execution_count": 51,
   "id": "2db57fa9",
   "metadata": {
    "ExecuteTime": {
     "end_time": "2022-12-03T14:43:23.700314Z",
     "start_time": "2022-12-03T14:43:23.687915Z"
    }
   },
   "outputs": [
    {
     "data": {
      "text/plain": [
       "array([0, 0, 0, 0, 0, 0, 0, 0, 0, 0, 0, 0, 0, 0, 0, 0, 0, 0, 0, 0, 0, 0,\n",
       "       0, 0, 0, 0, 0, 0, 0, 0, 0, 0, 0, 0, 0, 0, 0, 0, 0, 0, 0, 0, 0, 0,\n",
       "       0, 0, 0, 0, 0, 0, 1, 1, 1, 1, 1, 1, 1, 1, 1, 1, 1, 1, 1, 1, 1, 1,\n",
       "       1, 1, 1, 1, 1, 1, 1, 1, 1, 1, 1, 1, 1, 1, 1, 1, 1, 1, 1, 1, 1, 1,\n",
       "       1, 1, 1, 1, 1, 1, 1, 1, 1, 1, 1, 1, 2, 2, 2, 2, 2, 2, 2, 2, 2, 2,\n",
       "       2, 2, 2, 2, 2, 2, 2, 2, 2, 2, 2, 2, 2, 2, 2, 2, 2, 2, 2, 2, 2, 2,\n",
       "       2, 2, 2, 2, 2, 2, 2, 2, 2, 2, 2, 2, 2, 2, 2, 2, 2, 2])"
      ]
     },
     "execution_count": 51,
     "metadata": {},
     "output_type": "execute_result"
    }
   ],
   "source": [
    "iris.target"
   ]
  },
  {
   "cell_type": "code",
   "execution_count": 52,
   "id": "5bcc524a",
   "metadata": {
    "ExecuteTime": {
     "end_time": "2022-12-03T14:43:23.715304Z",
     "start_time": "2022-12-03T14:43:23.701311Z"
    }
   },
   "outputs": [
    {
     "data": {
      "text/plain": [
       "['sepal length (cm)',\n",
       " 'sepal width (cm)',\n",
       " 'petal length (cm)',\n",
       " 'petal width (cm)']"
      ]
     },
     "execution_count": 52,
     "metadata": {},
     "output_type": "execute_result"
    }
   ],
   "source": [
    "iris.feature_names"
   ]
  },
  {
   "cell_type": "code",
   "execution_count": 53,
   "id": "5b9ba09d",
   "metadata": {
    "ExecuteTime": {
     "end_time": "2022-12-03T14:43:23.731367Z",
     "start_time": "2022-12-03T14:43:23.717271Z"
    }
   },
   "outputs": [],
   "source": [
    "X=pd.DataFrame(iris.data,columns=iris.feature_names)\n",
    "y=iris.target"
   ]
  },
  {
   "cell_type": "markdown",
   "id": "208456fb",
   "metadata": {},
   "source": [
    "# Standardscaler and normalize the data"
   ]
  },
  {
   "cell_type": "code",
   "execution_count": 54,
   "id": "b70ccd3b",
   "metadata": {
    "ExecuteTime": {
     "end_time": "2022-12-03T14:43:23.747282Z",
     "start_time": "2022-12-03T14:43:23.733254Z"
    }
   },
   "outputs": [],
   "source": [
    "from sklearn.preprocessing import StandardScaler\n",
    "scaler=StandardScaler()\n",
    "X_scaled=scaler.fit_transform(X)"
   ]
  },
  {
   "cell_type": "markdown",
   "id": "07c28b1d",
   "metadata": {},
   "source": [
    "# Now create covariance martix"
   ]
  },
  {
   "cell_type": "code",
   "execution_count": 55,
   "id": "529113be",
   "metadata": {
    "ExecuteTime": {
     "end_time": "2022-12-03T14:43:23.762779Z",
     "start_time": "2022-12-03T14:43:23.749184Z"
    }
   },
   "outputs": [],
   "source": [
    "rows=X_scaled.T\n",
    "covariance_matrix=np.cov(rows)"
   ]
  },
  {
   "cell_type": "markdown",
   "id": "269226d4",
   "metadata": {},
   "source": [
    "# Calculate the eigen values and eigen vectors"
   ]
  },
  {
   "cell_type": "code",
   "execution_count": 56,
   "id": "53df0b90",
   "metadata": {
    "ExecuteTime": {
     "end_time": "2022-12-03T14:43:23.778108Z",
     "start_time": "2022-12-03T14:43:23.764143Z"
    }
   },
   "outputs": [],
   "source": [
    "eig_val,eig_vec=np.linalg.eig(covariance_matrix)"
   ]
  },
  {
   "cell_type": "code",
   "execution_count": 57,
   "id": "82449b07",
   "metadata": {
    "ExecuteTime": {
     "end_time": "2022-12-03T14:43:23.793065Z",
     "start_time": "2022-12-03T14:43:23.781098Z"
    }
   },
   "outputs": [
    {
     "name": "stdout",
     "output_type": "stream",
     "text": [
      "0.7296244541329988\n",
      "0.22850761786701773\n",
      "0.036689218892828716\n",
      "0.005178709107154775\n"
     ]
    }
   ],
   "source": [
    "for i in range(len(eig_val)):\n",
    "    print(eig_val[i]/sum(eig_val))"
   ]
  },
  {
   "cell_type": "markdown",
   "id": "0877aa01",
   "metadata": {},
   "source": [
    "# Project the datapoints on to the selected eigen values"
   ]
  },
  {
   "cell_type": "code",
   "execution_count": 72,
   "id": "7b69fb39",
   "metadata": {
    "ExecuteTime": {
     "end_time": "2022-12-03T14:55:01.941667Z",
     "start_time": "2022-12-03T14:55:01.925387Z"
    }
   },
   "outputs": [],
   "source": [
    "PC1=X_scaled.dot(eig_vec.T[0])\n",
    "PC2=X_scaled.dot(eig_vec.T[1])"
   ]
  },
  {
   "cell_type": "code",
   "execution_count": 76,
   "id": "392af661",
   "metadata": {
    "ExecuteTime": {
     "end_time": "2022-12-03T14:55:50.083519Z",
     "start_time": "2022-12-03T14:55:50.077503Z"
    }
   },
   "outputs": [],
   "source": [
    "# Compose a new dataframe for our new analysis\n",
    "df=pd.DataFrame(PC1,columns=['PC1'])\n",
    "df['PC2']=PC2\n",
    "df['target']=y"
   ]
  },
  {
   "cell_type": "code",
   "execution_count": 79,
   "id": "6b633609",
   "metadata": {
    "ExecuteTime": {
     "end_time": "2022-12-03T14:57:36.235326Z",
     "start_time": "2022-12-03T14:57:35.933754Z"
    }
   },
   "outputs": [
    {
     "data": {
      "text/plain": [
       "<seaborn.axisgrid.FacetGrid at 0x1e6d11e2520>"
      ]
     },
     "execution_count": 79,
     "metadata": {},
     "output_type": "execute_result"
    },
    {
     "data": {
      "image/png": "[encoded data removed]",
      "text/plain": [
       "<Figure size 402.375x360 with 1 Axes>"
      ]
     },
     "metadata": {
      "needs_background": "light"
     },
     "output_type": "display_data"
    }
   ],
   "source": [
    "#Draw a plot with points\n",
    "sns.lmplot(x='PC1',y='PC2',data=df,fit_reg=False,hue='target')"
   ]
  },
  {
   "cell_type": "markdown",
   "id": "fda7cf90",
   "metadata": {},
   "source": [
    "# importing pca"
   ]
  },
  {
   "cell_type": "code",
   "execution_count": 82,
   "id": "e8c4bc93",
   "metadata": {
    "ExecuteTime": {
     "end_time": "2022-12-03T14:59:34.920376Z",
     "start_time": "2022-12-03T14:59:34.914396Z"
    }
   },
   "outputs": [],
   "source": [
    "from sklearn.decomposition import PCA\n",
    "pca=PCA(n_components=2)\n",
    "project_data=pca.fit_transform(X_scaled)"
   ]
  },
  {
   "cell_type": "code",
   "execution_count": 83,
   "id": "51681ac6",
   "metadata": {
    "ExecuteTime": {
     "end_time": "2022-12-03T15:00:12.791087Z",
     "start_time": "2022-12-03T15:00:12.778122Z"
    }
   },
   "outputs": [],
   "source": [
    "PC1=project_data[:,0]\n",
    "PC2=project_data[:,1]"
   ]
  },
  {
   "cell_type": "code",
   "execution_count": 90,
   "id": "f47c57e2",
   "metadata": {
    "ExecuteTime": {
     "end_time": "2022-12-03T15:03:45.680127Z",
     "start_time": "2022-12-03T15:03:45.658214Z"
    }
   },
   "outputs": [
    {
     "data": {
      "text/html": [
       "<div>\n",
       "<style scoped>\n",
       "    .dataframe tbody tr th:only-of-type {\n",
       "        vertical-align: middle;\n",
       "    }\n",
       "\n",
       "    .dataframe tbody tr th {\n",
       "        vertical-align: top;\n",
       "    }\n",
       "\n",
       "    .dataframe thead th {\n",
       "        text-align: right;\n",
       "    }\n",
       "</style>\n",
       "<table border=\"1\" class=\"dataframe\">\n",
       "  <thead>\n",
       "    <tr style=\"text-align: right;\">\n",
       "      <th></th>\n",
       "      <th>PC1</th>\n",
       "      <th>PC2</th>\n",
       "      <th>target</th>\n",
       "    </tr>\n",
       "  </thead>\n",
       "  <tbody>\n",
       "    <tr>\n",
       "      <th>0</th>\n",
       "      <td>-2.264703</td>\n",
       "      <td>0.480027</td>\n",
       "      <td>0</td>\n",
       "    </tr>\n",
       "    <tr>\n",
       "      <th>1</th>\n",
       "      <td>-2.080961</td>\n",
       "      <td>-0.674134</td>\n",
       "      <td>0</td>\n",
       "    </tr>\n",
       "    <tr>\n",
       "      <th>2</th>\n",
       "      <td>-2.364229</td>\n",
       "      <td>-0.341908</td>\n",
       "      <td>0</td>\n",
       "    </tr>\n",
       "    <tr>\n",
       "      <th>3</th>\n",
       "      <td>-2.299384</td>\n",
       "      <td>-0.597395</td>\n",
       "      <td>0</td>\n",
       "    </tr>\n",
       "    <tr>\n",
       "      <th>4</th>\n",
       "      <td>-2.389842</td>\n",
       "      <td>0.646835</td>\n",
       "      <td>0</td>\n",
       "    </tr>\n",
       "    <tr>\n",
       "      <th>...</th>\n",
       "      <td>...</td>\n",
       "      <td>...</td>\n",
       "      <td>...</td>\n",
       "    </tr>\n",
       "    <tr>\n",
       "      <th>145</th>\n",
       "      <td>1.870503</td>\n",
       "      <td>0.386966</td>\n",
       "      <td>2</td>\n",
       "    </tr>\n",
       "    <tr>\n",
       "      <th>146</th>\n",
       "      <td>1.564580</td>\n",
       "      <td>-0.896687</td>\n",
       "      <td>2</td>\n",
       "    </tr>\n",
       "    <tr>\n",
       "      <th>147</th>\n",
       "      <td>1.521170</td>\n",
       "      <td>0.269069</td>\n",
       "      <td>2</td>\n",
       "    </tr>\n",
       "    <tr>\n",
       "      <th>148</th>\n",
       "      <td>1.372788</td>\n",
       "      <td>1.011254</td>\n",
       "      <td>2</td>\n",
       "    </tr>\n",
       "    <tr>\n",
       "      <th>149</th>\n",
       "      <td>0.960656</td>\n",
       "      <td>-0.024332</td>\n",
       "      <td>2</td>\n",
       "    </tr>\n",
       "  </tbody>\n",
       "</table>\n",
       "<p>150 rows × 3 columns</p>\n",
       "</div>"
      ],
      "text/plain": [
       "          PC1       PC2  target\n",
       "0   -2.264703  0.480027       0\n",
       "1   -2.080961 -0.674134       0\n",
       "2   -2.364229 -0.341908       0\n",
       "3   -2.299384 -0.597395       0\n",
       "4   -2.389842  0.646835       0\n",
       "..        ...       ...     ...\n",
       "145  1.870503  0.386966       2\n",
       "146  1.564580 -0.896687       2\n",
       "147  1.521170  0.269069       2\n",
       "148  1.372788  1.011254       2\n",
       "149  0.960656 -0.024332       2\n",
       "\n",
       "[150 rows x 3 columns]"
      ]
     },
     "execution_count": 90,
     "metadata": {},
     "output_type": "execute_result"
    }
   ],
   "source": [
    "#creating the dataframe \n",
    "# then draw the plot\n",
    "df1=pd.DataFrame(PC1,columns=['PC1'])\n",
    "df1['PC2']=PC2\n",
    "df1['target']=y\n",
    "df1"
   ]
  },
  {
   "cell_type": "code",
   "execution_count": 91,
   "id": "0794ac4b",
   "metadata": {
    "ExecuteTime": {
     "end_time": "2022-12-03T15:03:46.531839Z",
     "start_time": "2022-12-03T15:03:46.288398Z"
    }
   },
   "outputs": [
    {
     "data": {
      "text/plain": [
       "<seaborn.axisgrid.FacetGrid at 0x1e6d8f51f70>"
      ]
     },
     "execution_count": 91,
     "metadata": {},
     "output_type": "execute_result"
    },
    {
     "data": {
      "image/png": "[encoded data removed]",
      "text/plain": [
       "<Figure size 402.375x360 with 1 Axes>"
      ]
     },
     "metadata": {
      "needs_background": "light"
     },
     "output_type": "display_data"
    }
   ],
   "source": [
    "sns.lmplot(x='PC1',y='PC2',data=df1,hue='target',fit_reg=False)"
   ]
  },
  {
   "cell_type": "code",
   "execution_count": 92,
   "id": "8e30d1fb",
   "metadata": {
    "ExecuteTime": {
     "end_time": "2022-12-03T15:03:47.070629Z",
     "start_time": "2022-12-03T15:03:47.054671Z"
    }
   },
   "outputs": [],
   "source": [
    "df1=df1.drop('target',axis=1)"
   ]
  },
  {
   "cell_type": "markdown",
   "id": "d9fb2a6c",
   "metadata": {},
   "source": [
    "# Using PCA class in sklearn"
   ]
  },
  {
   "cell_type": "code",
   "execution_count": 95,
   "id": "5070392d",
   "metadata": {
    "ExecuteTime": {
     "end_time": "2022-12-03T15:06:50.704584Z",
     "start_time": "2022-12-03T15:06:50.692617Z"
    }
   },
   "outputs": [],
   "source": [
    "from sklearn.decomposition import PCA\n",
    "pca=PCA(n_components=2)\n",
    "project_data=pca.fit_transform(X_scaled)"
   ]
  },
  {
   "cell_type": "code",
   "execution_count": 96,
   "id": "60d54520",
   "metadata": {
    "ExecuteTime": {
     "end_time": "2022-12-03T15:07:04.883973Z",
     "start_time": "2022-12-03T15:07:04.871990Z"
    }
   },
   "outputs": [],
   "source": [
    "PC1=project_data[:,0]\n",
    "PC2=project_data[:,1]"
   ]
  },
  {
   "cell_type": "code",
   "execution_count": 97,
   "id": "26b1200b",
   "metadata": {
    "ExecuteTime": {
     "end_time": "2022-12-03T15:07:49.843581Z",
     "start_time": "2022-12-03T15:07:49.831580Z"
    }
   },
   "outputs": [
    {
     "data": {
      "text/html": [
       "<div>\n",
       "<style scoped>\n",
       "    .dataframe tbody tr th:only-of-type {\n",
       "        vertical-align: middle;\n",
       "    }\n",
       "\n",
       "    .dataframe tbody tr th {\n",
       "        vertical-align: top;\n",
       "    }\n",
       "\n",
       "    .dataframe thead th {\n",
       "        text-align: right;\n",
       "    }\n",
       "</style>\n",
       "<table border=\"1\" class=\"dataframe\">\n",
       "  <thead>\n",
       "    <tr style=\"text-align: right;\">\n",
       "      <th></th>\n",
       "      <th>PC1</th>\n",
       "      <th>PC2</th>\n",
       "      <th>target</th>\n",
       "    </tr>\n",
       "  </thead>\n",
       "  <tbody>\n",
       "    <tr>\n",
       "      <th>0</th>\n",
       "      <td>-2.264703</td>\n",
       "      <td>0.480027</td>\n",
       "      <td>0</td>\n",
       "    </tr>\n",
       "    <tr>\n",
       "      <th>1</th>\n",
       "      <td>-2.080961</td>\n",
       "      <td>-0.674134</td>\n",
       "      <td>0</td>\n",
       "    </tr>\n",
       "    <tr>\n",
       "      <th>2</th>\n",
       "      <td>-2.364229</td>\n",
       "      <td>-0.341908</td>\n",
       "      <td>0</td>\n",
       "    </tr>\n",
       "    <tr>\n",
       "      <th>3</th>\n",
       "      <td>-2.299384</td>\n",
       "      <td>-0.597395</td>\n",
       "      <td>0</td>\n",
       "    </tr>\n",
       "    <tr>\n",
       "      <th>4</th>\n",
       "      <td>-2.389842</td>\n",
       "      <td>0.646835</td>\n",
       "      <td>0</td>\n",
       "    </tr>\n",
       "    <tr>\n",
       "      <th>...</th>\n",
       "      <td>...</td>\n",
       "      <td>...</td>\n",
       "      <td>...</td>\n",
       "    </tr>\n",
       "    <tr>\n",
       "      <th>145</th>\n",
       "      <td>1.870503</td>\n",
       "      <td>0.386966</td>\n",
       "      <td>2</td>\n",
       "    </tr>\n",
       "    <tr>\n",
       "      <th>146</th>\n",
       "      <td>1.564580</td>\n",
       "      <td>-0.896687</td>\n",
       "      <td>2</td>\n",
       "    </tr>\n",
       "    <tr>\n",
       "      <th>147</th>\n",
       "      <td>1.521170</td>\n",
       "      <td>0.269069</td>\n",
       "      <td>2</td>\n",
       "    </tr>\n",
       "    <tr>\n",
       "      <th>148</th>\n",
       "      <td>1.372788</td>\n",
       "      <td>1.011254</td>\n",
       "      <td>2</td>\n",
       "    </tr>\n",
       "    <tr>\n",
       "      <th>149</th>\n",
       "      <td>0.960656</td>\n",
       "      <td>-0.024332</td>\n",
       "      <td>2</td>\n",
       "    </tr>\n",
       "  </tbody>\n",
       "</table>\n",
       "<p>150 rows × 3 columns</p>\n",
       "</div>"
      ],
      "text/plain": [
       "          PC1       PC2  target\n",
       "0   -2.264703  0.480027       0\n",
       "1   -2.080961 -0.674134       0\n",
       "2   -2.364229 -0.341908       0\n",
       "3   -2.299384 -0.597395       0\n",
       "4   -2.389842  0.646835       0\n",
       "..        ...       ...     ...\n",
       "145  1.870503  0.386966       2\n",
       "146  1.564580 -0.896687       2\n",
       "147  1.521170  0.269069       2\n",
       "148  1.372788  1.011254       2\n",
       "149  0.960656 -0.024332       2\n",
       "\n",
       "[150 rows x 3 columns]"
      ]
     },
     "execution_count": 97,
     "metadata": {},
     "output_type": "execute_result"
    }
   ],
   "source": [
    "#Create a dataframe and then draw the plot\n",
    "df1=pd.DataFrame(PC1,columns=['PC1'])\n",
    "df1['PC2']=PC2\n",
    "df1['target']=y\n",
    "df1\n"
   ]
  },
  {
   "cell_type": "code",
   "execution_count": 98,
   "id": "95987d88",
   "metadata": {
    "ExecuteTime": {
     "end_time": "2022-12-03T15:08:00.859732Z",
     "start_time": "2022-12-03T15:08:00.601400Z"
    }
   },
   "outputs": [
    {
     "data": {
      "text/plain": [
       "<seaborn.axisgrid.FacetGrid at 0x1e6d92292e0>"
      ]
     },
     "execution_count": 98,
     "metadata": {},
     "output_type": "execute_result"
    },
    {
     "data": {
      "image/png": "[encoded data removed]",
      "text/plain": [
       "<Figure size 402.375x360 with 1 Axes>"
      ]
     },
     "metadata": {
      "needs_background": "light"
     },
     "output_type": "display_data"
    }
   ],
   "source": [
    "sns.lmplot(x='PC1',y='PC2',data=df1,hue='target',fit_reg=False)"
   ]
  },
  {
   "cell_type": "code",
   "execution_count": 99,
   "id": "5a1dbaeb",
   "metadata": {
    "ExecuteTime": {
     "end_time": "2022-12-03T15:08:42.000359Z",
     "start_time": "2022-12-03T15:08:41.992369Z"
    }
   },
   "outputs": [],
   "source": [
    "#remove the target col and take remaining dtaframe\n",
    "df1=df1.drop('target',axis=1)"
   ]
  },
  {
   "cell_type": "markdown",
   "id": "3dd01ed6",
   "metadata": {},
   "source": [
    "# Train and Test"
   ]
  },
  {
   "cell_type": "code",
   "execution_count": 102,
   "id": "299f1c7a",
   "metadata": {
    "ExecuteTime": {
     "end_time": "2022-12-03T15:11:49.629593Z",
     "start_time": "2022-12-03T15:11:49.616634Z"
    }
   },
   "outputs": [],
   "source": [
    "from sklearn.model_selection import train_test_split\n",
    "X_train, X_test, y_train, y_test=train_test_split(df1,y,test_size=0.2)"
   ]
  },
  {
   "cell_type": "code",
   "execution_count": 104,
   "id": "a469d699",
   "metadata": {
    "ExecuteTime": {
     "end_time": "2022-12-03T15:13:56.070124Z",
     "start_time": "2022-12-03T15:13:56.060149Z"
    }
   },
   "outputs": [
    {
     "data": {
      "text/plain": [
       "SVC()"
      ]
     },
     "execution_count": 104,
     "metadata": {},
     "output_type": "execute_result"
    }
   ],
   "source": [
    "# train the model using the SVM\n",
    "from sklearn.svm import SVC\n",
    "model=SVC()\n",
    "model.fit(X_train,y_train)"
   ]
  },
  {
   "cell_type": "code",
   "execution_count": 105,
   "id": "a5db1827",
   "metadata": {
    "ExecuteTime": {
     "end_time": "2022-12-03T15:14:32.775402Z",
     "start_time": "2022-12-03T15:14:32.766427Z"
    }
   },
   "outputs": [
    {
     "data": {
      "text/plain": [
       "0.9333333333333333"
      ]
     },
     "execution_count": 105,
     "metadata": {},
     "output_type": "execute_result"
    }
   ],
   "source": [
    "#find the accuracy\n",
    "model.score(X_test,y_test)"
   ]
  },
  {
   "cell_type": "code",
   "execution_count": 106,
   "id": "4319076b",
   "metadata": {
    "ExecuteTime": {
     "end_time": "2022-12-03T15:15:09.170650Z",
     "start_time": "2022-12-03T15:15:09.164662Z"
    }
   },
   "outputs": [],
   "source": [
    "input=np.array([[6.6,3.0,4.4,1.4]])"
   ]
  },
  {
   "cell_type": "code",
   "execution_count": 107,
   "id": "f03484cf",
   "metadata": {
    "ExecuteTime": {
     "end_time": "2022-12-03T15:15:49.926877Z",
     "start_time": "2022-12-03T15:15:49.921855Z"
    }
   },
   "outputs": [],
   "source": [
    "scaled=scaler.transform(input)"
   ]
  },
  {
   "cell_type": "code",
   "execution_count": 108,
   "id": "c90d969a",
   "metadata": {
    "ExecuteTime": {
     "end_time": "2022-12-03T15:16:15.059097Z",
     "start_time": "2022-12-03T15:16:15.056106Z"
    }
   },
   "outputs": [],
   "source": [
    "pca_input=pca.transform(scaled)"
   ]
  },
  {
   "cell_type": "code",
   "execution_count": 109,
   "id": "658f7f12",
   "metadata": {
    "ExecuteTime": {
     "end_time": "2022-12-03T15:16:25.233876Z",
     "start_time": "2022-12-03T15:16:25.220894Z"
    }
   },
   "outputs": [
    {
     "data": {
      "text/plain": [
       "array([1])"
      ]
     },
     "execution_count": 109,
     "metadata": {},
     "output_type": "execute_result"
    }
   ],
   "source": [
    "model.predict(pca_input)"
   ]
  },
  {
   "cell_type": "code",
   "execution_count": null,
   "id": "97035e7b",
   "metadata": {},
   "outputs": [],
   "source": []
  }
 ],
 "metadata": {
  "kernelspec": {
   "display_name": "Python 3 (ipykernel)",
   "language": "python",
   "name": "python3"
  },
  "language_info": {
   "codemirror_mode": {
    "name": "ipython",
    "version": 3
   },
   "file_extension": ".py",
   "mimetype": "text/x-python",
   "name": "python",
   "nbconvert_exporter": "python",
   "pygments_lexer": "ipython3",
   "version": "3.9.12"
  }
 },
 "nbformat": 4,
 "nbformat_minor": 5
}
