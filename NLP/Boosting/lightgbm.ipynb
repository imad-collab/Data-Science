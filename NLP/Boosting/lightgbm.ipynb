{
 "cells": [
  {
   "cell_type": "code",
   "execution_count": 1,
   "id": "5729ee57-92b5-4cbf-90a1-511bdc18592d",
   "metadata": {},
   "outputs": [
    {
     "name": "stdout",
     "output_type": "stream",
     "text": [
      "Collecting lightgbm\n",
      "  Downloading lightgbm-4.5.0-py3-none-win_amd64.whl.metadata (17 kB)\n",
      "Requirement already satisfied: numpy>=1.17.0 in c:\\users\\imad0\\appdata\\local\\programs\\python\\python311\\lib\\site-packages (from lightgbm) (1.26.4)\n",
      "Requirement already satisfied: scipy in c:\\users\\imad0\\appdata\\local\\programs\\python\\python311\\lib\\site-packages (from lightgbm) (1.13.0)\n",
      "Downloading lightgbm-4.5.0-py3-none-win_amd64.whl (1.4 MB)\n",
      "   ---------------------------------------- 0.0/1.4 MB ? eta -:--:--\n",
      "    --------------------------------------- 0.0/1.4 MB 640.0 kB/s eta 0:00:03\n",
      "   ------- -------------------------------- 0.3/1.4 MB 3.3 MB/s eta 0:00:01\n",
      "   ------------------------ --------------- 0.9/1.4 MB 7.0 MB/s eta 0:00:01\n",
      "   ---------------------------------------  1.4/1.4 MB 9.2 MB/s eta 0:00:01\n",
      "   ---------------------------------------- 1.4/1.4 MB 8.3 MB/s eta 0:00:00\n",
      "Installing collected packages: lightgbm\n",
      "Successfully installed lightgbm-4.5.0\n",
      "Note: you may need to restart the kernel to use updated packages.\n"
     ]
    },
    {
     "name": "stderr",
     "output_type": "stream",
     "text": [
      "\n",
      "[notice] A new release of pip is available: 24.0 -> 24.3.1\n",
      "[notice] To update, run: python.exe -m pip install --upgrade pip\n"
     ]
    }
   ],
   "source": [
    "pip install lightgbm"
   ]
  },
  {
   "cell_type": "code",
   "execution_count": 2,
   "id": "de03a875-4dfc-471d-ad8d-f5130a46b11d",
   "metadata": {},
   "outputs": [],
   "source": [
    "import lightgbm as lgb\n",
    "from sklearn.feature_extraction.text import TfidfVectorizer\n",
    "from sklearn.model_selection import train_test_split\n",
    "from sklearn.metrics import accuracy_score, classification_report"
   ]
  },
  {
   "cell_type": "code",
   "execution_count": 6,
   "id": "195082cd-ce02-4b0c-93be-f6b16c96c83f",
   "metadata": {},
   "outputs": [],
   "source": [
    "# Sample text data\n",
    "text_data = [\n",
    "    \"Win a free iPhone now!\",\n",
    "    \"Your account has been hacked.\",\n",
    "    \"Call us to claim your prize.\",\n",
    "    \"Meeting rescheduled for Monday.\",\n",
    "    \"Lunch at 1 PM in the cafeteria.\",\n",
    "    \"Your package will be delivered today.\"\n",
    "]\n",
    "labels = [1, 1, 1, 0, 0, 0]  # 1: Spam, 0: Not spam"
   ]
  },
  {
   "cell_type": "code",
   "execution_count": 7,
   "id": "99f2f611-226a-48cb-96fa-655e3d4c8b38",
   "metadata": {},
   "outputs": [],
   "source": [
    "#Vectorization (reuse text_data from above)\n",
    "vectorizer = TfidfVectorizer()\n",
    "X = vectorizer.fit_transform(text_data)"
   ]
  },
  {
   "cell_type": "code",
   "execution_count": 8,
   "id": "e139eb66-e5a3-4a34-b534-aba38c32d5ee",
   "metadata": {},
   "outputs": [],
   "source": [
    "# Train-Test Split\n",
    "X_train, X_test, y_train, y_test = train_test_split(X, labels, test_size=0.3, random_state=42)"
   ]
  },
  {
   "cell_type": "code",
   "execution_count": null,
   "id": "9d3b9f75-41ff-4768-bea3-580cad6de1ed",
   "metadata": {},
   "outputs": [],
   "source": []
  }
 ],
 "metadata": {
  "kernelspec": {
   "display_name": "Python 3 (ipykernel)",
   "language": "python",
   "name": "python3"
  },
  "language_info": {
   "codemirror_mode": {
    "name": "ipython",
    "version": 3
   },
   "file_extension": ".py",
   "mimetype": "text/x-python",
   "name": "python",
   "nbconvert_exporter": "python",
   "pygments_lexer": "ipython3",
   "version": "3.11.8"
  }
 },
 "nbformat": 4,
 "nbformat_minor": 5
}
