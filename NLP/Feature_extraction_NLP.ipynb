{
 "cells": [
  {
   "cell_type": "markdown",
   "id": "3443c5f3",
   "metadata": {},
   "source": [
    "# Feature extraction in NLP"
   ]
  },
  {
   "cell_type": "markdown",
   "id": "fdc6f4cf",
   "metadata": {},
   "source": [
    "# Count Vectorizer"
   ]
  },
  {
   "cell_type": "code",
   "execution_count": 1,
   "id": "7c90bec0",
   "metadata": {
    "ExecuteTime": {
     "end_time": "2022-12-20T19:54:59.202526Z",
     "start_time": "2022-12-20T19:54:59.193545Z"
    }
   },
   "outputs": [],
   "source": [
    "#Count vectorizer seperates each string into tokens(or words) and then counts the number of times each word occures in the sentences."
   ]
  },
  {
   "cell_type": "code",
   "execution_count": 2,
   "id": "6af27725",
   "metadata": {
    "ExecuteTime": {
     "end_time": "2022-12-20T19:56:49.179457Z",
     "start_time": "2022-12-20T19:56:49.162501Z"
    }
   },
   "outputs": [
    {
     "name": "stdout",
     "output_type": "stream",
     "text": [
      "['hey hey hey lets go get lunch today', 'Did you go home?', 'Hey!!! I need a fovour from you']\n"
     ]
    }
   ],
   "source": [
    "sentence=['hey hey hey lets go get lunch today',\n",
    "         'Did you go home?',\n",
    "         'Hey!!! I need a fovour from you']\n",
    "print(sentence)"
   ]
  },
  {
   "cell_type": "code",
   "execution_count": 3,
   "id": "01e8a515",
   "metadata": {
    "ExecuteTime": {
     "end_time": "2022-12-20T19:58:48.481705Z",
     "start_time": "2022-12-20T19:58:48.469736Z"
    }
   },
   "outputs": [],
   "source": [
    "from sklearn.feature_extraction.text import CountVectorizer\n",
    "cv=CountVectorizer()"
   ]
  },
  {
   "cell_type": "code",
   "execution_count": 5,
   "id": "2013d7cc",
   "metadata": {
    "ExecuteTime": {
     "end_time": "2022-12-20T19:59:49.022347Z",
     "start_time": "2022-12-20T19:59:49.009351Z"
    }
   },
   "outputs": [
    {
     "name": "stdout",
     "output_type": "stream",
     "text": [
      "  (0, 5)\t3\n",
      "  (0, 7)\t1\n",
      "  (0, 4)\t1\n",
      "  (0, 3)\t1\n",
      "  (0, 8)\t1\n",
      "  (0, 10)\t1\n",
      "  (1, 4)\t1\n",
      "  (1, 0)\t1\n",
      "  (1, 11)\t1\n",
      "  (1, 6)\t1\n",
      "  (2, 5)\t1\n",
      "  (2, 11)\t1\n",
      "  (2, 9)\t1\n",
      "  (2, 1)\t1\n",
      "  (2, 2)\t1\n"
     ]
    }
   ],
   "source": [
    "s=cv.fit_transform(sentence)\n",
    "print(s)"
   ]
  },
  {
   "cell_type": "markdown",
   "id": "5d9030db",
   "metadata": {},
   "source": [
    "# Tfidf Vectorizer"
   ]
  },
  {
   "cell_type": "code",
   "execution_count": 8,
   "id": "f07d652d",
   "metadata": {
    "ExecuteTime": {
     "end_time": "2022-12-20T20:02:21.344296Z",
     "start_time": "2022-12-20T20:02:21.325869Z"
    }
   },
   "outputs": [
    {
     "data": {
      "text/plain": [
       "['hey hey hey lets go get lunch today',\n",
       " 'Did you go home?',\n",
       " 'Hey!!! I need a fovour from you']"
      ]
     },
     "execution_count": 8,
     "metadata": {},
     "output_type": "execute_result"
    }
   ],
   "source": [
    "sentence=['hey hey hey lets go get lunch today',\n",
    "         'Did you go home?',\n",
    "         'Hey!!! I need a fovour from you']\n",
    "sentence"
   ]
  },
  {
   "cell_type": "code",
   "execution_count": 9,
   "id": "41368f13",
   "metadata": {
    "ExecuteTime": {
     "end_time": "2022-12-20T20:02:34.266519Z",
     "start_time": "2022-12-20T20:02:34.251585Z"
    }
   },
   "outputs": [
    {
     "data": {
      "text/plain": [
       "3"
      ]
     },
     "execution_count": 9,
     "metadata": {},
     "output_type": "execute_result"
    }
   ],
   "source": [
    "len(sentence)"
   ]
  },
  {
   "cell_type": "code",
   "execution_count": 22,
   "id": "275e8858",
   "metadata": {
    "ExecuteTime": {
     "end_time": "2022-12-20T20:08:19.667834Z",
     "start_time": "2022-12-20T20:08:19.649882Z"
    }
   },
   "outputs": [],
   "source": [
    "#TfidfVectorizer:- it doesnot count how many words in the frequency\n",
    "# It calculates the term frequency(TF) -inverse document frrequency(IDF) value for each word.\n",
    "from sklearn.feature_extraction.text import TfidfVectorizer\n",
    "tv=TfidfVectorizer()"
   ]
  },
  {
   "cell_type": "code",
   "execution_count": 21,
   "id": "0c41eecb",
   "metadata": {
    "ExecuteTime": {
     "end_time": "2022-12-20T20:06:10.471267Z",
     "start_time": "2022-12-20T20:06:10.453421Z"
    }
   },
   "outputs": [
    {
     "name": "stdout",
     "output_type": "stream",
     "text": [
      "  (0, 10)\t0.31969945720553594\n",
      "  (0, 8)\t0.31969945720553594\n",
      "  (0, 3)\t0.31969945720553594\n",
      "  (0, 4)\t0.24313967760321284\n",
      "  (0, 7)\t0.31969945720553594\n",
      "  (0, 5)\t0.7294190328096385\n",
      "  (1, 6)\t0.5628290964997665\n",
      "  (1, 11)\t0.4280460350631185\n",
      "  (1, 0)\t0.5628290964997665\n",
      "  (1, 4)\t0.4280460350631185\n",
      "  (2, 2)\t0.49047908420610337\n",
      "  (2, 1)\t0.49047908420610337\n",
      "  (2, 9)\t0.49047908420610337\n",
      "  (2, 11)\t0.3730219858594306\n",
      "  (2, 5)\t0.3730219858594306\n"
     ]
    }
   ],
   "source": [
    "s=tv.fit_transform(sentence)\n",
    "print(s)"
   ]
  },
  {
   "cell_type": "code",
   "execution_count": null,
   "id": "5bda6088",
   "metadata": {},
   "outputs": [],
   "source": []
  }
 ],
 "metadata": {
  "kernelspec": {
   "display_name": "Python 3 (ipykernel)",
   "language": "python",
   "name": "python3"
  },
  "language_info": {
   "codemirror_mode": {
    "name": "ipython",
    "version": 3
   },
   "file_extension": ".py",
   "mimetype": "text/x-python",
   "name": "python",
   "nbconvert_exporter": "python",
   "pygments_lexer": "ipython3",
   "version": "3.9.12"
  }
 },
 "nbformat": 4,
 "nbformat_minor": 5
}
