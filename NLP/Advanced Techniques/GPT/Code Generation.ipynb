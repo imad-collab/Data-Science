{
 "cells": [
  {
   "cell_type": "code",
   "execution_count": 1,
   "id": "bf3a0886-0fd8-4911-a919-50f0f8ce63e7",
   "metadata": {},
   "outputs": [],
   "source": [
    "from transformers import GPT2LMHeadModel, GPT2Tokenizer"
   ]
  },
  {
   "cell_type": "code",
   "execution_count": 2,
   "id": "93f7319a-b871-4764-830d-bf26c065bb31",
   "metadata": {},
   "outputs": [],
   "source": [
    "# Load pre-trained GPT2 model and tokenizer\n",
    "model_name = \"gpt2\"  # Replace with a specialized code model if available\n",
    "tokenizer = GPT2Tokenizer.from_pretrained(model_name)\n",
    "model = GPT2LMHeadModel.from_pretrained(model_name)"
   ]
  },
  {
   "cell_type": "code",
   "execution_count": 3,
   "id": "ea9a0396-7433-49c4-a69d-cdf58f148564",
   "metadata": {},
   "outputs": [],
   "source": [
    "def generate_code(prompt, max_length=150):\n",
    "    input_ids = tokenizer.encode(prompt, return_tensors=\"pt\")\n",
    "    output = model.generate(\n",
    "        input_ids,\n",
    "        max_length=max_length,\n",
    "        num_return_sequences=1,\n",
    "        temperature=0.7,\n",
    "        top_p=0.9,\n",
    "        do_sample=True\n",
    "    )\n",
    "    code = tokenizer.decode(output[0], skip_special_tokens=True)\n",
    "    return code"
   ]
  },
  {
   "cell_type": "code",
   "execution_count": 6,
   "id": "e4122e96-8cf0-40d7-a3d9-682b09173f1c",
   "metadata": {},
   "outputs": [
    {
     "name": "stderr",
     "output_type": "stream",
     "text": [
      "The attention mask and the pad token id were not set. As a consequence, you may observe unexpected behavior. Please pass your input's `attention_mask` to obtain reliable results.\n",
      "Setting `pad_token_id` to `eos_token_id`:None for open-end generation.\n"
     ]
    },
    {
     "name": "stdout",
     "output_type": "stream",
     "text": [
      "Generated Code:\n",
      " Write a Python program to sum two numbers.\n",
      "\n",
      "import math import time import time.sleep import time.sleep.sleep( 1000 ) def sum ( x ): \"\"\"Sum the two numbers given the given integer. \"\"\" x.sum( 1 , 2 )\n",
      "\n",
      "import sys def sum ( x ): \"\"\"Sum the two numbers given the given integer. \"\"\" x.sum( 1 , 2 )\n",
      "\n",
      "import sys.argv import sys.argv.base import time def sum ( x ): \"\"\"Sum the two numbers given the given integer. \"\"\" x.sum( 1 , 2 )\n",
      "\n",
      "import sys.argv.base import time def sum ( x ): \"\"\"Sum the two numbers given the given integer. \"\"\" x.sum\n"
     ]
    }
   ],
   "source": [
    "# Example input\n",
    "prompt = \"Write a Python program to sum two numbers.\"\n",
    "generated_code = generate_code(prompt)\n",
    "print(\"Generated Code:\\n\", generated_code)"
   ]
  },
  {
   "cell_type": "code",
   "execution_count": null,
   "id": "ccf7f13b-8c3a-4308-822f-57c61bdb441c",
   "metadata": {},
   "outputs": [],
   "source": []
  }
 ],
 "metadata": {
  "kernelspec": {
   "display_name": "Python 3 (ipykernel)",
   "language": "python",
   "name": "python3"
  },
  "language_info": {
   "codemirror_mode": {
    "name": "ipython",
    "version": 3
   },
   "file_extension": ".py",
   "mimetype": "text/x-python",
   "name": "python",
   "nbconvert_exporter": "python",
   "pygments_lexer": "ipython3",
   "version": "3.11.8"
  }
 },
 "nbformat": 4,
 "nbformat_minor": 5
}
