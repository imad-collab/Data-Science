{
 "cells": [
  {
   "cell_type": "code",
   "execution_count": 1,
   "id": "f5e9a1e0-1856-45dc-8707-e0039a6f1780",
   "metadata": {},
   "outputs": [],
   "source": [
    "from transformers import AutoTokenizer, AutoModelForSequenceClassification\n",
    "import torch"
   ]
  },
  {
   "cell_type": "code",
   "execution_count": 5,
   "id": "a9fc5b04-6b88-4044-9b44-6131d5a947e0",
   "metadata": {},
   "outputs": [],
   "source": [
    "# Load RoBERTa tokenizer and model\n",
    "model_name = \"cardiffnlp/twitter-roberta-base-sentiment\"  # Pretrained model for sentiment analysis\n",
    "tokenizer = AutoTokenizer.from_pretrained(model_name)\n",
    "model = AutoModelForSequenceClassification.from_pretrained(model_name)"
   ]
  },
  {
   "cell_type": "code",
   "execution_count": 6,
   "id": "c73c9d22-1a3d-4bee-abf7-0da95a2adf90",
   "metadata": {},
   "outputs": [],
   "source": [
    "# Input text\n",
    "text = \"I absolutely love the new features of this product!\"  # Ensure the string is properly enclosed in quotes"
   ]
  },
  {
   "cell_type": "code",
   "execution_count": 7,
   "id": "531dcca6-aefd-4e49-9727-955a8c3cd51d",
   "metadata": {},
   "outputs": [
    {
     "name": "stderr",
     "output_type": "stream",
     "text": [
      "Asking to truncate to max_length but no maximum length is provided and the model has no predefined maximum length. Default to no truncation.\n"
     ]
    }
   ],
   "source": [
    "# Tokenize input text\n",
    "inputs = tokenizer(text, return_tensors=\"pt\", truncation=True, padding=True)\n"
   ]
  },
  {
   "cell_type": "code",
   "execution_count": 8,
   "id": "97caf1d3-7627-47fa-b11a-91355d5518c1",
   "metadata": {},
   "outputs": [],
   "source": [
    "# Perform inference\n",
    "outputs = model(**inputs)\n",
    "logits = outputs.logits"
   ]
  },
  {
   "cell_type": "code",
   "execution_count": 9,
   "id": "e6d5d456-4dc4-4bb4-8d4e-0a6d6ea26c6c",
   "metadata": {},
   "outputs": [],
   "source": [
    "# Convert logits to probabilities\n",
    "probabilities = torch.nn.functional.softmax(logits, dim=1)"
   ]
  },
  {
   "cell_type": "code",
   "execution_count": null,
   "id": "fffd7425-afef-4e47-afe1-1aad28b8db11",
   "metadata": {},
   "outputs": [],
   "source": [
    "# Get the predicted label\n",
    "predicted_label = labels[probabilities.argmax().item()]"
   ]
  },
  {
   "cell_type": "code",
   "execution_count": 10,
   "id": "91a07af3-f34c-462d-9e14-ea6c9afda750",
   "metadata": {},
   "outputs": [],
   "source": [
    "# Labels for this specific pretrained model (you may need to adjust for other models)\n",
    "labels = [\"Negative\", \"Neutral\", \"Positive\"]"
   ]
  },
  {
   "cell_type": "code",
   "execution_count": 11,
   "id": "8538eb0d-44c6-4728-8692-dabd5453fe88",
   "metadata": {},
   "outputs": [],
   "source": [
    "# Get the predicted label\n",
    "predicted_label = labels[probabilities.argmax().item()]"
   ]
  },
  {
   "cell_type": "code",
   "execution_count": 12,
   "id": "fe3fc6f1-d500-4451-926a-cc55f2085db8",
   "metadata": {},
   "outputs": [
    {
     "name": "stdout",
     "output_type": "stream",
     "text": [
      "Text: I absolutely love the new features of this product!\n",
      "Predicted Sentiment: Positive\n",
      "Probabilities: [[0.001670665922574699, 0.0055907117202878, 0.992738664150238]]\n"
     ]
    }
   ],
   "source": [
    "# Output results\n",
    "print(f\"Text: {text}\")\n",
    "print(f\"Predicted Sentiment: {predicted_label}\")\n",
    "print(f\"Probabilities: {probabilities.tolist()}\")"
   ]
  },
  {
   "cell_type": "code",
   "execution_count": null,
   "id": "9066fe61-f19d-4578-add9-17cf40e30cc1",
   "metadata": {},
   "outputs": [],
   "source": []
  }
 ],
 "metadata": {
  "kernelspec": {
   "display_name": "Python 3 (ipykernel)",
   "language": "python",
   "name": "python3"
  },
  "language_info": {
   "codemirror_mode": {
    "name": "ipython",
    "version": 3
   },
   "file_extension": ".py",
   "mimetype": "text/x-python",
   "name": "python",
   "nbconvert_exporter": "python",
   "pygments_lexer": "ipython3",
   "version": "3.11.8"
  }
 },
 "nbformat": 4,
 "nbformat_minor": 5
}
