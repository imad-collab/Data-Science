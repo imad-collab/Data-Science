{
 "cells": [
  {
   "cell_type": "code",
   "execution_count": 1,
   "id": "aa94ac9b-2532-41b4-bc7e-514cc49b5f9c",
   "metadata": {},
   "outputs": [],
   "source": [
    "from transformers import RobertaTokenizer, RobertaForSequenceClassification\n",
    "import torch"
   ]
  },
  {
   "cell_type": "code",
   "execution_count": 4,
   "id": "8b001dec-e2ce-4cbb-b1d5-361508957e60",
   "metadata": {},
   "outputs": [
    {
     "name": "stderr",
     "output_type": "stream",
     "text": [
      "Some weights of RobertaForSequenceClassification were not initialized from the model checkpoint at roberta-base and are newly initialized: ['classifier.dense.bias', 'classifier.dense.weight', 'classifier.out_proj.bias', 'classifier.out_proj.weight']\n",
      "You should probably TRAIN this model on a down-stream task to be able to use it for predictions and inference.\n"
     ]
    }
   ],
   "source": [
    "# Load the tokenizer and model\n",
    "model_name = \"roberta-base\"  # or a specific fine-tuned model for classification\n",
    "tokenizer = RobertaTokenizer.from_pretrained(model_name)\n",
    "model = RobertaForSequenceClassification.from_pretrained(model_name)"
   ]
  },
  {
   "cell_type": "code",
   "execution_count": 5,
   "id": "3ad8dbda-6a85-4dac-a420-45baac051b6d",
   "metadata": {},
   "outputs": [],
   "source": [
    "# Input text\n",
    "text = \"I love using RoBERTa for text classification!\""
   ]
  },
  {
   "cell_type": "code",
   "execution_count": 6,
   "id": "030de60a-e2c3-4881-acdb-47a27804c135",
   "metadata": {},
   "outputs": [],
   "source": [
    "# Tokenize the input\n",
    "inputs = tokenizer(text, return_tensors=\"pt\", truncation=True, padding=True, max_length=512)"
   ]
  },
  {
   "cell_type": "code",
   "execution_count": 7,
   "id": "ae4f0d7f-8ea4-44d6-b107-707d5f2658f6",
   "metadata": {},
   "outputs": [],
   "source": [
    "# Get model outputs\n",
    "with torch.no_grad():\n",
    "    outputs = model(**inputs)"
   ]
  },
  {
   "cell_type": "code",
   "execution_count": 8,
   "id": "9567c476-f047-49fb-9d79-b8c31fa0fe97",
   "metadata": {},
   "outputs": [],
   "source": [
    "# Extract logits\n",
    "logits = outputs.logits"
   ]
  },
  {
   "cell_type": "code",
   "execution_count": 9,
   "id": "1f97ad9c-6b42-422e-8e9a-cd8e36d73820",
   "metadata": {},
   "outputs": [],
   "source": [
    "# Convert logits to probabilities\n",
    "probabilities = torch.nn.functional.softmax(logits, dim=1)"
   ]
  },
  {
   "cell_type": "code",
   "execution_count": 10,
   "id": "2cc7f5ab-3afa-48ad-92f8-604b2d9224ef",
   "metadata": {},
   "outputs": [
    {
     "name": "stdout",
     "output_type": "stream",
     "text": [
      "Logits: tensor([[0.2630, 0.0341]])\n",
      "Probabilities: tensor([[0.5570, 0.4430]])\n"
     ]
    }
   ],
   "source": [
    "# Print the probabilities\n",
    "print(\"Logits:\", logits)\n",
    "print(\"Probabilities:\", probabilities)"
   ]
  },
  {
   "cell_type": "code",
   "execution_count": null,
   "id": "e31154bc-aaa8-4da5-b225-7a345592b1a6",
   "metadata": {},
   "outputs": [],
   "source": []
  }
 ],
 "metadata": {
  "kernelspec": {
   "display_name": "Python 3 (ipykernel)",
   "language": "python",
   "name": "python3"
  },
  "language_info": {
   "codemirror_mode": {
    "name": "ipython",
    "version": 3
   },
   "file_extension": ".py",
   "mimetype": "text/x-python",
   "name": "python",
   "nbconvert_exporter": "python",
   "pygments_lexer": "ipython3",
   "version": "3.11.8"
  }
 },
 "nbformat": 4,
 "nbformat_minor": 5
}
