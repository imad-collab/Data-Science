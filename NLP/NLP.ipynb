{
 "cells": [
  {
   "cell_type": "code",
   "execution_count": 5,
   "id": "0394e3de",
   "metadata": {
    "ExecuteTime": {
     "end_time": "2022-12-21T11:16:00.594407Z",
     "start_time": "2022-12-21T11:15:59.476001Z"
    }
   },
   "outputs": [
    {
     "name": "stderr",
     "output_type": "stream",
     "text": [
      "[nltk_data] Downloading package punkt to\n",
      "[nltk_data]     C:\\Users\\91934\\AppData\\Roaming\\nltk_data...\n",
      "[nltk_data]   Package punkt is already up-to-date!\n"
     ]
    },
    {
     "data": {
      "text/plain": [
       "True"
      ]
     },
     "execution_count": 5,
     "metadata": {},
     "output_type": "execute_result"
    }
   ],
   "source": [
    "import warnings\n",
    "warnings.filterwarnings('ignore')\n",
    "import nltk\n",
    "nltk.download('punkt')"
   ]
  },
  {
   "cell_type": "markdown",
   "id": "9924402f",
   "metadata": {},
   "source": [
    "# Tokinization"
   ]
  },
  {
   "cell_type": "code",
   "execution_count": 6,
   "id": "40f8f8f7",
   "metadata": {
    "ExecuteTime": {
     "end_time": "2022-12-21T11:16:00.610335Z",
     "start_time": "2022-12-21T11:16:00.596391Z"
    }
   },
   "outputs": [],
   "source": [
    "#let us take a string\n",
    "string='twinkle twinkle litter star.How I wonder what you are . Up above the world so high.Like a diamond in the sky.'"
   ]
  },
  {
   "cell_type": "markdown",
   "id": "7f3bebc0",
   "metadata": {},
   "source": [
    "# word_tokenize"
   ]
  },
  {
   "cell_type": "code",
   "execution_count": 7,
   "id": "11531fba",
   "metadata": {
    "ExecuteTime": {
     "end_time": "2022-12-21T11:16:00.626293Z",
     "start_time": "2022-12-21T11:16:00.612331Z"
    }
   },
   "outputs": [
    {
     "data": {
      "text/plain": [
       "['twinkle',\n",
       " 'twinkle',\n",
       " 'litter',\n",
       " 'star.How',\n",
       " 'I',\n",
       " 'wonder',\n",
       " 'what',\n",
       " 'you',\n",
       " 'are',\n",
       " '.',\n",
       " 'Up',\n",
       " 'above',\n",
       " 'the',\n",
       " 'world',\n",
       " 'so',\n",
       " 'high.Like',\n",
       " 'a',\n",
       " 'diamond',\n",
       " 'in',\n",
       " 'the',\n",
       " 'sky',\n",
       " '.']"
      ]
     },
     "execution_count": 7,
     "metadata": {},
     "output_type": "execute_result"
    }
   ],
   "source": [
    "#display the single words\n",
    "#word_tokenize function can be used\n",
    "tokens=nltk.word_tokenize(string)\n",
    "tokens"
   ]
  },
  {
   "cell_type": "markdown",
   "id": "39adc702",
   "metadata": {},
   "source": [
    "# bigrams"
   ]
  },
  {
   "cell_type": "code",
   "execution_count": 8,
   "id": "16c818a6",
   "metadata": {
    "ExecuteTime": {
     "end_time": "2022-12-21T11:16:00.642275Z",
     "start_time": "2022-12-21T11:16:00.628314Z"
    }
   },
   "outputs": [
    {
     "data": {
      "text/plain": [
       "[('twinkle', 'twinkle'),\n",
       " ('twinkle', 'litter'),\n",
       " ('litter', 'star.How'),\n",
       " ('star.How', 'I'),\n",
       " ('I', 'wonder'),\n",
       " ('wonder', 'what'),\n",
       " ('what', 'you'),\n",
       " ('you', 'are'),\n",
       " ('are', '.'),\n",
       " ('.', 'Up'),\n",
       " ('Up', 'above'),\n",
       " ('above', 'the'),\n",
       " ('the', 'world'),\n",
       " ('world', 'so'),\n",
       " ('so', 'high.Like'),\n",
       " ('high.Like', 'a'),\n",
       " ('a', 'diamond'),\n",
       " ('diamond', 'in'),\n",
       " ('in', 'the'),\n",
       " ('the', 'sky'),\n",
       " ('sky', '.')]"
      ]
     },
     "execution_count": 8,
     "metadata": {},
     "output_type": "execute_result"
    }
   ],
   "source": [
    "#The pair of words are called as bigrams\n",
    "obj=nltk.bigrams(tokens)\n",
    "str_bigrams=list(obj)  #Convert into list\n",
    "str_bigrams"
   ]
  },
  {
   "cell_type": "markdown",
   "id": "13cfd16e",
   "metadata": {},
   "source": [
    "# trigrams"
   ]
  },
  {
   "cell_type": "code",
   "execution_count": 9,
   "id": "72cd4529",
   "metadata": {
    "ExecuteTime": {
     "end_time": "2022-12-21T11:16:00.658207Z",
     "start_time": "2022-12-21T11:16:00.643247Z"
    }
   },
   "outputs": [
    {
     "data": {
      "text/plain": [
       "[('twinkle', 'twinkle', 'litter'),\n",
       " ('twinkle', 'litter', 'star.How'),\n",
       " ('litter', 'star.How', 'I'),\n",
       " ('star.How', 'I', 'wonder'),\n",
       " ('I', 'wonder', 'what'),\n",
       " ('wonder', 'what', 'you'),\n",
       " ('what', 'you', 'are'),\n",
       " ('you', 'are', '.'),\n",
       " ('are', '.', 'Up'),\n",
       " ('.', 'Up', 'above'),\n",
       " ('Up', 'above', 'the'),\n",
       " ('above', 'the', 'world'),\n",
       " ('the', 'world', 'so'),\n",
       " ('world', 'so', 'high.Like'),\n",
       " ('so', 'high.Like', 'a'),\n",
       " ('high.Like', 'a', 'diamond'),\n",
       " ('a', 'diamond', 'in'),\n",
       " ('diamond', 'in', 'the'),\n",
       " ('in', 'the', 'sky'),\n",
       " ('the', 'sky', '.')]"
      ]
     },
     "execution_count": 9,
     "metadata": {},
     "output_type": "execute_result"
    }
   ],
   "source": [
    "obj=nltk.trigrams(tokens)\n",
    "tri_grams=list(obj)  #Convert into list\n",
    "tri_grams"
   ]
  },
  {
   "cell_type": "markdown",
   "id": "12ef3870",
   "metadata": {},
   "source": [
    "# ngrams"
   ]
  },
  {
   "cell_type": "code",
   "execution_count": 10,
   "id": "a2fa1487",
   "metadata": {
    "ExecuteTime": {
     "end_time": "2022-12-21T11:16:00.719340Z",
     "start_time": "2022-12-21T11:16:00.659205Z"
    }
   },
   "outputs": [
    {
     "data": {
      "text/plain": [
       "[('twinkle', 'twinkle', 'litter', 'star.How'),\n",
       " ('twinkle', 'litter', 'star.How', 'I'),\n",
       " ('litter', 'star.How', 'I', 'wonder'),\n",
       " ('star.How', 'I', 'wonder', 'what'),\n",
       " ('I', 'wonder', 'what', 'you'),\n",
       " ('wonder', 'what', 'you', 'are'),\n",
       " ('what', 'you', 'are', '.'),\n",
       " ('you', 'are', '.', 'Up'),\n",
       " ('are', '.', 'Up', 'above'),\n",
       " ('.', 'Up', 'above', 'the'),\n",
       " ('Up', 'above', 'the', 'world'),\n",
       " ('above', 'the', 'world', 'so'),\n",
       " ('the', 'world', 'so', 'high.Like'),\n",
       " ('world', 'so', 'high.Like', 'a'),\n",
       " ('so', 'high.Like', 'a', 'diamond'),\n",
       " ('high.Like', 'a', 'diamond', 'in'),\n",
       " ('a', 'diamond', 'in', 'the'),\n",
       " ('diamond', 'in', 'the', 'sky'),\n",
       " ('in', 'the', 'sky', '.')]"
      ]
     },
     "execution_count": 10,
     "metadata": {},
     "output_type": "execute_result"
    }
   ],
   "source": [
    "# If we have the word combination ,then we can use ngrams\n",
    "obj=nltk.ngrams(tokens,4)\n",
    "ngrams=list(obj)\n",
    "ngrams#Displays the 4 word combination"
   ]
  },
  {
   "cell_type": "markdown",
   "id": "73c0d5f2",
   "metadata": {},
   "source": [
    "# Stemming"
   ]
  },
  {
   "cell_type": "markdown",
   "id": "4b25e71a",
   "metadata": {},
   "source": [
    "# Using PorterStemmer"
   ]
  },
  {
   "cell_type": "code",
   "execution_count": 11,
   "id": "b2b1bdb4",
   "metadata": {
    "ExecuteTime": {
     "end_time": "2022-12-21T11:16:02.191122Z",
     "start_time": "2022-12-21T11:16:02.178190Z"
    }
   },
   "outputs": [],
   "source": [
    "#normalizing the words into their baseform or root form is called 'stemming' \n",
    "from nltk.stem import PorterStemmer\n",
    "pst=PorterStemmer()"
   ]
  },
  {
   "cell_type": "code",
   "execution_count": 12,
   "id": "d1eb6b9d",
   "metadata": {
    "ExecuteTime": {
     "end_time": "2022-12-21T11:16:02.346647Z",
     "start_time": "2022-12-21T11:16:02.334680Z"
    }
   },
   "outputs": [
    {
     "data": {
      "text/plain": [
       "'have'"
      ]
     },
     "execution_count": 12,
     "metadata": {},
     "output_type": "execute_result"
    }
   ],
   "source": [
    "pst.stem('having')"
   ]
  },
  {
   "cell_type": "code",
   "execution_count": 13,
   "id": "a6705f1e",
   "metadata": {
    "ExecuteTime": {
     "end_time": "2022-12-21T11:16:02.488335Z",
     "start_time": "2022-12-21T11:16:02.470383Z"
    }
   },
   "outputs": [
    {
     "name": "stdout",
     "output_type": "stream",
     "text": [
      "give : give\n",
      "giving : give\n",
      "given : given\n",
      "gave : gave\n"
     ]
    }
   ],
   "source": [
    "#Using the PorterStemmer on the group of words\n",
    "words=['give','giving','given','gave']\n",
    "for w in words:\n",
    "    print(w, \":\",pst.stem(w))"
   ]
  },
  {
   "cell_type": "markdown",
   "id": "4720d53b",
   "metadata": {},
   "source": [
    "# Using LancasterStemmer"
   ]
  },
  {
   "cell_type": "code",
   "execution_count": 14,
   "id": "04174d59",
   "metadata": {
    "ExecuteTime": {
     "end_time": "2022-12-21T11:16:02.922879Z",
     "start_time": "2022-12-21T11:16:02.912940Z"
    }
   },
   "outputs": [],
   "source": [
    "# It will simply chopping off the words and giving 'hav' as the stem word which are also not correct forms \n",
    "\n",
    "from nltk.stem import LancasterStemmer\n",
    "ls=LancasterStemmer()"
   ]
  },
  {
   "cell_type": "code",
   "execution_count": 15,
   "id": "e777e224",
   "metadata": {
    "ExecuteTime": {
     "end_time": "2022-12-21T11:16:03.061272Z",
     "start_time": "2022-12-21T11:16:03.048310Z"
    }
   },
   "outputs": [
    {
     "data": {
      "text/plain": [
       "'hav'"
      ]
     },
     "execution_count": 15,
     "metadata": {},
     "output_type": "execute_result"
    }
   ],
   "source": [
    "ls.stem('having')"
   ]
  },
  {
   "cell_type": "code",
   "execution_count": 16,
   "id": "6463fba5",
   "metadata": {
    "ExecuteTime": {
     "end_time": "2022-12-21T11:16:03.215883Z",
     "start_time": "2022-12-21T11:16:03.204913Z"
    }
   },
   "outputs": [
    {
     "name": "stdout",
     "output_type": "stream",
     "text": [
      "have : hav\n",
      "having : hav\n",
      "havens : hav\n"
     ]
    }
   ],
   "source": [
    "words=['have','having','havens']\n",
    "for w in words:\n",
    "    print(w,\":\",ls.stem(w))"
   ]
  },
  {
   "cell_type": "markdown",
   "id": "13d7a6fc",
   "metadata": {},
   "source": [
    "# Lemmatization"
   ]
  },
  {
   "cell_type": "code",
   "execution_count": 17,
   "id": "8aa64387",
   "metadata": {
    "ExecuteTime": {
     "end_time": "2022-12-21T11:16:03.480630Z",
     "start_time": "2022-12-21T11:16:03.473648Z"
    }
   },
   "outputs": [],
   "source": [
    "#865\n",
    "# The Lemmatization groups together the\n"
   ]
  },
  {
   "cell_type": "code",
   "execution_count": 18,
   "id": "bca6aeee",
   "metadata": {
    "ExecuteTime": {
     "end_time": "2022-12-21T11:16:03.775721Z",
     "start_time": "2022-12-21T11:16:03.742840Z"
    }
   },
   "outputs": [
    {
     "name": "stderr",
     "output_type": "stream",
     "text": [
      "[nltk_data] Downloading package wordnet to\n",
      "[nltk_data]     C:\\Users\\91934\\AppData\\Roaming\\nltk_data...\n",
      "[nltk_data]   Package wordnet is already up-to-date!\n"
     ]
    },
    {
     "data": {
      "text/plain": [
       "True"
      ]
     },
     "execution_count": 18,
     "metadata": {},
     "output_type": "execute_result"
    }
   ],
   "source": [
    "#DOWNLOAD THE DICTIONARY\n",
    "import nltk\n",
    "nltk.download('wordnet')"
   ]
  },
  {
   "cell_type": "code",
   "execution_count": 19,
   "id": "0fcedb23",
   "metadata": {
    "ExecuteTime": {
     "end_time": "2022-12-21T11:16:03.944469Z",
     "start_time": "2022-12-21T11:16:03.939482Z"
    }
   },
   "outputs": [],
   "source": [
    "from nltk.stem import wordnet"
   ]
  },
  {
   "cell_type": "code",
   "execution_count": 20,
   "id": "a7dbf45e",
   "metadata": {
    "ExecuteTime": {
     "end_time": "2022-12-21T11:16:04.131284Z",
     "start_time": "2022-12-21T11:16:04.117291Z"
    }
   },
   "outputs": [],
   "source": [
    "from nltk.stem import WordNetLemmatizer\n",
    "wnl=WordNetLemmatizer()"
   ]
  },
  {
   "cell_type": "code",
   "execution_count": 21,
   "id": "dd6995fb",
   "metadata": {
    "ExecuteTime": {
     "end_time": "2022-12-21T11:16:05.509076Z",
     "start_time": "2022-12-21T11:16:04.297351Z"
    }
   },
   "outputs": [
    {
     "data": {
      "text/plain": [
       "'corpus'"
      ]
     },
     "execution_count": 21,
     "metadata": {},
     "output_type": "execute_result"
    }
   ],
   "source": [
    "wnl.lemmatize('corpora')"
   ]
  },
  {
   "cell_type": "code",
   "execution_count": 22,
   "id": "e27d8fec",
   "metadata": {
    "ExecuteTime": {
     "end_time": "2022-12-21T11:16:05.525033Z",
     "start_time": "2022-12-21T11:16:05.511070Z"
    }
   },
   "outputs": [
    {
     "name": "stdout",
     "output_type": "stream",
     "text": [
      "give : give\n",
      "giving : giving\n",
      "given : given\n",
      "gave : gave\n"
     ]
    }
   ],
   "source": [
    "#So 'corpus' is the correct root word(or lemma) for 'corpora'\n",
    "#let us try to apply WordNetLemmatizer on the group of words.\n",
    "words=['give','giving','given','gave']\n",
    "for w in words:\n",
    "    print(w,\":\",wnl.lemmatize(w))"
   ]
  },
  {
   "cell_type": "code",
   "execution_count": 23,
   "id": "cd63bdf9",
   "metadata": {
    "ExecuteTime": {
     "end_time": "2022-12-21T11:16:05.539993Z",
     "start_time": "2022-12-21T11:16:05.528027Z"
    }
   },
   "outputs": [],
   "source": [
    "#it is giving the same word as root node\n",
    "#So we can undst that the wordnetlemmatizer as not worked well.\n",
    "#So we should add pos='v'"
   ]
  },
  {
   "cell_type": "code",
   "execution_count": 24,
   "id": "1cf7e650",
   "metadata": {
    "ExecuteTime": {
     "end_time": "2022-12-21T11:16:05.555954Z",
     "start_time": "2022-12-21T11:16:05.541988Z"
    }
   },
   "outputs": [
    {
     "name": "stdout",
     "output_type": "stream",
     "text": [
      "give : give\n",
      "giving : give\n",
      "given : give\n",
      "gave : give\n"
     ]
    }
   ],
   "source": [
    "for w in words:\n",
    "    print(w,\":\",wnl.lemmatize(w,pos='v'))"
   ]
  },
  {
   "cell_type": "markdown",
   "id": "47e7ac1b",
   "metadata": {},
   "source": [
    "# Stop Words"
   ]
  },
  {
   "cell_type": "code",
   "execution_count": 25,
   "id": "b7b7e4b7",
   "metadata": {
    "ExecuteTime": {
     "end_time": "2022-12-21T11:16:06.364071Z",
     "start_time": "2022-12-21T11:16:06.348114Z"
    }
   },
   "outputs": [],
   "source": [
    "#867"
   ]
  },
  {
   "cell_type": "code",
   "execution_count": 26,
   "id": "b6ea38ea",
   "metadata": {
    "ExecuteTime": {
     "end_time": "2022-12-21T11:16:06.926164Z",
     "start_time": "2022-12-21T11:16:06.911180Z"
    }
   },
   "outputs": [
    {
     "name": "stderr",
     "output_type": "stream",
     "text": [
      "[nltk_data] Downloading package stopwords to\n",
      "[nltk_data]     C:\\Users\\91934\\AppData\\Roaming\\nltk_data...\n",
      "[nltk_data]   Package stopwords is already up-to-date!\n"
     ]
    }
   ],
   "source": [
    "nltk.download('stopwords')\n",
    "from nltk.corpus import stopwords"
   ]
  },
  {
   "cell_type": "code",
   "execution_count": 27,
   "id": "0c0f4db4",
   "metadata": {
    "ExecuteTime": {
     "end_time": "2022-12-21T11:16:08.353945Z",
     "start_time": "2022-12-21T11:16:08.333016Z"
    }
   },
   "outputs": [
    {
     "data": {
      "text/plain": [
       "['i',\n",
       " 'me',\n",
       " 'my',\n",
       " 'myself',\n",
       " 'we',\n",
       " 'our',\n",
       " 'ours',\n",
       " 'ourselves',\n",
       " 'you',\n",
       " \"you're\",\n",
       " \"you've\",\n",
       " \"you'll\",\n",
       " \"you'd\",\n",
       " 'your',\n",
       " 'yours',\n",
       " 'yourself',\n",
       " 'yourselves',\n",
       " 'he',\n",
       " 'him',\n",
       " 'his',\n",
       " 'himself',\n",
       " 'she',\n",
       " \"she's\",\n",
       " 'her',\n",
       " 'hers',\n",
       " 'herself',\n",
       " 'it',\n",
       " \"it's\",\n",
       " 'its',\n",
       " 'itself',\n",
       " 'they',\n",
       " 'them',\n",
       " 'their',\n",
       " 'theirs',\n",
       " 'themselves',\n",
       " 'what',\n",
       " 'which',\n",
       " 'who',\n",
       " 'whom',\n",
       " 'this',\n",
       " 'that',\n",
       " \"that'll\",\n",
       " 'these',\n",
       " 'those',\n",
       " 'am',\n",
       " 'is',\n",
       " 'are',\n",
       " 'was',\n",
       " 'were',\n",
       " 'be',\n",
       " 'been',\n",
       " 'being',\n",
       " 'have',\n",
       " 'has',\n",
       " 'had',\n",
       " 'having',\n",
       " 'do',\n",
       " 'does',\n",
       " 'did',\n",
       " 'doing',\n",
       " 'a',\n",
       " 'an',\n",
       " 'the',\n",
       " 'and',\n",
       " 'but',\n",
       " 'if',\n",
       " 'or',\n",
       " 'because',\n",
       " 'as',\n",
       " 'until',\n",
       " 'while',\n",
       " 'of',\n",
       " 'at',\n",
       " 'by',\n",
       " 'for',\n",
       " 'with',\n",
       " 'about',\n",
       " 'against',\n",
       " 'between',\n",
       " 'into',\n",
       " 'through',\n",
       " 'during',\n",
       " 'before',\n",
       " 'after',\n",
       " 'above',\n",
       " 'below',\n",
       " 'to',\n",
       " 'from',\n",
       " 'up',\n",
       " 'down',\n",
       " 'in',\n",
       " 'out',\n",
       " 'on',\n",
       " 'off',\n",
       " 'over',\n",
       " 'under',\n",
       " 'again',\n",
       " 'further',\n",
       " 'then',\n",
       " 'once',\n",
       " 'here',\n",
       " 'there',\n",
       " 'when',\n",
       " 'where',\n",
       " 'why',\n",
       " 'how',\n",
       " 'all',\n",
       " 'any',\n",
       " 'both',\n",
       " 'each',\n",
       " 'few',\n",
       " 'more',\n",
       " 'most',\n",
       " 'other',\n",
       " 'some',\n",
       " 'such',\n",
       " 'no',\n",
       " 'nor',\n",
       " 'not',\n",
       " 'only',\n",
       " 'own',\n",
       " 'same',\n",
       " 'so',\n",
       " 'than',\n",
       " 'too',\n",
       " 'very',\n",
       " 's',\n",
       " 't',\n",
       " 'can',\n",
       " 'will',\n",
       " 'just',\n",
       " 'don',\n",
       " \"don't\",\n",
       " 'should',\n",
       " \"should've\",\n",
       " 'now',\n",
       " 'd',\n",
       " 'll',\n",
       " 'm',\n",
       " 'o',\n",
       " 're',\n",
       " 've',\n",
       " 'y',\n",
       " 'ain',\n",
       " 'aren',\n",
       " \"aren't\",\n",
       " 'couldn',\n",
       " \"couldn't\",\n",
       " 'didn',\n",
       " \"didn't\",\n",
       " 'doesn',\n",
       " \"doesn't\",\n",
       " 'hadn',\n",
       " \"hadn't\",\n",
       " 'hasn',\n",
       " \"hasn't\",\n",
       " 'haven',\n",
       " \"haven't\",\n",
       " 'isn',\n",
       " \"isn't\",\n",
       " 'ma',\n",
       " 'mightn',\n",
       " \"mightn't\",\n",
       " 'mustn',\n",
       " \"mustn't\",\n",
       " 'needn',\n",
       " \"needn't\",\n",
       " 'shan',\n",
       " \"shan't\",\n",
       " 'shouldn',\n",
       " \"shouldn't\",\n",
       " 'wasn',\n",
       " \"wasn't\",\n",
       " 'weren',\n",
       " \"weren't\",\n",
       " 'won',\n",
       " \"won't\",\n",
       " 'wouldn',\n",
       " \"wouldn't\"]"
      ]
     },
     "execution_count": 27,
     "metadata": {},
     "output_type": "execute_result"
    }
   ],
   "source": [
    "stopwords.words('english')"
   ]
  },
  {
   "cell_type": "code",
   "execution_count": 28,
   "id": "2050b776",
   "metadata": {
    "ExecuteTime": {
     "end_time": "2022-12-21T11:16:08.806286Z",
     "start_time": "2022-12-21T11:16:08.801310Z"
    }
   },
   "outputs": [
    {
     "data": {
      "text/plain": [
       "179"
      ]
     },
     "execution_count": 28,
     "metadata": {},
     "output_type": "execute_result"
    }
   ],
   "source": [
    "len(stopwords.words('english'))"
   ]
  },
  {
   "cell_type": "code",
   "execution_count": 29,
   "id": "4c4c45fd",
   "metadata": {
    "ExecuteTime": {
     "end_time": "2022-12-21T11:16:09.440169Z",
     "start_time": "2022-12-21T11:16:09.425208Z"
    }
   },
   "outputs": [],
   "source": [
    "#Let us take a sentence as:-\n",
    "test='this is my first sentence . want to know who you are!'"
   ]
  },
  {
   "cell_type": "code",
   "execution_count": 30,
   "id": "584c93dc",
   "metadata": {
    "ExecuteTime": {
     "end_time": "2022-12-21T11:16:09.796075Z",
     "start_time": "2022-12-21T11:16:09.780119Z"
    }
   },
   "outputs": [
    {
     "name": "stdout",
     "output_type": "stream",
     "text": [
      "this is my first sentence  want to know who you are\n"
     ]
    }
   ],
   "source": [
    "import string\n",
    "# Use the punctuation constant to remove all punctuation from a string\n",
    "test = 'this is my first sentence . want to know who you are!'\n",
    "test = test.translate(str.maketrans(\"\", \"\", string.punctuation))\n",
    "print(test) "
   ]
  },
  {
   "cell_type": "code",
   "execution_count": 31,
   "id": "fd31a71a",
   "metadata": {
    "ExecuteTime": {
     "end_time": "2022-12-21T11:16:10.065133Z",
     "start_time": "2022-12-21T11:16:10.050172Z"
    }
   },
   "outputs": [
    {
     "data": {
      "text/plain": [
       "'this is my first sentence  want to know who you are'"
      ]
     },
     "execution_count": 31,
     "metadata": {},
     "output_type": "execute_result"
    }
   ],
   "source": [
    "test=''.join(test)\n",
    "test"
   ]
  },
  {
   "cell_type": "code",
   "execution_count": 32,
   "id": "c34bba7f",
   "metadata": {
    "ExecuteTime": {
     "end_time": "2022-12-21T11:16:10.421004Z",
     "start_time": "2022-12-21T11:16:10.407041Z"
    }
   },
   "outputs": [
    {
     "data": {
      "text/plain": [
       "['this',\n",
       " 'is',\n",
       " 'my',\n",
       " 'first',\n",
       " 'sentence',\n",
       " 'want',\n",
       " 'to',\n",
       " 'know',\n",
       " 'who',\n",
       " 'you',\n",
       " 'are']"
      ]
     },
     "execution_count": 32,
     "metadata": {},
     "output_type": "execute_result"
    }
   ],
   "source": [
    "#split the string into pieces\n",
    "X=test.split()\n",
    "X"
   ]
  },
  {
   "cell_type": "code",
   "execution_count": 33,
   "id": "eabba05f",
   "metadata": {
    "ExecuteTime": {
     "end_time": "2022-12-21T11:16:10.840443Z",
     "start_time": "2022-12-21T11:16:10.829439Z"
    }
   },
   "outputs": [
    {
     "data": {
      "text/plain": [
       "['first', 'sentence', 'want', 'know']"
      ]
     },
     "execution_count": 33,
     "metadata": {},
     "output_type": "execute_result"
    }
   ],
   "source": [
    "#Find the stop words and try to eliminate it.\n",
    "#That means each word is converted into lower case and then checked in the stop words\n",
    "cleaned=[word for word in X if word.lower() not in stopwords.words('english')]\n",
    "cleaned"
   ]
  },
  {
   "cell_type": "markdown",
   "id": "18c63e15",
   "metadata": {},
   "source": [
    "# Parts of Speech(POS)"
   ]
  },
  {
   "cell_type": "markdown",
   "id": "501d2a27",
   "metadata": {},
   "source": [
    "# 'averaged_perceptron_tagger'"
   ]
  },
  {
   "cell_type": "code",
   "execution_count": 34,
   "id": "267c671a",
   "metadata": {
    "ExecuteTime": {
     "end_time": "2022-12-21T11:16:12.004733Z",
     "start_time": "2022-12-21T11:16:11.987778Z"
    }
   },
   "outputs": [
    {
     "name": "stderr",
     "output_type": "stream",
     "text": [
      "[nltk_data] Downloading package averaged_perceptron_tagger to\n",
      "[nltk_data]     C:\\Users\\91934\\AppData\\Roaming\\nltk_data...\n",
      "[nltk_data]   Package averaged_perceptron_tagger is already up-to-\n",
      "[nltk_data]       date!\n"
     ]
    },
    {
     "data": {
      "text/plain": [
       "True"
      ]
     },
     "execution_count": 34,
     "metadata": {},
     "output_type": "execute_result"
    }
   ],
   "source": [
    "import nltk\n",
    "nltk.download('averaged_perceptron_tagger')"
   ]
  },
  {
   "cell_type": "code",
   "execution_count": 35,
   "id": "0d32c150",
   "metadata": {
    "ExecuteTime": {
     "end_time": "2022-12-21T11:16:12.268409Z",
     "start_time": "2022-12-21T11:16:12.254473Z"
    }
   },
   "outputs": [],
   "source": [
    "sentence='the dog killed all the rats.'\n",
    "token_word=nltk.word_tokenize(sentence)"
   ]
  },
  {
   "cell_type": "code",
   "execution_count": 36,
   "id": "4d890e9c",
   "metadata": {
    "ExecuteTime": {
     "end_time": "2022-12-21T11:16:12.609806Z",
     "start_time": "2022-12-21T11:16:12.524034Z"
    }
   },
   "outputs": [
    {
     "data": {
      "text/plain": [
       "[('the', 'DT'),\n",
       " ('dog', 'NN'),\n",
       " ('killed', 'VBD'),\n",
       " ('all', 'PDT'),\n",
       " ('the', 'DT'),\n",
       " ('rats', 'NNS'),\n",
       " ('.', '.')]"
      ]
     },
     "execution_count": 36,
     "metadata": {},
     "output_type": "execute_result"
    }
   ],
   "source": [
    "#The 'averaged_perceptron_tagger' has a function pos_tag() that can be used on the above words to knw their parts of speech.\n",
    "nltk.pos_tag(token_word)"
   ]
  },
  {
   "cell_type": "code",
   "execution_count": null,
   "id": "a87ecfa8",
   "metadata": {},
   "outputs": [],
   "source": []
  },
  {
   "cell_type": "code",
   "execution_count": null,
   "id": "4cbea857",
   "metadata": {},
   "outputs": [],
   "source": []
  }
 ],
 "metadata": {
  "kernelspec": {
   "display_name": "Python 3 (ipykernel)",
   "language": "python",
   "name": "python3"
  },
  "language_info": {
   "codemirror_mode": {
    "name": "ipython",
    "version": 3
   },
   "file_extension": ".py",
   "mimetype": "text/x-python",
   "name": "python",
   "nbconvert_exporter": "python",
   "pygments_lexer": "ipython3",
   "version": "3.9.12"
  }
 },
 "nbformat": 4,
 "nbformat_minor": 5
}
