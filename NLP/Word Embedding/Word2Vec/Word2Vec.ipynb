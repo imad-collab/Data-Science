{
 "cells": [
  {
   "cell_type": "code",
   "execution_count": 27,
   "id": "e425d1b7-03e5-4085-ae55-ebe0606731c6",
   "metadata": {},
   "outputs": [],
   "source": [
    "import warnings\n",
    "warnings.filterwarnings('ignore')"
   ]
  },
  {
   "cell_type": "code",
   "execution_count": 16,
   "id": "873d70fd-4832-4814-abb8-104ba2891901",
   "metadata": {},
   "outputs": [
    {
     "name": "stdout",
     "output_type": "stream",
     "text": [
      "Requirement already satisfied: gensim in c:\\users\\imad0\\appdata\\local\\programs\\python\\python311\\lib\\site-packages (4.3.3)\n",
      "Requirement already satisfied: numpy<2.0,>=1.18.5 in c:\\users\\imad0\\appdata\\local\\programs\\python\\python311\\lib\\site-packages (from gensim) (1.26.4)\n",
      "Requirement already satisfied: scipy<1.14.0,>=1.7.0 in c:\\users\\imad0\\appdata\\local\\programs\\python\\python311\\lib\\site-packages (from gensim) (1.13.0)\n",
      "Requirement already satisfied: smart-open>=1.8.1 in c:\\users\\imad0\\appdata\\local\\programs\\python\\python311\\lib\\site-packages (from gensim) (7.0.5)\n",
      "Requirement already satisfied: wrapt in c:\\users\\imad0\\appdata\\local\\programs\\python\\python311\\lib\\site-packages (from smart-open>=1.8.1->gensim) (1.16.0)\n",
      "Note: you may need to restart the kernel to use updated packages.\n"
     ]
    },
    {
     "name": "stderr",
     "output_type": "stream",
     "text": [
      "\n",
      "[notice] A new release of pip is available: 24.0 -> 24.3.1\n",
      "[notice] To update, run: python.exe -m pip install --upgrade pip\n"
     ]
    }
   ],
   "source": [
    "pip install gensim"
   ]
  },
  {
   "cell_type": "code",
   "execution_count": 34,
   "id": "07cc032a-30f6-4de5-a13c-8cf12a98661b",
   "metadata": {},
   "outputs": [],
   "source": [
    "from gensim.models import Word2Vec\n",
    "import re"
   ]
  },
  {
   "cell_type": "code",
   "execution_count": 35,
   "id": "cc2b3baf-030d-49b8-8894-b6a21c30ebdf",
   "metadata": {},
   "outputs": [],
   "source": [
    "documents = [\n",
    "    \"Natural Language Processing is a subset of Artificial Intelligence.\",\n",
    "    \"Word embeddings capture semantic meaning of words.\",\n",
    "    \"Word2Vec is a popular word embedding technique.\",\n",
    "    \"Gensim provides tools to implement Word2Vec models.\",\n",
    "]"
   ]
  },
  {
   "cell_type": "code",
   "execution_count": 40,
   "id": "4a582952-8780-4b40-b322-8632e29a765d",
   "metadata": {},
   "outputs": [
    {
     "name": "stdout",
     "output_type": "stream",
     "text": [
      "Tokenized Documents: [['natural', 'language', 'processing', 'is', 'a', 'subset', 'of', 'artificial', 'intelligence'], ['word', 'embeddings', 'capture', 'semantic', 'meaning', 'of', 'words'], ['word2vec', 'is', 'a', 'popular', 'word', 'embedding', 'technique'], ['gensim', 'provides', 'tools', 'to', 'implement', 'word2vec', 'models']]\n"
     ]
    }
   ],
   "source": [
    "tokenized_documents = [preprocess(doc) for doc in documents]\n",
    "print(\"Tokenized Documents:\", tokenized_documents)"
   ]
  },
  {
   "cell_type": "code",
   "execution_count": 33,
   "id": "0808739e-0945-43f7-b93a-08f060bef009",
   "metadata": {},
   "outputs": [],
   "source": [
    "# Training the Word2Vec model\n",
    "model = Word2Vec(sentences=tokenized_documents, vector_size=100, window=5, min_count=1, sg=1)"
   ]
  },
  {
   "cell_type": "code",
   "execution_count": 8,
   "id": "fa4739b6-ba81-4fc4-800f-65d3ad52e3c2",
   "metadata": {},
   "outputs": [
    {
     "name": "stdout",
     "output_type": "stream",
     "text": [
      "Vocabulary Size: 25\n"
     ]
    }
   ],
   "source": [
    "print(\"Vocabulary Size:\", len(model.wv))"
   ]
  },
  {
   "cell_type": "code",
   "execution_count": 41,
   "id": "14baf535-1e87-4d83-917d-7b8760e6ef62",
   "metadata": {},
   "outputs": [
    {
     "name": "stdout",
     "output_type": "stream",
     "text": [
      "Vector for 'word':\n",
      "[ 8.1681199e-03 -4.4430327e-03  8.9854337e-03  8.2536647e-03\n",
      " -4.4352221e-03  3.0310510e-04  4.2744912e-03 -3.9263200e-03\n",
      " -5.5599655e-03 -6.5123225e-03 -6.7073823e-04 -2.9592158e-04\n",
      "  4.4630850e-03 -2.4740540e-03 -1.7260908e-04  2.4618758e-03\n",
      "  4.8675989e-03 -3.0808449e-05 -6.3394094e-03 -9.2608072e-03\n",
      "  2.6657581e-05  6.6618943e-03  1.4660227e-03 -8.9665223e-03\n",
      " -7.9386048e-03  6.5519023e-03 -3.7856805e-03  6.2549924e-03\n",
      " -6.6810320e-03  8.4796622e-03 -6.5163244e-03  3.2880199e-03\n",
      " -1.0569858e-03 -6.7875278e-03 -3.2875966e-03 -1.1614120e-03\n",
      " -5.4709399e-03 -1.2113475e-03 -7.5633135e-03  2.6466595e-03\n",
      "  9.0701487e-03 -2.3772502e-03 -9.7651005e-04  3.5135616e-03\n",
      "  8.6650876e-03 -5.9218528e-03 -6.8875779e-03 -2.9329848e-03\n",
      "  9.1476962e-03  8.6626766e-04 -8.6784009e-03 -1.4469790e-03\n",
      "  9.4794659e-03 -7.5494875e-03 -5.3580985e-03  9.3165627e-03\n",
      " -8.9737261e-03  3.8259076e-03  6.6544057e-04  6.6607012e-03\n",
      "  8.3127534e-03 -2.8507852e-03 -3.9923131e-03  8.8979173e-03\n",
      "  2.0896459e-03  6.2489416e-03 -9.4457148e-03  9.5901238e-03\n",
      " -1.3483083e-03 -6.0521150e-03  2.9925345e-03 -4.5661093e-04\n",
      "  4.7064926e-03 -2.2830211e-03 -4.1378425e-03  2.2778988e-03\n",
      "  8.3543835e-03 -4.9956059e-03  2.6686788e-03 -7.9905549e-03\n",
      " -6.7733466e-03 -4.6766878e-04 -8.7677278e-03  2.7894378e-03\n",
      "  1.5985954e-03 -2.3196924e-03  5.0037908e-03  9.7487867e-03\n",
      "  8.4542679e-03 -1.8802249e-03  2.0581519e-03 -4.0036892e-03\n",
      " -8.2414057e-03  6.2779556e-03 -1.9491815e-03 -6.6620467e-04\n",
      " -1.7713320e-03 -4.5356657e-03  4.0617096e-03 -4.2701806e-03]\n"
     ]
    }
   ],
   "source": [
    "word_vector = model.wv[\"language\"]\n",
    "print(f\"Vector for 'word':\\n{word_vector}\")"
   ]
  },
  {
   "cell_type": "code",
   "execution_count": 42,
   "id": "197c81cb-019a-48e9-afd5-43e0584962d7",
   "metadata": {},
   "outputs": [
    {
     "name": "stdout",
     "output_type": "stream",
     "text": [
      "Words similar to 'word': [('technique', 0.31898990273475647), ('words', 0.1746940165758133), ('popular', 0.11928275972604752), ('intelligence', 0.11117951571941376), ('artificial', 0.1088901162147522)]\n"
     ]
    }
   ],
   "source": [
    "similar_words = model.wv.most_similar(\"language\", topn=5)\n",
    "print(\"Words similar to 'word':\", similar_words)"
   ]
  },
  {
   "cell_type": "code",
   "execution_count": 43,
   "id": "bd415abd-4751-4bab-964f-db0a80bca840",
   "metadata": {},
   "outputs": [],
   "source": [
    "model.save(\"word2vec.model\")\n",
    "loaded_model = Word2Vec.load(\"word2vec.model\")"
   ]
  },
  {
   "cell_type": "code",
   "execution_count": 44,
   "id": "63735bf9-fc2e-44cd-83ab-06221a3bbb65",
   "metadata": {},
   "outputs": [
    {
     "name": "stdout",
     "output_type": "stream",
     "text": [
      "Word2Vec<vocab=25, vector_size=100, alpha=0.025>\n"
     ]
    }
   ],
   "source": [
    "print(loaded_model)"
   ]
  },
  {
   "cell_type": "code",
   "execution_count": 45,
   "id": "2e5b8c58-7fd5-499f-a1f3-ddc1e78f51f7",
   "metadata": {},
   "outputs": [],
   "source": [
    "# Example sentences\n",
    "sentences = [\n",
    "    [\"the\", \"quick\", \"brown\", \"fox\", \"jumps\", \"over\", \"the\", \"lazy\", \"dog\"],\n",
    "    [\"artificial\", \"intelligence\", \"is\", \"revolutionizing\", \"the\", \"world\"],\n",
    "    [\"the\", \"dog\", \"barked\", \"at\", \"the\", \"fox\"]\n",
    "]"
   ]
  },
  {
   "cell_type": "code",
   "execution_count": 46,
   "id": "e83c77eb-4714-4ca3-8d0d-6ba0e5a4c152",
   "metadata": {},
   "outputs": [],
   "source": [
    "# Train with window=5\n",
    "model_window_5 = Word2Vec(sentences, vector_size=50, window=5, sg=1, min_count=1)"
   ]
  },
  {
   "cell_type": "code",
   "execution_count": 47,
   "id": "9e7cabd5-28f2-4db6-8ba9-166fecab8ba8",
   "metadata": {},
   "outputs": [],
   "source": [
    "# Train with window=10\n",
    "model_window_10 = Word2Vec(sentences, vector_size=50, window=10, sg=1, min_count=1)"
   ]
  },
  {
   "cell_type": "code",
   "execution_count": 53,
   "id": "4eec5c84-e3d6-4334-b758-557c1fa8bdc1",
   "metadata": {},
   "outputs": [
    {
     "name": "stdout",
     "output_type": "stream",
     "text": [
      "Similar words to 'fox' with window=5:\n",
      " [('barked', 0.165673166513443), ('over', 0.15508492290973663), ('intelligence', 0.13934065401554108), ('the', 0.12689457833766937), ('lazy', 0.12136736512184143), ('revolutionizing', 0.088749460875988), ('quick', 0.03219948336482048), ('brown', 0.020792437717318535), ('dog', 0.011040177196264267), ('world', -0.027796434238553047)]\n",
      "Similar words to 'fox' with window=10:\n",
      " [('barked', 0.16563552618026733), ('over', 0.1551763415336609), ('intelligence', 0.13940520584583282), ('the', 0.12673531472682953), ('lazy', 0.12120293825864792), ('revolutionizing', 0.0887545496225357), ('quick', 0.032343439757823944), ('brown', 0.020483333617448807), ('dog', 0.011154981330037117), ('world', -0.027777543291449547)]\n"
     ]
    }
   ],
   "source": [
    "# Compare similar words for 'fox'\n",
    "print(\"Similar words to 'fox' with window=5:\\n\", model_window_5.wv.most_similar(\"fox\"))\n",
    "print(\"Similar words to 'fox' with window=10:\\n\", model_window_10.wv.most_similar(\"fox\"))"
   ]
  },
  {
   "cell_type": "code",
   "execution_count": null,
   "id": "ceb586a0-d2ae-449c-8782-a6b201d7308f",
   "metadata": {},
   "outputs": [],
   "source": []
  }
 ],
 "metadata": {
  "kernelspec": {
   "display_name": "Python 3 (ipykernel)",
   "language": "python",
   "name": "python3"
  },
  "language_info": {
   "codemirror_mode": {
    "name": "ipython",
    "version": 3
   },
   "file_extension": ".py",
   "mimetype": "text/x-python",
   "name": "python",
   "nbconvert_exporter": "python",
   "pygments_lexer": "ipython3",
   "version": "3.11.8"
  }
 },
 "nbformat": 4,
 "nbformat_minor": 5
}
