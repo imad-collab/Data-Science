{
  "nbformat": 4,
  "nbformat_minor": 0,
  "metadata": {
    "colab": {
      "provenance": []
    },
    "kernelspec": {
      "name": "python3",
      "display_name": "Python 3"
    },
    "language_info": {
      "name": "python"
    }
  },
  "cells": [
    {
      "cell_type": "code",
      "execution_count": 2,
      "metadata": {
        "id": "WjWxQFr8L9EM",
        "colab": {
          "base_uri": "https://localhost:8080/"
        },
        "outputId": "9ef1de6d-0fdb-40c1-da88-c858c617f5a1"
      },
      "outputs": [
        {
          "output_type": "stream",
          "name": "stdout",
          "text": [
            "Collecting fasttext\n",
            "  Downloading fasttext-0.9.3.tar.gz (73 kB)\n",
            "\u001b[?25l     \u001b[90m━━━━━━━━━━━━━━━━━━━━━━━━━━━━━━━━━━━━━━━━\u001b[0m \u001b[32m0.0/73.4 kB\u001b[0m \u001b[31m?\u001b[0m eta \u001b[36m-:--:--\u001b[0m\r\u001b[2K     \u001b[91m━━━━━━━━━━━━━━━━━━━━━━━━━━━━━━━━━━━━━━━\u001b[0m\u001b[90m╺\u001b[0m \u001b[32m71.7/73.4 kB\u001b[0m \u001b[31m2.9 MB/s\u001b[0m eta \u001b[36m0:00:01\u001b[0m\r\u001b[2K     \u001b[90m━━━━━━━━━━━━━━━━━━━━━━━━━━━━━━━━━━━━━━━━\u001b[0m \u001b[32m73.4/73.4 kB\u001b[0m \u001b[31m1.7 MB/s\u001b[0m eta \u001b[36m0:00:00\u001b[0m\n",
            "\u001b[?25h  Installing build dependencies ... \u001b[?25l\u001b[?25hdone\n",
            "  Getting requirements to build wheel ... \u001b[?25l\u001b[?25hdone\n",
            "  Preparing metadata (pyproject.toml) ... \u001b[?25l\u001b[?25hdone\n",
            "Collecting pybind11>=2.2 (from fasttext)\n",
            "  Using cached pybind11-2.13.6-py3-none-any.whl.metadata (9.5 kB)\n",
            "Requirement already satisfied: setuptools>=0.7.0 in /usr/local/lib/python3.10/dist-packages (from fasttext) (75.1.0)\n",
            "Requirement already satisfied: numpy in /usr/local/lib/python3.10/dist-packages (from fasttext) (1.26.4)\n",
            "Using cached pybind11-2.13.6-py3-none-any.whl (243 kB)\n",
            "Building wheels for collected packages: fasttext\n",
            "  Building wheel for fasttext (pyproject.toml) ... \u001b[?25l\u001b[?25hdone\n",
            "  Created wheel for fasttext: filename=fasttext-0.9.3-cp310-cp310-linux_x86_64.whl size=4296185 sha256=aa5eec9b64d13320b121919efb68fce807a84910d76f319f71f61c9b01b8267e\n",
            "  Stored in directory: /root/.cache/pip/wheels/0d/a2/00/81db54d3e6a8199b829d58e02cec2ddb20ce3e59fad8d3c92a\n",
            "Successfully built fasttext\n",
            "Installing collected packages: pybind11, fasttext\n",
            "Successfully installed fasttext-0.9.3 pybind11-2.13.6\n"
          ]
        }
      ],
      "source": [
        "!pip install fasttext\n",
        "import fasttext"
      ]
    },
    {
      "cell_type": "code",
      "source": [
        "text = \"\"\"I love machine learning and natural language processing.\n",
        "FastText is a library for word embeddings and text classification.\n",
        "It is used to create word vectors that capture the semantic meaning of words.\n",
        "Deep learning models such as neural networks benefit from these embeddings.\n",
        "Word2Vec and GloVe are also popular techniques for generating word embeddings.\n",
        "FastText improves upon Word2Vec by representing subword information.\n",
        "This helps in dealing with rare words and out-of-vocabulary words.\n",
        "Embeddings are useful for tasks like sentiment analysis, language translation, and text classification.\n",
        "Machine learning models require large amounts of data to perform well.\n",
        "Understanding word meanings is crucial for building intelligent systems.\"\"\""
      ],
      "metadata": {
        "id": "JubA-a4cWtvq"
      },
      "execution_count": 3,
      "outputs": []
    },
    {
      "cell_type": "code",
      "source": [
        "# Save to a text file\n",
        "with open('sample_text.txt', 'w') as file:\n",
        "    file.write(text)"
      ],
      "metadata": {
        "id": "h1bL_Q1nXVgI"
      },
      "execution_count": 4,
      "outputs": []
    },
    {
      "cell_type": "code",
      "source": [
        "# Train a FastText model using the text file (path to your .txt file)\n",
        "ft_model = fasttext.train_unsupervised('sample_text.txt', model='skipgram')"
      ],
      "metadata": {
        "id": "4akWkQBvXYdy"
      },
      "execution_count": 5,
      "outputs": []
    },
    {
      "cell_type": "code",
      "source": [
        "# Get word vector for a word\n",
        "word_vector = ft_model.get_word_vector('machine')"
      ],
      "metadata": {
        "id": "RWEUyxBIXa1Z"
      },
      "execution_count": 6,
      "outputs": []
    },
    {
      "cell_type": "code",
      "source": [
        "# Print the word vector\n",
        "print(word_vector)"
      ],
      "metadata": {
        "colab": {
          "base_uri": "https://localhost:8080/"
        },
        "id": "G2mIutJRXdc0",
        "outputId": "f9d347a9-aff7-42fe-c90e-e1593d8b4f7f"
      },
      "execution_count": 7,
      "outputs": [
        {
          "output_type": "stream",
          "name": "stdout",
          "text": [
            "[-2.2042611e-04 -6.1271992e-04 -5.1621627e-04  1.2480292e-03\n",
            "  4.2411103e-04 -4.6409643e-04  8.6171384e-04  3.3951714e-04\n",
            "  7.8304112e-04 -4.1511626e-04 -8.1569236e-04 -8.0619822e-04\n",
            " -2.1397226e-04  1.0700234e-04 -7.1858848e-04 -4.7385525e-05\n",
            "  4.9770117e-04  6.0367381e-04  1.8126781e-04  5.0158764e-04\n",
            "  2.4299718e-04 -4.3460215e-04  2.4069978e-04  3.2774959e-05\n",
            "  7.3154212e-04  2.2587016e-04  7.6742354e-04  2.7340394e-04\n",
            "  3.1873543e-04  1.3230460e-03  4.4873788e-05 -4.3591121e-04\n",
            " -4.1082309e-04  7.0384942e-04  7.8683847e-04 -1.2738474e-04\n",
            " -1.1080617e-04 -4.2257816e-04 -3.3823089e-04 -4.3519208e-04\n",
            " -1.9090588e-05  3.3458578e-04  2.0478803e-04  1.2433843e-04\n",
            "  6.3956039e-05  5.5394321e-05  1.5261819e-04 -4.8120625e-04\n",
            "  1.5394203e-04  5.0706934e-04  7.2850037e-04  8.4705109e-04\n",
            " -8.9598332e-05  1.2909123e-04  2.4636713e-04  3.7402459e-04\n",
            "  4.8999907e-04 -4.6799681e-04 -5.5485975e-04  6.8412622e-04\n",
            "  9.5964358e-05  5.0248421e-04  6.7225948e-04  4.8359027e-04\n",
            " -3.3415604e-04 -3.5617553e-04 -4.8638194e-05  3.9587141e-04\n",
            "  5.3367158e-04 -4.3331034e-05 -5.1108206e-04  1.2930038e-03\n",
            " -5.2363222e-04 -1.2313327e-04  7.1702321e-04  3.4948782e-04\n",
            "  3.3386805e-04  7.5777748e-04 -4.4838813e-04 -1.7775949e-04\n",
            " -1.1009339e-03  3.5829403e-04 -5.8457890e-04  1.3447802e-04\n",
            " -2.5691025e-04  7.5227075e-04 -4.2626288e-04  3.4051412e-04\n",
            " -7.9461123e-04 -7.0248010e-05  1.2070056e-03  5.0349091e-04\n",
            " -2.8916615e-05 -5.9899065e-04  7.4840337e-04 -7.4797921e-04\n",
            " -5.6582032e-04 -4.3572509e-04  1.6656540e-04 -2.0550683e-04]\n"
          ]
        }
      ]
    },
    {
      "cell_type": "code",
      "source": [],
      "metadata": {
        "id": "JdgIQUdIXf76"
      },
      "execution_count": null,
      "outputs": []
    }
  ]
}