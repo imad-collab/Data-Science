{
 "cells": [
  {
   "cell_type": "code",
   "execution_count": 1,
   "id": "a68fe902",
   "metadata": {
    "ExecuteTime": {
     "end_time": "2022-12-19T19:22:31.173444Z",
     "start_time": "2022-12-19T19:22:26.019504Z"
    }
   },
   "outputs": [],
   "source": [
    "#pg=813\n",
    "#handwritten digits with image recognition\n",
    "import numpy as np\n",
    "from tensorflow.keras import utils\n",
    "from tensorflow.keras.models import Sequential\n",
    "from tensorflow.keras.layers import Dense\n",
    "from tensorflow.keras.layers import Dropout\n",
    "from tensorflow.keras.layers import Flatten\n",
    "from tensorflow.keras.layers import Conv2D\n",
    "from tensorflow.keras.layers import MaxPooling2D "
   ]
  },
  {
   "cell_type": "code",
   "execution_count": 2,
   "id": "e904e99f",
   "metadata": {
    "ExecuteTime": {
     "end_time": "2022-12-19T19:22:31.397014Z",
     "start_time": "2022-12-19T19:22:31.175404Z"
    }
   },
   "outputs": [],
   "source": [
    "#load mnist data\n",
    "from tensorflow.keras.datasets import mnist\n",
    "(X_train,y_train),(X_test,y_test)=mnist.load_data() "
   ]
  },
  {
   "cell_type": "code",
   "execution_count": 3,
   "id": "48d92cbf",
   "metadata": {
    "ExecuteTime": {
     "end_time": "2022-12-19T19:22:31.412918Z",
     "start_time": "2022-12-19T19:22:31.398923Z"
    }
   },
   "outputs": [
    {
     "name": "stdout",
     "output_type": "stream",
     "text": [
      "shape of trainning data (60000, 28, 28)\n",
      "shape of testing data (10000, 28, 28)\n",
      "no of trainning data (60000,)\n",
      "no of testing data (10000,)\n"
     ]
    }
   ],
   "source": [
    "#display the shape of the data\n",
    "print('shape of trainning data', X_train.shape)\n",
    "print('shape of testing data', X_test.shape)\n",
    "print('no of trainning data',y_train.shape)\n",
    "print('no of testing data',y_test.shape) "
   ]
  },
  {
   "cell_type": "code",
   "execution_count": 4,
   "id": "13c75b0d",
   "metadata": {
    "ExecuteTime": {
     "end_time": "2022-12-19T19:22:35.957267Z",
     "start_time": "2022-12-19T19:22:35.952281Z"
    }
   },
   "outputs": [],
   "source": [
    "X_train=X_train.reshape(60000,28,28)\n",
    "X_test=X_test.reshape(10000,28,28)  "
   ]
  },
  {
   "cell_type": "code",
   "execution_count": 5,
   "id": "a8e926cf",
   "metadata": {
    "ExecuteTime": {
     "end_time": "2022-12-19T19:22:36.668199Z",
     "start_time": "2022-12-19T19:22:36.663208Z"
    }
   },
   "outputs": [],
   "source": [
    "# The y_train and y_test data represent the category or class to which the image belong.\n",
    "#This can be of (0 to 9)\n",
    "#in mnist dataset ,we have to convert this y_train and y_test data(i.e, the target variable to categorical variable)\n",
    "#this can be done by using to_categorical() function of 'utils' module\n",
    "from tensorflow.keras import utils\n",
    "y_train=utils.to_categorical(y_train,10)\n",
    "y_test=utils.to_categorical(y_test,10) "
   ]
  },
  {
   "cell_type": "code",
   "execution_count": 6,
   "id": "2b0fbe51",
   "metadata": {
    "ExecuteTime": {
     "end_time": "2022-12-19T19:22:38.075417Z",
     "start_time": "2022-12-19T19:22:37.224243Z"
    }
   },
   "outputs": [
    {
     "data": {
      "text/plain": [
       "<matplotlib.image.AxesImage at 0x2749e4739a0>"
      ]
     },
     "execution_count": 6,
     "metadata": {},
     "output_type": "execute_result"
    },
    {
     "data": {
      "image/png": "[encoded data removed]",
      "text/plain": [
       "<Figure size 432x288 with 1 Axes>"
      ]
     },
     "metadata": {
      "needs_background": "light"
     },
     "output_type": "display_data"
    }
   ],
   "source": [
    "# X_train[100] represents the 100th image in the training data\n",
    "import matplotlib.pyplot as plt\n",
    "plt.imshow(X_train[100],cmap='gray') "
   ]
  },
  {
   "cell_type": "code",
   "execution_count": 7,
   "id": "bd0f3d4a",
   "metadata": {
    "ExecuteTime": {
     "end_time": "2022-12-19T19:22:38.091374Z",
     "start_time": "2022-12-19T19:22:38.077380Z"
    }
   },
   "outputs": [
    {
     "name": "stdout",
     "output_type": "stream",
     "text": [
      "[0. 0. 0. 0. 0. 1. 0. 0. 0. 0.]\n"
     ]
    }
   ],
   "source": [
    "arr=y_train[100]# take 100th image\n",
    "print(arr) "
   ]
  },
  {
   "cell_type": "code",
   "execution_count": 8,
   "id": "9f59beb7",
   "metadata": {
    "ExecuteTime": {
     "end_time": "2022-12-19T19:22:38.107299Z",
     "start_time": "2022-12-19T19:22:38.092358Z"
    }
   },
   "outputs": [
    {
     "data": {
      "text/plain": [
       "5"
      ]
     },
     "execution_count": 8,
     "metadata": {},
     "output_type": "execute_result"
    }
   ],
   "source": [
    "np.argmax(arr)"
   ]
  },
  {
   "cell_type": "code",
   "execution_count": 9,
   "id": "afd02984",
   "metadata": {
    "ExecuteTime": {
     "end_time": "2022-12-19T19:22:38.123282Z",
     "start_time": "2022-12-19T19:22:38.109294Z"
    }
   },
   "outputs": [],
   "source": [
    "# In case of mnist dataset, the images can be displayed from X_train data\n",
    "# The data can be displayed and will available in y_train data\n",
    "#The image label or target value can be displayed by applying argmax() on the array"
   ]
  },
  {
   "cell_type": "markdown",
   "id": "bbc39c67",
   "metadata": {},
   "source": [
    "# Building CNN Model"
   ]
  },
  {
   "cell_type": "code",
   "execution_count": 10,
   "id": "61b0d544",
   "metadata": {
    "ExecuteTime": {
     "end_time": "2022-12-19T19:22:38.139240Z",
     "start_time": "2022-12-19T19:22:38.124279Z"
    }
   },
   "outputs": [],
   "source": [
    "#Create the Model\n",
    "#Create the input layer\n",
    "#Create the Convulutional layer\n",
    "#Create the another convulutional layer\n",
    "#Create a Max pooling layer\n",
    "#Dropout layer to disable some of the nodes and reduce the overfitting issues\n",
    "#Display the output layer .We have to convert the 2D output given by the previous layers into 1D(this is called as Flattenning)\n",
    "#The final output layer willl give you the output interms of probability"
   ]
  },
  {
   "cell_type": "code",
   "execution_count": 11,
   "id": "133beff7",
   "metadata": {
    "ExecuteTime": {
     "end_time": "2022-12-19T19:22:39.233697Z",
     "start_time": "2022-12-19T19:22:38.140212Z"
    }
   },
   "outputs": [],
   "source": [
    "from tensorflow.keras.models import Sequential\n",
    "model=Sequential() "
   ]
  },
  {
   "cell_type": "code",
   "execution_count": 12,
   "id": "00eb932f",
   "metadata": {
    "ExecuteTime": {
     "end_time": "2022-12-19T19:22:39.312365Z",
     "start_time": "2022-12-19T19:22:39.235658Z"
    }
   },
   "outputs": [],
   "source": [
    "# Now create the input layers with 32 nodes and input shape of 28x28 pixels and 1 channel\n",
    "input_layer=Dense(32,input_shape=(28,28,1))\n",
    "model.add(input_layer) "
   ]
  },
  {
   "cell_type": "code",
   "execution_count": 13,
   "id": "6c0ea1c8",
   "metadata": {
    "ExecuteTime": {
     "end_time": "2022-12-19T19:22:39.343916Z",
     "start_time": "2022-12-19T19:22:39.313797Z"
    }
   },
   "outputs": [],
   "source": [
    "cov_layer1=Conv2D(32,kernel_size=(3,3),activation='relu')\n",
    "model.add(cov_layer1) "
   ]
  },
  {
   "cell_type": "code",
   "execution_count": 14,
   "id": "386c181e",
   "metadata": {
    "ExecuteTime": {
     "end_time": "2022-12-19T19:22:39.517474Z",
     "start_time": "2022-12-19T19:22:39.492771Z"
    }
   },
   "outputs": [],
   "source": [
    "cov_layer2=Conv2D(64,kernel_size=(3,3),activation='relu')\n",
    "model.add(cov_layer2)"
   ]
  },
  {
   "cell_type": "code",
   "execution_count": 15,
   "id": "6acd90d3",
   "metadata": {
    "ExecuteTime": {
     "end_time": "2022-12-19T19:22:39.706178Z",
     "start_time": "2022-12-19T19:22:39.694210Z"
    }
   },
   "outputs": [],
   "source": [
    "pool_layer=MaxPooling2D(pool_size=(2,2))\n",
    "model.add(pool_layer)"
   ]
  },
  {
   "cell_type": "code",
   "execution_count": 16,
   "id": "f1ab10c7",
   "metadata": {
    "ExecuteTime": {
     "end_time": "2022-12-19T19:22:40.182757Z",
     "start_time": "2022-12-19T19:22:40.165774Z"
    }
   },
   "outputs": [],
   "source": [
    "drop_layer=Dropout(0.5)\n",
    "model.add(drop_layer)"
   ]
  },
  {
   "cell_type": "code",
   "execution_count": 17,
   "id": "bae8839d",
   "metadata": {
    "ExecuteTime": {
     "end_time": "2022-12-19T19:22:40.555148Z",
     "start_time": "2022-12-19T19:22:40.544177Z"
    }
   },
   "outputs": [],
   "source": [
    "flat_layer=Flatten()\n",
    "model.add(flat_layer)"
   ]
  },
  {
   "cell_type": "code",
   "execution_count": 18,
   "id": "381989a7",
   "metadata": {
    "ExecuteTime": {
     "end_time": "2022-12-19T19:22:41.264448Z",
     "start_time": "2022-12-19T19:22:41.238096Z"
    }
   },
   "outputs": [],
   "source": [
    "output_layer=Dense(10,activation='softmax')\n",
    "model.add(output_layer) "
   ]
  },
  {
   "cell_type": "markdown",
   "id": "30be9a8a",
   "metadata": {},
   "source": [
    "# Compile the Model"
   ]
  },
  {
   "cell_type": "code",
   "execution_count": 19,
   "id": "cafe4094",
   "metadata": {
    "ExecuteTime": {
     "end_time": "2022-12-19T19:22:42.615127Z",
     "start_time": "2022-12-19T19:22:42.590498Z"
    }
   },
   "outputs": [],
   "source": [
    "model.compile(loss='categorical_crossentropy',optimizer='adam',metrics=['accuracy']) "
   ]
  },
  {
   "cell_type": "code",
   "execution_count": 20,
   "id": "0ec948d9",
   "metadata": {
    "ExecuteTime": {
     "end_time": "2022-12-19T19:22:43.031099Z",
     "start_time": "2022-12-19T19:22:43.016171Z"
    }
   },
   "outputs": [
    {
     "data": {
      "text/plain": [
       "array([[[0, 0, 0, ..., 0, 0, 0],\n",
       "        [0, 0, 0, ..., 0, 0, 0],\n",
       "        [0, 0, 0, ..., 0, 0, 0],\n",
       "        ...,\n",
       "        [0, 0, 0, ..., 0, 0, 0],\n",
       "        [0, 0, 0, ..., 0, 0, 0],\n",
       "        [0, 0, 0, ..., 0, 0, 0]],\n",
       "\n",
       "       [[0, 0, 0, ..., 0, 0, 0],\n",
       "        [0, 0, 0, ..., 0, 0, 0],\n",
       "        [0, 0, 0, ..., 0, 0, 0],\n",
       "        ...,\n",
       "        [0, 0, 0, ..., 0, 0, 0],\n",
       "        [0, 0, 0, ..., 0, 0, 0],\n",
       "        [0, 0, 0, ..., 0, 0, 0]],\n",
       "\n",
       "       [[0, 0, 0, ..., 0, 0, 0],\n",
       "        [0, 0, 0, ..., 0, 0, 0],\n",
       "        [0, 0, 0, ..., 0, 0, 0],\n",
       "        ...,\n",
       "        [0, 0, 0, ..., 0, 0, 0],\n",
       "        [0, 0, 0, ..., 0, 0, 0],\n",
       "        [0, 0, 0, ..., 0, 0, 0]],\n",
       "\n",
       "       ...,\n",
       "\n",
       "       [[0, 0, 0, ..., 0, 0, 0],\n",
       "        [0, 0, 0, ..., 0, 0, 0],\n",
       "        [0, 0, 0, ..., 0, 0, 0],\n",
       "        ...,\n",
       "        [0, 0, 0, ..., 0, 0, 0],\n",
       "        [0, 0, 0, ..., 0, 0, 0],\n",
       "        [0, 0, 0, ..., 0, 0, 0]],\n",
       "\n",
       "       [[0, 0, 0, ..., 0, 0, 0],\n",
       "        [0, 0, 0, ..., 0, 0, 0],\n",
       "        [0, 0, 0, ..., 0, 0, 0],\n",
       "        ...,\n",
       "        [0, 0, 0, ..., 0, 0, 0],\n",
       "        [0, 0, 0, ..., 0, 0, 0],\n",
       "        [0, 0, 0, ..., 0, 0, 0]],\n",
       "\n",
       "       [[0, 0, 0, ..., 0, 0, 0],\n",
       "        [0, 0, 0, ..., 0, 0, 0],\n",
       "        [0, 0, 0, ..., 0, 0, 0],\n",
       "        ...,\n",
       "        [0, 0, 0, ..., 0, 0, 0],\n",
       "        [0, 0, 0, ..., 0, 0, 0],\n",
       "        [0, 0, 0, ..., 0, 0, 0]]], dtype=uint8)"
      ]
     },
     "execution_count": 20,
     "metadata": {},
     "output_type": "execute_result"
    }
   ],
   "source": [
    "X_train "
   ]
  },
  {
   "cell_type": "code",
   "execution_count": 21,
   "id": "d7c34e83",
   "metadata": {
    "ExecuteTime": {
     "end_time": "2022-12-19T19:22:43.592018Z",
     "start_time": "2022-12-19T19:22:43.573072Z"
    }
   },
   "outputs": [
    {
     "data": {
      "text/plain": [
       "array([[0., 0., 0., ..., 0., 0., 0.],\n",
       "       [1., 0., 0., ..., 0., 0., 0.],\n",
       "       [0., 0., 0., ..., 0., 0., 0.],\n",
       "       ...,\n",
       "       [0., 0., 0., ..., 0., 0., 0.],\n",
       "       [0., 0., 0., ..., 0., 0., 0.],\n",
       "       [0., 0., 0., ..., 0., 1., 0.]], dtype=float32)"
      ]
     },
     "execution_count": 21,
     "metadata": {},
     "output_type": "execute_result"
    }
   ],
   "source": [
    "y_train "
   ]
  },
  {
   "cell_type": "code",
   "execution_count": 22,
   "id": "3838ab1e",
   "metadata": {
    "ExecuteTime": {
     "end_time": "2022-12-19T19:22:43.991863Z",
     "start_time": "2022-12-19T19:22:43.975928Z"
    }
   },
   "outputs": [
    {
     "data": {
      "text/plain": [
       "array([[[0, 0, 0, ..., 0, 0, 0],\n",
       "        [0, 0, 0, ..., 0, 0, 0],\n",
       "        [0, 0, 0, ..., 0, 0, 0],\n",
       "        ...,\n",
       "        [0, 0, 0, ..., 0, 0, 0],\n",
       "        [0, 0, 0, ..., 0, 0, 0],\n",
       "        [0, 0, 0, ..., 0, 0, 0]],\n",
       "\n",
       "       [[0, 0, 0, ..., 0, 0, 0],\n",
       "        [0, 0, 0, ..., 0, 0, 0],\n",
       "        [0, 0, 0, ..., 0, 0, 0],\n",
       "        ...,\n",
       "        [0, 0, 0, ..., 0, 0, 0],\n",
       "        [0, 0, 0, ..., 0, 0, 0],\n",
       "        [0, 0, 0, ..., 0, 0, 0]],\n",
       "\n",
       "       [[0, 0, 0, ..., 0, 0, 0],\n",
       "        [0, 0, 0, ..., 0, 0, 0],\n",
       "        [0, 0, 0, ..., 0, 0, 0],\n",
       "        ...,\n",
       "        [0, 0, 0, ..., 0, 0, 0],\n",
       "        [0, 0, 0, ..., 0, 0, 0],\n",
       "        [0, 0, 0, ..., 0, 0, 0]],\n",
       "\n",
       "       ...,\n",
       "\n",
       "       [[0, 0, 0, ..., 0, 0, 0],\n",
       "        [0, 0, 0, ..., 0, 0, 0],\n",
       "        [0, 0, 0, ..., 0, 0, 0],\n",
       "        ...,\n",
       "        [0, 0, 0, ..., 0, 0, 0],\n",
       "        [0, 0, 0, ..., 0, 0, 0],\n",
       "        [0, 0, 0, ..., 0, 0, 0]],\n",
       "\n",
       "       [[0, 0, 0, ..., 0, 0, 0],\n",
       "        [0, 0, 0, ..., 0, 0, 0],\n",
       "        [0, 0, 0, ..., 0, 0, 0],\n",
       "        ...,\n",
       "        [0, 0, 0, ..., 0, 0, 0],\n",
       "        [0, 0, 0, ..., 0, 0, 0],\n",
       "        [0, 0, 0, ..., 0, 0, 0]],\n",
       "\n",
       "       [[0, 0, 0, ..., 0, 0, 0],\n",
       "        [0, 0, 0, ..., 0, 0, 0],\n",
       "        [0, 0, 0, ..., 0, 0, 0],\n",
       "        ...,\n",
       "        [0, 0, 0, ..., 0, 0, 0],\n",
       "        [0, 0, 0, ..., 0, 0, 0],\n",
       "        [0, 0, 0, ..., 0, 0, 0]]], dtype=uint8)"
      ]
     },
     "execution_count": 22,
     "metadata": {},
     "output_type": "execute_result"
    }
   ],
   "source": [
    "X_test"
   ]
  },
  {
   "cell_type": "code",
   "execution_count": 26,
   "id": "ff029548",
   "metadata": {
    "ExecuteTime": {
     "end_time": "2022-12-19T19:36:19.300211Z",
     "start_time": "2022-12-19T19:36:19.287267Z"
    }
   },
   "outputs": [
    {
     "data": {
      "text/plain": [
       "array([[0., 0., 0., ..., 1., 0., 0.],\n",
       "       [0., 0., 1., ..., 0., 0., 0.],\n",
       "       [0., 1., 0., ..., 0., 0., 0.],\n",
       "       ...,\n",
       "       [0., 0., 0., ..., 0., 0., 0.],\n",
       "       [0., 0., 0., ..., 0., 0., 0.],\n",
       "       [0., 0., 0., ..., 0., 0., 0.]], dtype=float32)"
      ]
     },
     "execution_count": 26,
     "metadata": {},
     "output_type": "execute_result"
    }
   ],
   "source": [
    "y_test"
   ]
  },
  {
   "cell_type": "markdown",
   "id": "e4de8349",
   "metadata": {
    "ExecuteTime": {
     "end_time": "2022-12-19T19:22:44.858309Z",
     "start_time": "2022-12-19T19:22:44.838392Z"
    }
   },
   "source": [
    "# Train the Model"
   ]
  },
  {
   "cell_type": "code",
   "execution_count": 24,
   "id": "fdfd361d",
   "metadata": {
    "ExecuteTime": {
     "end_time": "2022-12-19T19:34:28.767621Z",
     "start_time": "2022-12-19T19:22:45.263245Z"
    }
   },
   "outputs": [
    {
     "name": "stdout",
     "output_type": "stream",
     "text": [
      "Epoch 1/10\n",
      "1875/1875 [==============================] - 67s 35ms/step - loss: 0.3035 - accuracy: 0.9358 - val_loss: 0.0752 - val_accuracy: 0.9763\n",
      "Epoch 2/10\n",
      "1875/1875 [==============================] - 69s 37ms/step - loss: 0.1072 - accuracy: 0.9676 - val_loss: 0.0461 - val_accuracy: 0.9846\n",
      "Epoch 3/10\n",
      "1875/1875 [==============================] - 77s 41ms/step - loss: 0.0798 - accuracy: 0.9760 - val_loss: 0.0540 - val_accuracy: 0.9845\n",
      "Epoch 4/10\n",
      "1875/1875 [==============================] - 71s 38ms/step - loss: 0.0628 - accuracy: 0.9806 - val_loss: 0.0481 - val_accuracy: 0.9855\n",
      "Epoch 5/10\n",
      "1875/1875 [==============================] - 73s 39ms/step - loss: 0.0494 - accuracy: 0.9844 - val_loss: 0.0414 - val_accuracy: 0.9867\n",
      "Epoch 6/10\n",
      "1875/1875 [==============================] - 66s 35ms/step - loss: 0.0423 - accuracy: 0.9868 - val_loss: 0.0361 - val_accuracy: 0.9890\n",
      "Epoch 7/10\n",
      "1875/1875 [==============================] - 70s 37ms/step - loss: 0.0371 - accuracy: 0.9882 - val_loss: 0.0356 - val_accuracy: 0.9892\n",
      "Epoch 8/10\n",
      "1875/1875 [==============================] - 68s 36ms/step - loss: 0.0355 - accuracy: 0.9883 - val_loss: 0.0422 - val_accuracy: 0.9881\n",
      "Epoch 9/10\n",
      "1875/1875 [==============================] - 72s 38ms/step - loss: 0.0322 - accuracy: 0.9896 - val_loss: 0.0417 - val_accuracy: 0.9876\n",
      "Epoch 10/10\n",
      "1875/1875 [==============================] - 70s 37ms/step - loss: 0.0293 - accuracy: 0.9905 - val_loss: 0.0359 - val_accuracy: 0.9900\n"
     ]
    },
    {
     "data": {
      "text/plain": [
       "<keras.callbacks.History at 0x274a5f822b0>"
      ]
     },
     "execution_count": 24,
     "metadata": {},
     "output_type": "execute_result"
    }
   ],
   "source": [
    "model.fit(X_train,y_train,batch_size=32,epochs=10,validation_data=(X_test,y_test)) "
   ]
  },
  {
   "cell_type": "markdown",
   "id": "89c863ea",
   "metadata": {
    "ExecuteTime": {
     "end_time": "2022-12-18T08:38:21.163377Z",
     "start_time": "2022-12-18T08:38:21.044913Z"
    }
   },
   "source": [
    "# Evaluate the Model"
   ]
  },
  {
   "cell_type": "code",
   "execution_count": 28,
   "id": "fbe8edf5",
   "metadata": {
    "ExecuteTime": {
     "end_time": "2022-12-19T19:37:56.560709Z",
     "start_time": "2022-12-19T19:37:54.384037Z"
    }
   },
   "outputs": [
    {
     "name": "stdout",
     "output_type": "stream",
     "text": [
      "313/313 [==============================] - 2s 7ms/step - loss: 0.0359 - accuracy: 0.9900\n",
      "0.035896800458431244 0.9900000095367432\n"
     ]
    }
   ],
   "source": [
    "val_loss,val_accu=model.evaluate(X_test,y_test)\n",
    "print(val_loss,val_accu)"
   ]
  },
  {
   "cell_type": "markdown",
   "id": "bd679d47",
   "metadata": {},
   "source": [
    "# Make the Prediction using the Model"
   ]
  },
  {
   "cell_type": "code",
   "execution_count": 31,
   "id": "553e4c05",
   "metadata": {
    "ExecuteTime": {
     "end_time": "2022-12-19T19:42:25.662626Z",
     "start_time": "2022-12-19T19:42:25.597644Z"
    }
   },
   "outputs": [
    {
     "name": "stdout",
     "output_type": "stream",
     "text": [
      "1/1 [==============================] - 0s 14ms/step\n"
     ]
    }
   ],
   "source": [
    "#The arguments of the reshape() function\n",
    "#the first 1 indicates only 1 image .\n",
    "# the 28,28 indicates image size \n",
    "# the last 1 indicates the number of channels\n",
    "# For black and white image :----> it is 1 \n",
    "# For color image :---> it is be 3\n",
    "arr=model.predict([X_train[100].reshape(1,28,28,1)])"
   ]
  },
  {
   "cell_type": "code",
   "execution_count": 32,
   "id": "0489b48e",
   "metadata": {
    "ExecuteTime": {
     "end_time": "2022-12-19T19:42:47.436101Z",
     "start_time": "2022-12-19T19:42:47.420145Z"
    }
   },
   "outputs": [],
   "source": [
    "label=np.argmax(arr)"
   ]
  },
  {
   "cell_type": "code",
   "execution_count": 34,
   "id": "a217327d",
   "metadata": {
    "ExecuteTime": {
     "end_time": "2022-12-19T19:44:03.820772Z",
     "start_time": "2022-12-19T19:44:03.812763Z"
    }
   },
   "outputs": [
    {
     "data": {
      "text/plain": [
       "5"
      ]
     },
     "execution_count": 34,
     "metadata": {},
     "output_type": "execute_result"
    }
   ],
   "source": [
    "# This means the X_train[100] image shows the hand written digit 5\n",
    "label"
   ]
  },
  {
   "cell_type": "code",
   "execution_count": 35,
   "id": "54ff52bf",
   "metadata": {
    "ExecuteTime": {
     "end_time": "2022-12-19T19:47:13.438239Z",
     "start_time": "2022-12-19T19:47:13.375411Z"
    }
   },
   "outputs": [],
   "source": [
    "# build our Cnn model\n",
    "model=Sequential(\n",
    "[ Dense(32,input_shape=(28,28,1)),\n",
    "Conv2D(32,kernel_size=(3,3),activation='relu'),\n",
    "MaxPooling2D(pool_size=(2,2)),\n",
    "Flatten(),\n",
    "Dense(10,activation='softmax')])"
   ]
  },
  {
   "cell_type": "code",
   "execution_count": 36,
   "id": "cb2cf5fc",
   "metadata": {
    "ExecuteTime": {
     "end_time": "2022-12-19T19:47:18.141581Z",
     "start_time": "2022-12-19T19:47:18.134601Z"
    }
   },
   "outputs": [
    {
     "data": {
      "text/plain": [
       "<keras.engine.sequential.Sequential at 0x274a8e65250>"
      ]
     },
     "execution_count": 36,
     "metadata": {},
     "output_type": "execute_result"
    }
   ],
   "source": [
    "model"
   ]
  },
  {
   "cell_type": "code",
   "execution_count": 55,
   "id": "ac5f6dc2",
   "metadata": {
    "ExecuteTime": {
     "end_time": "2022-12-19T20:05:12.134371Z",
     "start_time": "2022-12-19T20:05:12.120375Z"
    }
   },
   "outputs": [],
   "source": [
    "#pg=816\n",
    "from PIL import Image,ImageOps\n",
    "import numpy as np"
   ]
  },
  {
   "cell_type": "code",
   "execution_count": 43,
   "id": "ea71c9a5",
   "metadata": {
    "ExecuteTime": {
     "end_time": "2022-12-19T19:55:52.257093Z",
     "start_time": "2022-12-19T19:55:52.240165Z"
    }
   },
   "outputs": [
    {
     "data": {
      "image/png": "[encoded data removed]",
      "text/plain": [
       "<PIL.Image.Image image mode=L size=32x32 at 0x274B00E06A0>"
      ]
     },
     "execution_count": 43,
     "metadata": {},
     "output_type": "execute_result"
    }
   ],
   "source": [
    "# We can open our image with image class function\n",
    "#convert('L'):--->we should convertinto gray scale image .\n",
    "img=Image.open('D:/test/4.png').convert('L')\n",
    "img"
   ]
  },
  {
   "cell_type": "code",
   "execution_count": 48,
   "id": "7f3b8525",
   "metadata": {
    "ExecuteTime": {
     "end_time": "2022-12-19T20:00:55.376618Z",
     "start_time": "2022-12-19T20:00:55.364650Z"
    }
   },
   "outputs": [
    {
     "data": {
      "image/png": "[encoded data removed]",
      "text/plain": [
       "<PIL.Image.Image image mode=L size=32x32 at 0x274A8F8DE20>"
      ]
     },
     "execution_count": 48,
     "metadata": {},
     "output_type": "execute_result"
    }
   ],
   "source": [
    "#Gray scale image is nthng but a black and white image where other colors are ignored.\n",
    "#But image is written in black and white , So this should be iverted .\n",
    "# That means we want a white image on black background ,since all the images in mnist dataset were like that.\n",
    "img_inverted=ImageOps.invert(img)\n",
    "img_inverted"
   ]
  },
  {
   "cell_type": "code",
   "execution_count": 49,
   "id": "7f93fc1c",
   "metadata": {
    "ExecuteTime": {
     "end_time": "2022-12-19T20:00:59.449887Z",
     "start_time": "2022-12-19T20:00:59.363120Z"
    }
   },
   "outputs": [
    {
     "data": {
      "text/plain": [
       "<matplotlib.image.AxesImage at 0x274b28f2580>"
      ]
     },
     "execution_count": 49,
     "metadata": {},
     "output_type": "execute_result"
    },
    {
     "data": {
      "image/png": "[encoded data removed]",
      "text/plain": [
       "<Figure size 432x288 with 1 Axes>"
      ]
     },
     "metadata": {
      "needs_background": "light"
     },
     "output_type": "display_data"
    }
   ],
   "source": [
    "#matshow() or imshow() function bth ar same to display the inverted image.\n",
    "import matplotlib.pyplot as plt\n",
    "plt.imshow(img_inverted)"
   ]
  },
  {
   "cell_type": "code",
   "execution_count": 50,
   "id": "8b06d75d",
   "metadata": {
    "ExecuteTime": {
     "end_time": "2022-12-19T20:01:25.757317Z",
     "start_time": "2022-12-19T20:01:25.743355Z"
    }
   },
   "outputs": [],
   "source": [
    "arr=np.array(img_inverted)"
   ]
  },
  {
   "cell_type": "code",
   "execution_count": 52,
   "id": "bdd67a84",
   "metadata": {
    "ExecuteTime": {
     "end_time": "2022-12-19T20:02:33.617011Z",
     "start_time": "2022-12-19T20:02:33.599058Z"
    }
   },
   "outputs": [
    {
     "data": {
      "text/plain": [
       "405"
      ]
     },
     "execution_count": 52,
     "metadata": {},
     "output_type": "execute_result"
    }
   ],
   "source": [
    "np.argmax(arr)"
   ]
  },
  {
   "cell_type": "code",
   "execution_count": null,
   "id": "39482ddf",
   "metadata": {
    "ExecuteTime": {
     "end_time": "2022-12-19T20:03:28.571867Z",
     "start_time": "2022-12-19T20:03:28.555940Z"
    }
   },
   "outputs": [],
   "source": []
  },
  {
   "cell_type": "code",
   "execution_count": null,
   "id": "7f8e6255",
   "metadata": {},
   "outputs": [],
   "source": []
  }
 ],
 "metadata": {
  "kernelspec": {
   "display_name": "Python 3 (ipykernel)",
   "language": "python",
   "name": "python3"
  },
  "language_info": {
   "codemirror_mode": {
    "name": "ipython",
    "version": 3
   },
   "file_extension": ".py",
   "mimetype": "text/x-python",
   "name": "python",
   "nbconvert_exporter": "python",
   "pygments_lexer": "ipython3",
   "version": "3.9.12"
  }
 },
 "nbformat": 4,
 "nbformat_minor": 5
}
