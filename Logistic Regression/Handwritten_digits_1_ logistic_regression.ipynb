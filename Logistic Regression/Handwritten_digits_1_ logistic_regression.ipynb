{
 "cells": [
  {
   "cell_type": "code",
   "execution_count": 15,
   "id": "f281819b",
   "metadata": {
    "ExecuteTime": {
     "end_time": "2022-12-01T07:30:56.479072Z",
     "start_time": "2022-12-01T07:30:56.464113Z"
    }
   },
   "outputs": [],
   "source": [
    "import warnings\n",
    "warnings.filterwarnings('ignore')\n",
    "import pandas as pd\n",
    "import seaborn as sns\n",
    "import matplotlib.pyplot as plt\n",
    "from sklearn.model_selection import train_test_split\n",
    "from sklearn.datasets import load_digits"
   ]
  },
  {
   "cell_type": "code",
   "execution_count": 6,
   "id": "8ef4690a",
   "metadata": {
    "ExecuteTime": {
     "end_time": "2022-12-01T07:19:04.522505Z",
     "start_time": "2022-12-01T07:19:04.439825Z"
    }
   },
   "outputs": [
    {
     "data": {
      "text/plain": [
       "['DESCR', 'data', 'feature_names', 'frame', 'images', 'target', 'target_names']"
      ]
     },
     "execution_count": 6,
     "metadata": {},
     "output_type": "execute_result"
    }
   ],
   "source": [
    "digits=load_digits()\n",
    "dir(digits)"
   ]
  },
  {
   "cell_type": "code",
   "execution_count": 7,
   "id": "b3e88811",
   "metadata": {
    "ExecuteTime": {
     "end_time": "2022-12-01T07:19:25.788178Z",
     "start_time": "2022-12-01T07:19:25.775919Z"
    }
   },
   "outputs": [
    {
     "data": {
      "text/plain": [
       "(1797, 64)"
      ]
     },
     "execution_count": 7,
     "metadata": {},
     "output_type": "execute_result"
    }
   ],
   "source": [
    "digits.data.shape"
   ]
  },
  {
   "cell_type": "code",
   "execution_count": 8,
   "id": "1546d0d9",
   "metadata": {
    "ExecuteTime": {
     "end_time": "2022-12-01T07:19:49.438955Z",
     "start_time": "2022-12-01T07:19:49.431683Z"
    }
   },
   "outputs": [
    {
     "data": {
      "text/plain": [
       "array([ 0.,  0.,  9., 14.,  8.,  1.,  0.,  0.,  0.,  0., 12., 14., 14.,\n",
       "       12.,  0.,  0.,  0.,  0.,  9., 10.,  0., 15.,  4.,  0.,  0.,  0.,\n",
       "        3., 16., 12., 14.,  2.,  0.,  0.,  0.,  4., 16., 16.,  2.,  0.,\n",
       "        0.,  0.,  3., 16.,  8., 10., 13.,  2.,  0.,  0.,  1., 15.,  1.,\n",
       "        3., 16.,  8.,  0.,  0.,  0., 11., 16., 15., 11.,  1.,  0.])"
      ]
     },
     "execution_count": 8,
     "metadata": {},
     "output_type": "execute_result"
    }
   ],
   "source": [
    "digits.data[8]"
   ]
  },
  {
   "cell_type": "markdown",
   "id": "e595bc1b",
   "metadata": {},
   "source": [
    "# Use Train and Test split()"
   ]
  },
  {
   "cell_type": "code",
   "execution_count": 11,
   "id": "9c4f06b1",
   "metadata": {
    "ExecuteTime": {
     "end_time": "2022-12-01T07:25:35.758579Z",
     "start_time": "2022-12-01T07:25:35.753295Z"
    }
   },
   "outputs": [],
   "source": [
    "# we can use the data for target and training the model\n",
    "# use the split the trainning and testing data\n",
    "X_train, X_test, y_train, y_test =train_test_split(digits.data,digits.target,test_size=0.3)"
   ]
  },
  {
   "cell_type": "code",
   "execution_count": 13,
   "id": "6ae40c7e",
   "metadata": {
    "ExecuteTime": {
     "end_time": "2022-12-01T07:28:00.154516Z",
     "start_time": "2022-12-01T07:28:00.144440Z"
    }
   },
   "outputs": [],
   "source": [
    "# for array of handwritten digits use X_train\n",
    "# for  y_train use digit"
   ]
  },
  {
   "cell_type": "markdown",
   "id": "8d2fb0fc",
   "metadata": {},
   "source": [
    "# Now creating the Logistic Regression Model"
   ]
  },
  {
   "cell_type": "code",
   "execution_count": 17,
   "id": "38b77ba4",
   "metadata": {
    "ExecuteTime": {
     "end_time": "2022-12-01T07:31:47.376865Z",
     "start_time": "2022-12-01T07:31:47.273138Z"
    }
   },
   "outputs": [
    {
     "data": {
      "text/plain": [
       "LogisticRegression()"
      ]
     },
     "execution_count": 17,
     "metadata": {},
     "output_type": "execute_result"
    }
   ],
   "source": [
    "from sklearn.linear_model import LogisticRegression\n",
    "model=LogisticRegression()\n",
    "model.fit(X_train,y_train)"
   ]
  },
  {
   "cell_type": "markdown",
   "id": "dc51a349",
   "metadata": {},
   "source": [
    "# Checking the Accuracy of the Model"
   ]
  },
  {
   "cell_type": "code",
   "execution_count": 19,
   "id": "a17cb694",
   "metadata": {
    "ExecuteTime": {
     "end_time": "2022-12-01T07:33:19.143277Z",
     "start_time": "2022-12-01T07:33:19.128283Z"
    }
   },
   "outputs": [
    {
     "data": {
      "text/plain": [
       "0.9592592592592593"
      ]
     },
     "execution_count": 19,
     "metadata": {},
     "output_type": "execute_result"
    }
   ],
   "source": [
    "model.score(X_test,y_test)"
   ]
  },
  {
   "cell_type": "code",
   "execution_count": 20,
   "id": "77fd884e",
   "metadata": {
    "ExecuteTime": {
     "end_time": "2022-12-01T07:34:03.616158Z",
     "start_time": "2022-12-01T07:34:03.448397Z"
    }
   },
   "outputs": [
    {
     "data": {
      "text/plain": [
       "<matplotlib.image.AxesImage at 0x1fa3571a6a0>"
      ]
     },
     "execution_count": 20,
     "metadata": {},
     "output_type": "execute_result"
    },
    {
     "data": {
      "image/png": "[encoded data removed]",
      "text/plain": [
       "<Figure size 288x288 with 1 Axes>"
      ]
     },
     "metadata": {
      "needs_background": "light"
     },
     "output_type": "display_data"
    }
   ],
   "source": [
    "# the coreesponding data for the image is 67\n",
    "# But the model gives 6\n",
    "plt.matshow(digits.images[67])"
   ]
  },
  {
   "cell_type": "code",
   "execution_count": 21,
   "id": "4fd38c6e",
   "metadata": {
    "ExecuteTime": {
     "end_time": "2022-12-01T07:37:16.472381Z",
     "start_time": "2022-12-01T07:37:16.464755Z"
    }
   },
   "outputs": [
    {
     "data": {
      "text/plain": [
       "array([0, 9, 5, 5, 6])"
      ]
     },
     "execution_count": 21,
     "metadata": {},
     "output_type": "execute_result"
    }
   ],
   "source": [
    "# for more predictions : let us predict digits for the data[30:35]\n",
    "model.predict(digits.data[30:35])"
   ]
  },
  {
   "cell_type": "code",
   "execution_count": 22,
   "id": "5ca9df7d",
   "metadata": {
    "ExecuteTime": {
     "end_time": "2022-12-01T07:37:52.562150Z",
     "start_time": "2022-12-01T07:37:52.553175Z"
    }
   },
   "outputs": [
    {
     "data": {
      "text/plain": [
       "array([0, 9, 5, 5, 6])"
      ]
     },
     "execution_count": 22,
     "metadata": {},
     "output_type": "execute_result"
    }
   ],
   "source": [
    "digits.target[30:35]"
   ]
  },
  {
   "cell_type": "code",
   "execution_count": 25,
   "id": "c5b1210b",
   "metadata": {
    "ExecuteTime": {
     "end_time": "2022-12-01T07:39:12.923185Z",
     "start_time": "2022-12-01T07:39:12.320795Z"
    }
   },
   "outputs": [
    {
     "data": {
      "text/plain": [
       "<Figure size 432x288 with 0 Axes>"
      ]
     },
     "metadata": {},
     "output_type": "display_data"
    },
    {
     "data": {
      "image/png": "[encoded data removed]",
      "text/plain": [
       "<Figure size 288x288 with 1 Axes>"
      ]
     },
     "metadata": {
      "needs_background": "light"
     },
     "output_type": "display_data"
    },
    {
     "data": {
      "image/png": "[encoded data removed]",
      "text/plain": [
       "<Figure size 288x288 with 1 Axes>"
      ]
     },
     "metadata": {
      "needs_background": "light"
     },
     "output_type": "display_data"
    },
    {
     "data": {
      "image/png": "[encoded data removed]",
      "text/plain": [
       "<Figure size 288x288 with 1 Axes>"
      ]
     },
     "metadata": {
      "needs_background": "light"
     },
     "output_type": "display_data"
    },
    {
     "data": {
      "image/png": "[encoded data removed]",
      "text/plain": [
       "<Figure size 288x288 with 1 Axes>"
      ]
     },
     "metadata": {
      "needs_background": "light"
     },
     "output_type": "display_data"
    },
    {
     "data": {
      "image/png": "[encoded data removed]",
      "text/plain": [
       "<Figure size 288x288 with 1 Axes>"
      ]
     },
     "metadata": {
      "needs_background": "light"
     },
     "output_type": "display_data"
    }
   ],
   "source": [
    "plt.gray()\n",
    "for i in range(30,35):\n",
    "    plt.matshow(digits.images[i])"
   ]
  },
  {
   "cell_type": "code",
   "execution_count": 27,
   "id": "b70a3e80",
   "metadata": {
    "ExecuteTime": {
     "end_time": "2022-12-01T07:40:07.033636Z",
     "start_time": "2022-12-01T07:40:07.017895Z"
    }
   },
   "outputs": [
    {
     "data": {
      "text/plain": [
       "array([6])"
      ]
     },
     "execution_count": 27,
     "metadata": {},
     "output_type": "execute_result"
    }
   ],
   "source": [
    "model.predict([digits.data[67]])"
   ]
  },
  {
   "cell_type": "code",
   "execution_count": 28,
   "id": "449c4921",
   "metadata": {
    "ExecuteTime": {
     "end_time": "2022-12-01T07:41:27.848414Z",
     "start_time": "2022-12-01T07:41:27.841315Z"
    }
   },
   "outputs": [
    {
     "data": {
      "text/plain": [
       "6"
      ]
     },
     "execution_count": 28,
     "metadata": {},
     "output_type": "execute_result"
    }
   ],
   "source": [
    "digits.target[67]"
   ]
  },
  {
   "cell_type": "code",
   "execution_count": 32,
   "id": "b27a4edd",
   "metadata": {
    "ExecuteTime": {
     "end_time": "2022-12-01T07:43:25.711505Z",
     "start_time": "2022-12-01T07:43:25.577139Z"
    }
   },
   "outputs": [
    {
     "data": {
      "text/plain": [
       "<matplotlib.image.AxesImage at 0x1fa40e108b0>"
      ]
     },
     "execution_count": 32,
     "metadata": {},
     "output_type": "execute_result"
    },
    {
     "data": {
      "image/png": "[encoded data removed]",
      "text/plain": [
       "<Figure size 288x288 with 1 Axes>"
      ]
     },
     "metadata": {
      "needs_background": "light"
     },
     "output_type": "display_data"
    }
   ],
   "source": [
    "plt.matshow(digits.images[67])"
   ]
  },
  {
   "cell_type": "markdown",
   "id": "5045a08a",
   "metadata": {},
   "source": [
    "# Lets create confusion matrix "
   ]
  },
  {
   "cell_type": "code",
   "execution_count": 33,
   "id": "ec3b1e76",
   "metadata": {
    "ExecuteTime": {
     "end_time": "2022-12-01T07:53:31.392270Z",
     "start_time": "2022-12-01T07:53:31.376107Z"
    }
   },
   "outputs": [
    {
     "data": {
      "text/plain": [
       "array([[57,  0,  0,  0,  0,  0,  0,  0,  0,  0],\n",
       "       [ 0, 59,  0,  0,  0,  0,  0,  0,  0,  1],\n",
       "       [ 0,  0, 49,  0,  0,  0,  0,  0,  0,  0],\n",
       "       [ 0,  0,  1, 51,  0,  3,  0,  0,  3,  2],\n",
       "       [ 0,  0,  0,  0, 61,  0,  0,  0,  1,  0],\n",
       "       [ 0,  0,  0,  0,  0, 46,  2,  0,  0,  1],\n",
       "       [ 0,  0,  0,  0,  0,  0, 49,  0,  0,  0],\n",
       "       [ 0,  0,  0,  0,  1,  0,  0, 56,  0,  0],\n",
       "       [ 0,  1,  0,  0,  0,  0,  0,  0, 46,  1],\n",
       "       [ 0,  3,  0,  0,  1,  1,  0,  0,  0, 44]], dtype=int64)"
      ]
     },
     "execution_count": 33,
     "metadata": {},
     "output_type": "execute_result"
    }
   ],
   "source": [
    "y_pred=model.predict(X_test)\n",
    "from sklearn.metrics import confusion_matrix\n",
    "cm=confusion_matrix(y_test,y_pred)\n",
    "cm"
   ]
  },
  {
   "cell_type": "code",
   "execution_count": 34,
   "id": "34fa746e",
   "metadata": {
    "ExecuteTime": {
     "end_time": "2022-12-01T07:54:01.135735Z",
     "start_time": "2022-12-01T07:54:00.753218Z"
    }
   },
   "outputs": [
    {
     "data": {
      "text/plain": [
       "<AxesSubplot:>"
      ]
     },
     "execution_count": 34,
     "metadata": {},
     "output_type": "execute_result"
    },
    {
     "data": {
      "image/png": "[encoded data removed]",
      "text/plain": [
       "<Figure size 432x288 with 2 Axes>"
      ]
     },
     "metadata": {
      "needs_background": "light"
     },
     "output_type": "display_data"
    }
   ],
   "source": [
    "sns.heatmap(cm,annot=True)"
   ]
  },
  {
   "cell_type": "code",
   "execution_count": null,
   "id": "d316f37e",
   "metadata": {},
   "outputs": [],
   "source": []
  }
 ],
 "metadata": {
  "kernelspec": {
   "display_name": "Python 3 (ipykernel)",
   "language": "python",
   "name": "python3"
  },
  "language_info": {
   "codemirror_mode": {
    "name": "ipython",
    "version": 3
   },
   "file_extension": ".py",
   "mimetype": "text/x-python",
   "name": "python",
   "nbconvert_exporter": "python",
   "pygments_lexer": "ipython3",
   "version": "3.9.12"
  }
 },
 "nbformat": 4,
 "nbformat_minor": 5
}
