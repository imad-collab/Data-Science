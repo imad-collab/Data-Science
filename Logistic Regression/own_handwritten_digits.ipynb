{
 "cells": [
  {
   "cell_type": "code",
   "execution_count": 2,
   "id": "60f41b49",
   "metadata": {
    "ExecuteTime": {
     "end_time": "2022-12-01T08:23:09.929167Z",
     "start_time": "2022-12-01T08:23:09.727714Z"
    }
   },
   "outputs": [],
   "source": [
    "import numpy as np\n",
    "from PIL import Image\n",
    "from PIL import ImageOps"
   ]
  },
  {
   "cell_type": "code",
   "execution_count": 4,
   "id": "cd85bc07",
   "metadata": {
    "ExecuteTime": {
     "end_time": "2022-12-01T08:26:42.936339Z",
     "start_time": "2022-12-01T08:26:42.921113Z"
    }
   },
   "outputs": [
    {
     "data": {
      "image/png": "[encoded data removed]",
      "text/plain": [
       "<PIL.Image.Image image mode=L size=32x32 at 0x29AF6C2E9D0>"
      ]
     },
     "execution_count": 4,
     "metadata": {},
     "output_type": "execute_result"
    }
   ],
   "source": [
    "img=Image.open('D:/test/4.png').convert('L')\n",
    "img"
   ]
  },
  {
   "cell_type": "code",
   "execution_count": 12,
   "id": "56923e2a",
   "metadata": {
    "ExecuteTime": {
     "end_time": "2022-12-01T08:29:47.011538Z",
     "start_time": "2022-12-01T08:29:47.001597Z"
    }
   },
   "outputs": [],
   "source": [
    "image_invert=ImageOps.invert(img)"
   ]
  },
  {
   "cell_type": "code",
   "execution_count": 13,
   "id": "0185e64c",
   "metadata": {
    "ExecuteTime": {
     "end_time": "2022-12-01T08:30:34.065510Z",
     "start_time": "2022-12-01T08:30:33.145093Z"
    }
   },
   "outputs": [
    {
     "data": {
      "text/plain": [
       "<matplotlib.image.AxesImage at 0x29afd9d7cd0>"
      ]
     },
     "execution_count": 13,
     "metadata": {},
     "output_type": "execute_result"
    },
    {
     "data": {
      "image/png": "[encoded data removed]",
      "text/plain": [
       "<Figure size 288x288 with 1 Axes>"
      ]
     },
     "metadata": {
      "needs_background": "light"
     },
     "output_type": "display_data"
    }
   ],
   "source": [
    "import matplotlib.pyplot as plt\n",
    "plt.matshow(image_invert)"
   ]
  },
  {
   "cell_type": "code",
   "execution_count": 15,
   "id": "03f77454",
   "metadata": {
    "ExecuteTime": {
     "end_time": "2022-12-01T08:31:16.167429Z",
     "start_time": "2022-12-01T08:31:16.153517Z"
    }
   },
   "outputs": [
    {
     "data": {
      "text/plain": [
       "array([[0, 0, 0, ..., 0, 0, 0],\n",
       "       [0, 0, 0, ..., 0, 0, 0],\n",
       "       [0, 0, 0, ..., 0, 0, 0],\n",
       "       ...,\n",
       "       [0, 0, 0, ..., 0, 0, 0],\n",
       "       [0, 0, 0, ..., 0, 0, 0],\n",
       "       [0, 0, 0, ..., 0, 0, 0]], dtype=uint8)"
      ]
     },
     "execution_count": 15,
     "metadata": {},
     "output_type": "execute_result"
    }
   ],
   "source": [
    "arr=np.array(image_invert)\n",
    "arr"
   ]
  },
  {
   "cell_type": "code",
   "execution_count": 17,
   "id": "7866402b",
   "metadata": {
    "ExecuteTime": {
     "end_time": "2022-12-01T08:31:45.671815Z",
     "start_time": "2022-12-01T08:31:45.656502Z"
    }
   },
   "outputs": [
    {
     "data": {
      "text/plain": [
       "array([0, 0, 0, ..., 0, 0, 0], dtype=uint8)"
      ]
     },
     "execution_count": 17,
     "metadata": {},
     "output_type": "execute_result"
    }
   ],
   "source": [
    "arr1=arr.flatten()\n",
    "arr1"
   ]
  },
  {
   "cell_type": "code",
   "execution_count": null,
   "id": "b3a81796",
   "metadata": {
    "ExecuteTime": {
     "end_time": "2022-12-01T08:34:25.870500Z",
     "start_time": "2022-12-01T08:34:25.840957Z"
    }
   },
   "outputs": [],
   "source": []
  },
  {
   "cell_type": "code",
   "execution_count": null,
   "id": "04d050da",
   "metadata": {},
   "outputs": [],
   "source": []
  }
 ],
 "metadata": {
  "kernelspec": {
   "display_name": "Python 3 (ipykernel)",
   "language": "python",
   "name": "python3"
  },
  "language_info": {
   "codemirror_mode": {
    "name": "ipython",
    "version": 3
   },
   "file_extension": ".py",
   "mimetype": "text/x-python",
   "name": "python",
   "nbconvert_exporter": "python",
   "pygments_lexer": "ipython3",
   "version": "3.9.12"
  }
 },
 "nbformat": 4,
 "nbformat_minor": 5
}
