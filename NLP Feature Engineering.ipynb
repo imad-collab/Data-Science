{
 "cells": [
  {
   "cell_type": "markdown",
   "id": "192b3a1f-0526-449d-a4b8-df4bd7858eae",
   "metadata": {},
   "source": [
    "Preprocessing"
   ]
  },
  {
   "cell_type": "code",
   "execution_count": 4,
   "id": "1e2dc1ce-8063-42cd-bf70-5fe4f7bc130f",
   "metadata": {},
   "outputs": [
    {
     "name": "stderr",
     "output_type": "stream",
     "text": [
      "[nltk_data] Downloading package punkt_tab to\n",
      "[nltk_data]     C:\\Users\\imad0\\AppData\\Roaming\\nltk_data...\n",
      "[nltk_data]   Unzipping tokenizers\\punkt_tab.zip.\n"
     ]
    },
    {
     "data": {
      "text/plain": [
       "True"
      ]
     },
     "execution_count": 4,
     "metadata": {},
     "output_type": "execute_result"
    }
   ],
   "source": [
    "import nltk\n",
    "nltk.download('punkt_tab')"
   ]
  },
  {
   "cell_type": "code",
   "execution_count": 7,
   "id": "86180f91-6c2d-4090-a61f-a9c595790683",
   "metadata": {},
   "outputs": [
    {
     "name": "stderr",
     "output_type": "stream",
     "text": [
      "[nltk_data] Downloading package stopwords to\n",
      "[nltk_data]     C:\\Users\\imad0\\AppData\\Roaming\\nltk_data...\n",
      "[nltk_data]   Unzipping corpora\\stopwords.zip.\n"
     ]
    },
    {
     "data": {
      "text/plain": [
       "True"
      ]
     },
     "execution_count": 7,
     "metadata": {},
     "output_type": "execute_result"
    }
   ],
   "source": [
    "import nltk\n",
    "nltk.download('stopwords')\n"
   ]
  },
  {
   "cell_type": "code",
   "execution_count": 1,
   "id": "f5c61153-1b1f-4e33-8d55-27ecd807e971",
   "metadata": {},
   "outputs": [],
   "source": [
    "from sklearn.feature_extraction.text import CountVectorizer\n",
    "from nltk.corpus import stopwords\n",
    "from nltk.tokenize import word_tokenize\n",
    "import string"
   ]
  },
  {
   "cell_type": "code",
   "execution_count": 2,
   "id": "5026970c-36d9-4096-b4eb-6dee4aad99c8",
   "metadata": {},
   "outputs": [],
   "source": [
    "# Sample text\n",
    "text = \"Natural Language Processing enables machines to understand human language.\""
   ]
  },
  {
   "cell_type": "code",
   "execution_count": 5,
   "id": "0cbe49e9-53f4-4014-be47-a212a99dd1af",
   "metadata": {},
   "outputs": [],
   "source": [
    "# Tokenization\n",
    "tokens = word_tokenize(text.lower())"
   ]
  },
  {
   "cell_type": "code",
   "execution_count": 8,
   "id": "be732a5e-bf41-48da-8bdd-12c66ebac8de",
   "metadata": {},
   "outputs": [],
   "source": [
    "# Remove punctuation and stopwords\n",
    "stop_words = set(stopwords.words('english'))\n",
    "tokens = [word for word in tokens if word not in stop_words and word not in string.punctuation]"
   ]
  },
  {
   "cell_type": "code",
   "execution_count": 9,
   "id": "8d58cc75-7ceb-4f96-b756-ed8e30cb1b4a",
   "metadata": {},
   "outputs": [
    {
     "name": "stdout",
     "output_type": "stream",
     "text": [
      "['natural', 'language', 'processing', 'enables', 'machines', 'understand', 'human', 'language']\n"
     ]
    }
   ],
   "source": [
    "print(tokens)"
   ]
  },
  {
   "cell_type": "markdown",
   "id": "741533b5-7cca-4ac5-b112-ce41ccff5c55",
   "metadata": {},
   "source": [
    "Bag of Words"
   ]
  },
  {
   "cell_type": "code",
   "execution_count": 10,
   "id": "4858b129-dc5d-4013-ac30-3cd0070460f9",
   "metadata": {},
   "outputs": [],
   "source": [
    "corpus = [\n",
    "    \"Natural Language Processing is fascinating.\",\n",
    "    \"Machines understand human language using NLP.\"\n",
    "]"
   ]
  },
  {
   "cell_type": "code",
   "execution_count": 11,
   "id": "80fcc69e-18bf-4b27-b3f6-406ba2d65afe",
   "metadata": {},
   "outputs": [],
   "source": [
    "vectorizer = CountVectorizer()\n",
    "bow = vectorizer.fit_transform(corpus)"
   ]
  },
  {
   "cell_type": "code",
   "execution_count": 12,
   "id": "b9fb87e4-1f55-404c-8040-d5567f97cecb",
   "metadata": {},
   "outputs": [
    {
     "name": "stdout",
     "output_type": "stream",
     "text": [
      "[[1 0 1 1 0 1 0 1 0 0]\n",
      " [0 1 0 1 1 0 1 0 1 1]]\n",
      "['fascinating' 'human' 'is' 'language' 'machines' 'natural' 'nlp'\n",
      " 'processing' 'understand' 'using']\n"
     ]
    }
   ],
   "source": [
    "print(bow.toarray())\n",
    "print(vectorizer.get_feature_names_out())"
   ]
  },
  {
   "cell_type": "markdown",
   "id": "6fb6cf85-df0d-4bcc-a179-f2a37e8b24d0",
   "metadata": {},
   "source": [
    "Word Embeddings:"
   ]
  },
  {
   "cell_type": "code",
   "execution_count": 14,
   "id": "6b9f6ffa-99d7-4f03-bac9-f30432dce1a1",
   "metadata": {},
   "outputs": [
    {
     "name": "stdout",
     "output_type": "stream",
     "text": [
      "Collecting gensim\n",
      "  Downloading gensim-4.3.3-cp311-cp311-win_amd64.whl.metadata (8.2 kB)\n",
      "Requirement already satisfied: numpy<2.0,>=1.18.5 in c:\\users\\imad0\\appdata\\local\\programs\\python\\python311\\lib\\site-packages (from gensim) (1.26.4)\n",
      "Requirement already satisfied: scipy<1.14.0,>=1.7.0 in c:\\users\\imad0\\appdata\\local\\programs\\python\\python311\\lib\\site-packages (from gensim) (1.13.0)\n",
      "Collecting smart-open>=1.8.1 (from gensim)\n",
      "  Downloading smart_open-7.0.5-py3-none-any.whl.metadata (24 kB)\n",
      "Requirement already satisfied: wrapt in c:\\users\\imad0\\appdata\\local\\programs\\python\\python311\\lib\\site-packages (from smart-open>=1.8.1->gensim) (1.16.0)\n",
      "Downloading gensim-4.3.3-cp311-cp311-win_amd64.whl (24.0 MB)\n",
      "   ---------------------------------------- 0.0/24.0 MB ? eta -:--:--\n",
      "   ---------------------------------------- 0.2/24.0 MB 3.1 MB/s eta 0:00:08\n",
      "   - -------------------------------------- 0.8/24.0 MB 10.0 MB/s eta 0:00:03\n",
      "   -- ------------------------------------- 1.4/24.0 MB 11.4 MB/s eta 0:00:02\n",
      "   --- ------------------------------------ 2.1/24.0 MB 12.0 MB/s eta 0:00:02\n",
      "   ---- ----------------------------------- 2.7/24.0 MB 12.3 MB/s eta 0:00:02\n",
      "   ----- ---------------------------------- 3.3/24.0 MB 12.5 MB/s eta 0:00:02\n",
      "   ------ --------------------------------- 3.9/24.0 MB 12.6 MB/s eta 0:00:02\n",
      "   ------- -------------------------------- 4.6/24.0 MB 12.8 MB/s eta 0:00:02\n",
      "   -------- ------------------------------- 4.8/24.0 MB 11.9 MB/s eta 0:00:02\n",
      "   -------- ------------------------------- 5.4/24.0 MB 11.9 MB/s eta 0:00:02\n",
      "   --------- ------------------------------ 6.0/24.0 MB 12.0 MB/s eta 0:00:02\n",
      "   ----------- ---------------------------- 6.7/24.0 MB 12.2 MB/s eta 0:00:02\n",
      "   ------------ --------------------------- 7.3/24.0 MB 12.3 MB/s eta 0:00:02\n",
      "   ------------- -------------------------- 7.9/24.0 MB 12.3 MB/s eta 0:00:02\n",
      "   -------------- ------------------------- 8.5/24.0 MB 12.4 MB/s eta 0:00:02\n",
      "   --------------- ------------------------ 9.2/24.0 MB 12.5 MB/s eta 0:00:02\n",
      "   ---------------- ----------------------- 9.8/24.0 MB 12.5 MB/s eta 0:00:02\n",
      "   ----------------- ---------------------- 10.4/24.0 MB 13.1 MB/s eta 0:00:02\n",
      "   ------------------ --------------------- 11.0/24.0 MB 13.4 MB/s eta 0:00:01\n",
      "   ------------------- -------------------- 11.7/24.0 MB 13.4 MB/s eta 0:00:01\n",
      "   -------------------- ------------------- 12.3/24.0 MB 13.1 MB/s eta 0:00:01\n",
      "   --------------------- ------------------ 12.9/24.0 MB 13.1 MB/s eta 0:00:01\n",
      "   ---------------------- ----------------- 13.5/24.0 MB 13.1 MB/s eta 0:00:01\n",
      "   ----------------------- ---------------- 14.2/24.0 MB 13.1 MB/s eta 0:00:01\n",
      "   ------------------------ --------------- 14.8/24.0 MB 13.1 MB/s eta 0:00:01\n",
      "   ------------------------- -------------- 15.4/24.0 MB 13.6 MB/s eta 0:00:01\n",
      "   -------------------------- ------------- 16.1/24.0 MB 13.6 MB/s eta 0:00:01\n",
      "   --------------------------- ------------ 16.7/24.0 MB 13.6 MB/s eta 0:00:01\n",
      "   ---------------------------- ----------- 17.3/24.0 MB 13.6 MB/s eta 0:00:01\n",
      "   ----------------------------- ---------- 17.9/24.0 MB 13.6 MB/s eta 0:00:01\n",
      "   ------------------------------ --------- 18.6/24.0 MB 13.6 MB/s eta 0:00:01\n",
      "   ------------------------------- -------- 19.2/24.0 MB 13.6 MB/s eta 0:00:01\n",
      "   --------------------------------- ------ 19.8/24.0 MB 13.6 MB/s eta 0:00:01\n",
      "   ---------------------------------- ----- 20.4/24.0 MB 13.4 MB/s eta 0:00:01\n",
      "   ----------------------------------- ---- 21.1/24.0 MB 13.6 MB/s eta 0:00:01\n",
      "   ------------------------------------ --- 21.7/24.0 MB 13.6 MB/s eta 0:00:01\n",
      "   ------------------------------------- -- 22.3/24.0 MB 13.4 MB/s eta 0:00:01\n",
      "   -------------------------------------- - 23.0/24.0 MB 13.4 MB/s eta 0:00:01\n",
      "   ---------------------------------------  23.6/24.0 MB 13.4 MB/s eta 0:00:01\n",
      "   ---------------------------------------  24.0/24.0 MB 13.4 MB/s eta 0:00:01\n",
      "   ---------------------------------------- 24.0/24.0 MB 12.6 MB/s eta 0:00:00\n",
      "Downloading smart_open-7.0.5-py3-none-any.whl (61 kB)\n",
      "   ---------------------------------------- 0.0/61.4 kB ? eta -:--:--\n",
      "   ---------------------------------------- 61.4/61.4 kB ? eta 0:00:00\n",
      "Installing collected packages: smart-open, gensim\n",
      "Successfully installed gensim-4.3.3 smart-open-7.0.5\n"
     ]
    },
    {
     "name": "stderr",
     "output_type": "stream",
     "text": [
      "\n",
      "[notice] A new release of pip is available: 24.0 -> 24.3.1\n",
      "[notice] To update, run: python.exe -m pip install --upgrade pip\n"
     ]
    }
   ],
   "source": [
    "!pip install gensim\n"
   ]
  },
  {
   "cell_type": "code",
   "execution_count": 15,
   "id": "e87b55a9-07e9-4f3d-b3e2-ef1343b36b7f",
   "metadata": {},
   "outputs": [],
   "source": [
    "from gensim.models import Word2Vec"
   ]
  },
  {
   "cell_type": "code",
   "execution_count": 16,
   "id": "29ca958d-0a62-47d0-b46f-702c8c014b69",
   "metadata": {},
   "outputs": [],
   "source": [
    "# Tokenized sentences\n",
    "sentences = [[\"natural\", \"language\", \"processing\"],\n",
    "             [\"machines\", \"understand\", \"language\"],\n",
    "             [\"human\", \"language\", \"using\", \"nlp\"]]"
   ]
  },
  {
   "cell_type": "code",
   "execution_count": 17,
   "id": "8de9a9d7-4e7d-461d-99b1-4ef2cbd3c510",
   "metadata": {},
   "outputs": [],
   "source": [
    "# Word2Vec Model\n",
    "model = Word2Vec(sentences, vector_size=50, window=3, min_count=1)"
   ]
  },
  {
   "cell_type": "code",
   "execution_count": 18,
   "id": "91cc71d3-b206-45be-b979-c430e1910bc1",
   "metadata": {},
   "outputs": [
    {
     "name": "stdout",
     "output_type": "stream",
     "text": [
      "[-1.0724545e-03  4.7286271e-04  1.0206699e-02  1.8018546e-02\n",
      " -1.8605899e-02 -1.4233618e-02  1.2917745e-02  1.7945977e-02\n",
      " -1.0030856e-02 -7.5267432e-03  1.4761009e-02 -3.0669428e-03\n",
      " -9.0732267e-03  1.3108104e-02 -9.7203208e-03 -3.6320353e-03\n",
      "  5.7531595e-03  1.9837476e-03 -1.6570430e-02 -1.8897636e-02\n",
      "  1.4623532e-02  1.0140524e-02  1.3515387e-02  1.5257311e-03\n",
      "  1.2701781e-02 -6.8107317e-03 -1.8928028e-03  1.1537147e-02\n",
      " -1.5043275e-02 -7.8722071e-03 -1.5023164e-02 -1.8600845e-03\n",
      "  1.9076237e-02 -1.4638334e-02 -4.6675373e-03 -3.8754821e-03\n",
      "  1.6154874e-02 -1.1861792e-02  9.0324880e-05 -9.5074680e-03\n",
      " -1.9207101e-02  1.0014586e-02 -1.7519170e-02 -8.7836506e-03\n",
      " -7.0199967e-05 -5.9236289e-04 -1.5322480e-02  1.9229487e-02\n",
      "  9.9641159e-03  1.8466286e-02]\n"
     ]
    }
   ],
   "source": [
    "# Get embedding for a word\n",
    "print(model.wv['language'])"
   ]
  },
  {
   "cell_type": "code",
   "execution_count": null,
   "id": "821798fd-02ff-42a2-b371-261fab8925e9",
   "metadata": {},
   "outputs": [],
   "source": []
  }
 ],
 "metadata": {
  "kernelspec": {
   "display_name": "Python 3 (ipykernel)",
   "language": "python",
   "name": "python3"
  },
  "language_info": {
   "codemirror_mode": {
    "name": "ipython",
    "version": 3
   },
   "file_extension": ".py",
   "mimetype": "text/x-python",
   "name": "python",
   "nbconvert_exporter": "python",
   "pygments_lexer": "ipython3",
   "version": "3.11.8"
  }
 },
 "nbformat": 4,
 "nbformat_minor": 5
}
